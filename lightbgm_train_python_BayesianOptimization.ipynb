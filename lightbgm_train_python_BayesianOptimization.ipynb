{
 "cells": [
  {
   "cell_type": "code",
   "execution_count": 1,
   "metadata": {
    "colab": {},
    "colab_type": "code",
    "id": "tgIZqKGkRE1t"
   },
   "outputs": [],
   "source": [
    "import numpy as np # linear algebra\n",
    "import pandas as pd # data processing, CSV file I/O (e.g. pd.read_csv)\n",
    "import matplotlib.pyplot as plt\n",
    "import seaborn as sns\n",
    "from sklearn.manifold import TSNE\n",
    "from sklearn.decomposition import PCA, TruncatedSVD\n",
    "from sklearn.metrics import confusion_matrix\n",
    "import matplotlib.patches as mpatches\n",
    "from sklearn.model_selection import train_test_split\n",
    "from sklearn.model_selection import StratifiedShuffleSplit\n",
    "from xgboost.sklearn import XGBClassifier\n",
    "import xgboost as xgb\n",
    "from sklearn.model_selection import GridSearchCV\n",
    "import lightgbm as lgb\n",
    "import os\n",
    "import time\n",
    "\n",
    "from sklearn.preprocessing import OneHotEncoder\n",
    "\n",
    "from sklearn.model_selection import KFold,GroupKFold,StratifiedKFold\n",
    "import copy\n",
    "from sklearn.preprocessing import LabelEncoder\n",
    "\n",
    "from sklearn.metrics import roc_auc_score\n",
    "from sklearn.metrics import roc_curve ,precision_recall_curve,log_loss,average_precision_score\n",
    "from sklearn.metrics import f1_score\n",
    "import random\n",
    "import gc\n",
    "\n",
    "%matplotlib inline"
   ]
  },
  {
   "cell_type": "code",
   "execution_count": 2,
   "metadata": {
    "colab": {
     "base_uri": "https://localhost:8080/",
     "height": 118
    },
    "colab_type": "code",
    "id": "ldQ7MZ9WRE15",
    "outputId": "89f95bdc-d488-4799-ef62-068262cae1fe",
    "scrolled": true
   },
   "outputs": [],
   "source": [
    "#df = reduce_mem_usage(pd.read_csv('/content/drive/My Drive/fraudremove/train.csv'))\n",
    "#df_test = reduce_mem_usage(pd.read_csv('/content/drive/My Drive/fraudremove/test.csv'))\n",
    "df_sortprob = pd.read_csv('df_sortprob_23_no_test.csv')\n",
    "df = pd.read_csv('train.csv')\n",
    "df_test = pd.read_csv('test.csv')"
   ]
  },
  {
   "cell_type": "code",
   "execution_count": 3,
   "metadata": {
    "colab": {},
    "colab_type": "code",
    "id": "43acOdimRE1_"
   },
   "outputs": [],
   "source": [
    "def show_cor(df1):\n",
    "    plt.figure(figsize = (20,20))\n",
    "    df_corr = df1.corr()\n",
    "    sns.heatmap(df_corr,fmt = '0.2f',annot = True,xticklabels=df_corr.columns,yticklabels=df_corr.columns,cmap=\"Reds\")\n",
    "    plt.show()"
   ]
  },
  {
   "cell_type": "code",
   "execution_count": 4,
   "metadata": {},
   "outputs": [],
   "source": [
    "# FREQUENCY ENCODE TOGETHER\n",
    "def encode_FE(df1, df2, cols):\n",
    "    for col in cols:\n",
    "        df = pd.concat([df1[col],df2[col]])\n",
    "        vc = df.value_counts(dropna=True, normalize=True).to_dict()\n",
    "        nm = col+'_FE'\n",
    "        df1[nm] = df1[col].map(vc)\n",
    "        df1[nm] = df1[nm].astype('float32')\n",
    "        df2[nm] = df2[col].map(vc)\n",
    "        df2[nm] = df2[nm].astype('float32')       \n",
    "        print(\"'\"+nm+\"'\",', ',end='')"
   ]
  },
  {
   "cell_type": "code",
   "execution_count": 5,
   "metadata": {
    "colab": {},
    "colab_type": "code",
    "id": "94Uv_tCFRE2O"
   },
   "outputs": [],
   "source": [
    "# LABEL ENCODE\n",
    "def encode_LE(cat_cols,train,test):\n",
    "    for col in cat_cols:\n",
    "        if col in train.columns:\n",
    "            le = LabelEncoder()\n",
    "            le.fit(list(train[col].astype(str).values) + list(test[col].astype(str).values))\n",
    "            train[col] = le.transform(list(train[col].astype(str).values))\n",
    "            test[col] = le.transform(list(test[col].astype(str).values))      "
   ]
  },
  {
   "cell_type": "code",
   "execution_count": 6,
   "metadata": {
    "colab": {},
    "colab_type": "code",
    "id": "0_GEIjJ2RE2V"
   },
   "outputs": [],
   "source": [
    "def group_ag(main_columns, uids, train_df, test_df, aggregations=['mean'],\n",
    "              fillna = True):\n",
    "    # AGGREGATION OF MAIN WITH UID FOR GIVEN STATISTICS\n",
    "    for main_column in main_columns:  \n",
    "        for col in uids:\n",
    "            for agg_type in aggregations:\n",
    "                new_col_name = main_column+'__'+col+'_'+agg_type\n",
    "                #拼接训练集和测试集\n",
    "                temp_df = pd.concat([train_df[[col, main_column]], test_df[[col,main_column]]])  \n",
    "                #求AGG\n",
    "                temp_df = temp_df.groupby([col])[main_column].agg([agg_type]).reset_index().rename(columns={agg_type: new_col_name})\n",
    "                # 取出目标列作为索引\n",
    "                temp_df.index = list(temp_df[col])\n",
    "                # 生成map对应的字典\n",
    "                temp_df = temp_df[new_col_name].to_dict()   \n",
    "\n",
    "                train_df[new_col_name] = train_df[col].map(temp_df).astype('float32')\n",
    "                test_df[new_col_name]  = test_df[col].map(temp_df).astype('float32')\n",
    "                \n",
    "                if fillna:\n",
    "                    train_df[new_col_name].fillna(-100,inplace=True)\n",
    "                    test_df[new_col_name].fillna(-100,inplace=True)  \n",
    "                    \n",
    "                print(\"'\"+new_col_name+\"'\",', ',end='')\n",
    "#group_ag(['conam'],['cano'],df,df_test,['mean','std'])\n",
    "#df['conam_cano_std'].value_counts()"
   ]
  },
  {
   "cell_type": "code",
   "execution_count": 7,
   "metadata": {
    "colab": {},
    "colab_type": "code",
    "id": "uKX1H8GzRE2c"
   },
   "outputs": [],
   "source": [
    "def fillna(df1,df2,col):\n",
    "    df1[col] = df1[col].map( {'Y': 1, 'N': 0} )\n",
    "    df2[col] = df2[col].map( {'Y': 1, 'N': 0} )\n",
    "    df1[col]=df1[col].fillna(-100)\n",
    "    df2[col]=df2[col].fillna(-100)     \n",
    "    print(df1[col].value_counts(dropna=False, normalize=True).head())     "
   ]
  },
  {
   "cell_type": "code",
   "execution_count": 8,
   "metadata": {},
   "outputs": [],
   "source": [
    "def fillNY(df1,df2,col):\n",
    "    df1[col] = df1[col].map( {'Y': 1, 'N': 0} )\n",
    "    df2[col] = df2[col].map( {'Y': 1, 'N': 0} )   \n",
    "    print(df1[col].value_counts(dropna=False, normalize=True).head())      "
   ]
  },
  {
   "cell_type": "code",
   "execution_count": 9,
   "metadata": {
    "colab": {},
    "colab_type": "code",
    "id": "YwWHzglGRE2l"
   },
   "outputs": [],
   "source": [
    "# COMBINE FEATURES\n",
    "def encode_CB(col1,col2,df1,df2):\n",
    "    nm = col1+'_'+col2\n",
    "    df1[nm] = df1[col1].astype(str)+'_'+df1[col2].astype(str)\n",
    "    df2[nm] = df2[col1].astype(str)+'_'+df2[col2].astype(str) \n",
    "    le = LabelEncoder()\n",
    "    le.fit(list(df[nm].astype(str).values) + list(df_test[nm].astype(str).values))\n",
    "    df[nm] = le.transform(list(df[nm].astype(str).values))\n",
    "    df_test[nm] = le.transform(list(df_test[nm].astype(str).values))\n",
    "    print(nm,', ',end='')"
   ]
  },
  {
   "cell_type": "code",
   "execution_count": 10,
   "metadata": {},
   "outputs": [
    {
     "data": {
      "text/plain": [
       "['contp', 'flbmk', 'flg_3dsmk', 'hcefg', 'insfg', 'iterm', 'ovrlt']"
      ]
     },
     "execution_count": 10,
     "metadata": {},
     "output_type": "execute_result"
    }
   ],
   "source": [
    "big_top_value_cols = [col for col in df.columns if df[col].value_counts(dropna=False, normalize=True).values[0] > 0.9]\n",
    "big_top_value_cols.remove('fraud_ind')\n",
    "big_top_value_cols.remove('stscd')\n",
    "#big_top_value_cols.remove('iterm')\n",
    "#big_top_value_cols.remove('hcefg')\n",
    "#big_top_value_cols.remove('contp')\n",
    "big_top_value_cols"
   ]
  },
  {
   "cell_type": "code",
   "execution_count": 11,
   "metadata": {
    "colab": {},
    "colab_type": "code",
    "id": "yDiJTXpIRE2s"
   },
   "outputs": [
    {
     "name": "stdout",
     "output_type": "stream",
     "text": [
      "0    0.972196\n",
      "1    0.027804\n",
      "Name: insfg, dtype: float64\n",
      "0    0.986693\n",
      "1    0.013307\n",
      "Name: ovrlt, dtype: float64\n",
      "0    0.745513\n",
      "1    0.254487\n",
      "Name: ecfg, dtype: float64\n",
      " 0.0      0.988399\n",
      "-100.0    0.008267\n",
      " 1.0      0.003334\n",
      "Name: flbmk, dtype: float64\n",
      " 0.0      0.949454\n",
      " 1.0      0.042279\n",
      "-100.0    0.008267\n",
      "Name: flg_3dsmk, dtype: float64\n"
     ]
    }
   ],
   "source": [
    "#not use label encoding\n",
    "fillNY(df,df_test,'insfg')\n",
    "fillNY(df,df_test,'ovrlt')\n",
    "fillNY(df,df_test,'ecfg')\n",
    "fillna(df,df_test,'flbmk')\n",
    "fillna(df,df_test,'flg_3dsmk')"
   ]
  },
  {
   "cell_type": "code",
   "execution_count": 12,
   "metadata": {
    "colab": {},
    "colab_type": "code",
    "id": "rzwAyqMBSG1T"
   },
   "outputs": [],
   "source": [
    "def change_time(data):\n",
    "    time = data['loctm']\n",
    "    hour = []\n",
    "    hour_min = []\n",
    "    minute = []\n",
    "    second = []\n",
    "    for i in time:        \n",
    "        h = int(i/10000)\n",
    "        h_m=int(i/100)\n",
    "        m = int(i%10000/100)\n",
    "        s = int(i%100)\n",
    "        hour.append(h)\n",
    "        hour_min.append(h_m)\n",
    "        minute.append(m)\n",
    "        second.append(s)\n",
    "    data['loctm_hour'] = hour\n",
    "    data['loctm_min'] = minute\n",
    "    data['loctm_s'] = second\n",
    "    data['loctm_hour_min'] = hour_min"
   ]
  },
  {
   "cell_type": "code",
   "execution_count": 13,
   "metadata": {
    "colab": {},
    "colab_type": "code",
    "id": "RMdnbSutSJS_"
   },
   "outputs": [],
   "source": [
    "def money_process(data):\n",
    "    log =[]\n",
    "    sqrt =[]\n",
    "    for i in data['conam']:\n",
    "        if(i==0):\n",
    "            sqrt.append(i)\n",
    "            log.append(i) \n",
    "        else:\n",
    "            l = np.log(i)\n",
    "            s = np.sqrt(i)\n",
    "            sqrt.append(s)\n",
    "            log.append(l)\n",
    "    #data['conam_log'] = log\n",
    "    data['conam_sqrt'] = sqrt  \n",
    "#money_process(df)\n",
    "#money_process(df_test)\n",
    "#print(df['conam_log'].head())"
   ]
  },
  {
   "cell_type": "code",
   "execution_count": 14,
   "metadata": {
    "colab": {},
    "colab_type": "code",
    "id": "b0QjIi9bRE3B"
   },
   "outputs": [
    {
     "name": "stdout",
     "output_type": "stream",
     "text": [
      "Index(['acqic', 'bacno', 'cano', 'conam', 'csmcu', 'ecfg', 'etymd',\n",
      "       'fraud_ind', 'locdt', 'loctm', 'mcc', 'mchno', 'scity', 'stocn',\n",
      "       'stscd', 'txkey', 'loctm_hour', 'loctm_min', 'loctm_s',\n",
      "       'loctm_hour_min'],\n",
      "      dtype='object')\n",
      "(1521787, 20)\n"
     ]
    }
   ],
   "source": [
    "change_time(df_sortprob)\n",
    "change_time(df)\n",
    "change_time(df_test)\n",
    "import copy\n",
    "df_sortprob=df_sortprob.drop(big_top_value_cols, axis=1)\n",
    "df=df.drop(big_top_value_cols, axis=1)\n",
    "df_test=df_test.drop(big_top_value_cols, axis=1)\n",
    "df_backup = copy.copy(df_sortprob)\n",
    "df_test_backup = copy.copy(df_test)\n",
    "print(df.columns)\n",
    "print(df.shape)"
   ]
  },
  {
   "cell_type": "code",
   "execution_count": 15,
   "metadata": {},
   "outputs": [],
   "source": [
    "# PR 曲线对比\n",
    "def show_pr():\n",
    "        l_pr,l_re,l_t = precision_recall_curve(y_valid_df,last_pred)\n",
    "        pr,re,t = precision_recall_curve(y_valid_df,pred)\n",
    "        plt.figure(figsize=(8,8))\n",
    "        plt.plot(l_pr,l_re,color='red',label='last best')\n",
    "        plt.plot(pr,re,color='green',label=\"now\")\n",
    "        plt.legend()\n",
    "        plt.show()"
   ]
  },
  {
   "cell_type": "markdown",
   "metadata": {
    "colab_type": "text",
    "id": "VFP92IJ4RE3P"
   },
   "source": [
    "## 從這裡開始"
   ]
  },
  {
   "cell_type": "code",
   "execution_count": 16,
   "metadata": {
    "colab": {
     "base_uri": "https://localhost:8080/",
     "height": 101
    },
    "colab_type": "code",
    "id": "giBLbj4eRE3R",
    "outputId": "52d972d3-2199-4d79-9178-e19beb6b904a"
   },
   "outputs": [
    {
     "name": "stdout",
     "output_type": "stream",
     "text": [
      "20\n",
      "19\n",
      "Index(['acqic', 'bacno', 'cano', 'conam', 'csmcu', 'ecfg', 'etymd',\n",
      "       'fraud_ind', 'locdt', 'loctm', 'mcc', 'mchno', 'scity', 'stocn',\n",
      "       'stscd', 'txkey', 'loctm_hour', 'loctm_min', 'loctm_s',\n",
      "       'loctm_hour_min'],\n",
      "      dtype='object')\n",
      "Index(['acqic', 'bacno', 'cano', 'conam', 'csmcu', 'ecfg', 'etymd', 'locdt',\n",
      "       'loctm', 'mcc', 'mchno', 'scity', 'stocn', 'stscd', 'txkey',\n",
      "       'loctm_hour', 'loctm_min', 'loctm_s', 'loctm_hour_min'],\n",
      "      dtype='object')\n"
     ]
    }
   ],
   "source": [
    "df = copy.copy(df_backup)\n",
    "df_test = copy.copy(df_test_backup)\n",
    "print(df.shape[1])\n",
    "print(df_test.shape[1])\n",
    "print(df.columns)\n",
    "print(df_test.columns)"
   ]
  },
  {
   "cell_type": "code",
   "execution_count": 17,
   "metadata": {},
   "outputs": [],
   "source": [
    "change_time(df)\n",
    "change_time(df_test)"
   ]
  },
  {
   "cell_type": "code",
   "execution_count": 18,
   "metadata": {},
   "outputs": [
    {
     "name": "stdout",
     "output_type": "stream",
     "text": [
      "bacno_cano , mcc_mchno , stocn_scity , stscd_csmcu , cano_mcc_mchno , "
     ]
    }
   ],
   "source": [
    "#新特徵\n",
    "encode_CB('bacno','cano',df,df_test) \n",
    "encode_CB('mcc','mchno',df,df_test)\n",
    "encode_CB('stocn','scity',df,df_test)\n",
    "encode_CB('stscd','csmcu',df,df_test)\n",
    "encode_CB('cano','mcc_mchno',df,df_test)\n",
    "\n"
   ]
  },
  {
   "cell_type": "code",
   "execution_count": 19,
   "metadata": {},
   "outputs": [
    {
     "name": "stdout",
     "output_type": "stream",
     "text": [
      "cano_acqic , cano_conam , cano_csmcu , cano_ecfg , cano_etymd , cano_locdt , cano_loctm , cano_mcc , cano_mchno , cano_scity , cano_stocn , cano_stscd , cano_loctm_hour , cano_loctm_min , cano_loctm_s , "
     ]
    }
   ],
   "source": [
    "cano_col=['acqic', 'conam', 'csmcu', 'ecfg', 'etymd',\n",
    "        'locdt', 'loctm', 'mcc', 'mchno', 'scity', 'stocn',\n",
    "       'stscd',  'loctm_hour', 'loctm_min', 'loctm_s']\n",
    "for col in cano_col:\n",
    "    encode_CB('cano',col,df,df_test)"
   ]
  },
  {
   "cell_type": "code",
   "execution_count": 20,
   "metadata": {
    "scrolled": true
   },
   "outputs": [
    {
     "name": "stdout",
     "output_type": "stream",
     "text": [
      "'cano_locdt_FE' , "
     ]
    }
   ],
   "source": [
    "count_features =['cano_locdt']   \n",
    "encode_FE(df,df_test,count_features)\n",
    "cf2 = ['cano_locdt_FE']"
   ]
  },
  {
   "cell_type": "code",
   "execution_count": 21,
   "metadata": {},
   "outputs": [
    {
     "name": "stdout",
     "output_type": "stream",
     "text": [
      "'acqic_FE' , 'bacno_FE' , 'cano_FE' , 'conam_FE' , 'csmcu_FE' , 'ecfg_FE' , 'etymd_FE' , 'mcc_FE' , 'mchno_FE' , 'scity_FE' , 'stocn_FE' , 'stscd_FE' , 'loctm_hour_FE' , 'stocn_scity_FE' , 'mcc_mchno_FE' , "
     ]
    }
   ],
   "source": [
    "count_features =['acqic', 'bacno', 'cano', 'conam',  'csmcu', 'ecfg', 'etymd',\n",
    "         'mcc', 'mchno',\n",
    "       'scity', 'stocn', 'stscd',  'loctm_hour', 'stocn_scity','mcc_mchno']   \n",
    "encode_FE(df,df_test,count_features)\n",
    "count_f =  [ 'acqic_FE' , 'bacno_FE' , 'cano_FE'  , 'csmcu_FE'\n",
    "      , 'scity_FE'   , \n",
    "       'loctm_hour_FE' , 'mcc_mchno_FE' , ]"
   ]
  },
  {
   "cell_type": "code",
   "execution_count": 22,
   "metadata": {},
   "outputs": [
    {
     "name": "stdout",
     "output_type": "stream",
     "text": [
      "'acqic__cano_mean' , 'acqic__cano_std' , 'conam__cano_mean' , 'conam__cano_std' , 'csmcu__cano_mean' , 'csmcu__cano_std' , 'ecfg__cano_mean' , 'ecfg__cano_std' , 'etymd__cano_mean' , 'etymd__cano_std' , 'mcc__cano_mean' , 'mcc__cano_std' , 'mchno__cano_mean' , 'mchno__cano_std' , 'scity__cano_mean' , 'scity__cano_std' , 'stocn__cano_mean' , 'stocn__cano_std' , 'stscd__cano_mean' , 'stscd__cano_std' , 'loctm_hour__cano_mean' , 'loctm_hour__cano_std' , 'stocn_scity__cano_mean' , 'stocn_scity__cano_std' , 'mcc_mchno__cano_mean' , 'mcc_mchno__cano_std' , "
     ]
    }
   ],
   "source": [
    "col1s =['acqic', 'conam',  'csmcu', 'ecfg', 'etymd',\n",
    "         'mcc', 'mchno',\n",
    "       'scity', 'stocn', 'stscd',  'loctm_hour', 'stocn_scity','mcc_mchno']\n",
    "for col in col1s:      \n",
    "    group_ag([col],['cano'],df,df_test,['mean','std'])  \n"
   ]
  },
  {
   "cell_type": "code",
   "execution_count": 23,
   "metadata": {},
   "outputs": [],
   "source": [
    "gf_cano =['acqic__cano_mean' , 'acqic__cano_std' , 'conam__cano_mean' , 'conam__cano_std' , 'csmcu__cano_mean' , 'csmcu__cano_std' , 'ecfg__cano_mean' , 'ecfg__cano_std' , 'etymd__cano_mean' , 'etymd__cano_std' , 'mcc__cano_mean' , 'mcc__cano_std' , 'mchno__cano_mean' , 'mchno__cano_std' , 'scity__cano_mean' , 'scity__cano_std' , 'stocn__cano_mean' , 'stocn__cano_std' , 'stscd__cano_mean' , 'stscd__cano_std' , 'loctm_hour__cano_mean' , 'loctm_hour__cano_std' , 'stocn_scity__cano_mean' , 'stocn_scity__cano_std' , 'mcc_mchno__cano_mean' , 'mcc_mchno__cano_std' , ]\n",
    "re_gf =['etymd__cano_std' ,'stscd__cano_std'  ]\n",
    "gf_cano = set(gf_cano) -set(re_gf)"
   ]
  },
  {
   "cell_type": "code",
   "execution_count": 24,
   "metadata": {},
   "outputs": [
    {
     "name": "stdout",
     "output_type": "stream",
     "text": [
      "'scity__cano_mcc_mean' , 'scity__cano_mcc_std' , 'etymd__cano_mcc_mean' , 'etymd__cano_mcc_std' , 'mcc_mchno__cano_mcc_mean' , 'mcc_mchno__cano_mcc_std' , 'csmcu__cano_mcc_mean' , 'csmcu__cano_mcc_std' , 'acqic__cano_mcc_mean' , 'acqic__cano_mcc_std' , 'stocn_scity__cano_mcc_mean' , 'stocn_scity__cano_mcc_std' , 'conam__cano_mcc_mean' , 'conam__cano_mcc_std' , 'mcc__cano_mcc_mean' , 'mcc__cano_mcc_std' , 'mchno__cano_mcc_mean' , 'mchno__cano_mcc_std' , 'stocn__cano_mcc_mean' , 'stocn__cano_mcc_std' , 'loctm_hour__cano_mcc_mean' , 'loctm_hour__cano_mcc_std' , 'stscd__cano_mcc_mean' , 'stscd__cano_mcc_std' , 'scity__cano_locdt_mean' , 'scity__cano_locdt_std' , 'etymd__cano_locdt_mean' , 'etymd__cano_locdt_std' , 'mcc_mchno__cano_locdt_mean' , 'mcc_mchno__cano_locdt_std' , 'csmcu__cano_locdt_mean' , 'csmcu__cano_locdt_std' , 'acqic__cano_locdt_mean' , 'acqic__cano_locdt_std' , 'stocn_scity__cano_locdt_mean' , 'stocn_scity__cano_locdt_std' , 'conam__cano_locdt_mean' , 'conam__cano_locdt_std' , 'mcc__cano_locdt_mean' , 'mcc__cano_locdt_std' , 'mchno__cano_locdt_mean' , 'mchno__cano_locdt_std' , 'stocn__cano_locdt_mean' , 'stocn__cano_locdt_std' , 'loctm_hour__cano_locdt_mean' , 'loctm_hour__cano_locdt_std' , 'stscd__cano_locdt_mean' , 'stscd__cano_locdt_std' , "
     ]
    }
   ],
   "source": [
    "re_num_2 =['ecfg']\n",
    "new = set(col1s)-set(re_num_2)\n",
    "for col in list(new):      \n",
    "    group_ag([col],['cano_mcc'],df,df_test,['mean','std']) \n",
    "for col in list(new):      \n",
    "    group_ag([col],['cano_locdt'],df,df_test,['mean','std']) "
   ]
  },
  {
   "cell_type": "code",
   "execution_count": 25,
   "metadata": {},
   "outputs": [],
   "source": [
    "gf_cano_mcc=[ 'loctm_hour__cano_mcc_mean' , 'loctm_hour__cano_mcc_std' , 'stocn__cano_mcc_mean' , 'stocn__cano_mcc_std' , 'stscd__cano_mcc_mean' , 'stscd__cano_mcc_std' , 'scity__cano_mcc_mean' , 'scity__cano_mcc_std' , 'conam__cano_mcc_mean' , 'conam__cano_mcc_std' ,  ]"
   ]
  },
  {
   "cell_type": "code",
   "execution_count": 26,
   "metadata": {},
   "outputs": [],
   "source": [
    "gf_cano_locdt=['etymd__cano_locdt_mean' , 'etymd__cano_locdt_std' , 'loctm_hour__cano_locdt_mean' , 'loctm_hour__cano_locdt_std' , 'stocn__cano_locdt_mean' , 'stocn__cano_locdt_std' , 'mcc_mchno__cano_locdt_mean' , 'mcc_mchno__cano_locdt_std' , 'mcc__cano_locdt_mean' , 'mcc__cano_locdt_std' , 'acqic__cano_locdt_mean' , 'acqic__cano_locdt_std' , 'csmcu__cano_locdt_mean' , 'csmcu__cano_locdt_std' , 'stocn_scity__cano_locdt_mean' , 'stocn_scity__cano_locdt_std' , 'stscd__cano_locdt_mean' , 'stscd__cano_locdt_std' , 'scity__cano_locdt_mean' , 'scity__cano_locdt_std' , 'conam__cano_locdt_mean' , 'conam__cano_locdt_std' , 'mchno__cano_locdt_mean' , 'mchno__cano_locdt_std' ,  ]"
   ]
  },
  {
   "cell_type": "code",
   "execution_count": 27,
   "metadata": {
    "colab": {
     "base_uri": "https://localhost:8080/",
     "height": 1000
    },
    "colab_type": "code",
    "id": "Rl6BM6R6RE3Z",
    "outputId": "2cd8c9b8-3688-4591-b2ce-3bacdc8dbec3",
    "scrolled": true
   },
   "outputs": [
    {
     "name": "stdout",
     "output_type": "stream",
     "text": [
      "79\n",
      "Index(['acqic', 'acqic_FE', 'acqic__cano_locdt_mean', 'acqic__cano_locdt_std',\n",
      "       'acqic__cano_mean', 'acqic__cano_std', 'bacno_FE', 'cano_FE',\n",
      "       'cano_locdt_FE', 'conam', 'conam__cano_locdt_mean',\n",
      "       'conam__cano_locdt_std', 'conam__cano_mcc_mean', 'conam__cano_mcc_std',\n",
      "       'conam__cano_mean', 'conam__cano_std', 'csmcu', 'csmcu_FE',\n",
      "       'csmcu__cano_locdt_mean', 'csmcu__cano_locdt_std', 'csmcu__cano_mean',\n",
      "       'csmcu__cano_std', 'ecfg', 'ecfg__cano_mean', 'ecfg__cano_std', 'etymd',\n",
      "       'etymd__cano_locdt_mean', 'etymd__cano_locdt_std', 'etymd__cano_mean',\n",
      "       'loctm_hour', 'loctm_hour_FE', 'loctm_hour__cano_locdt_mean',\n",
      "       'loctm_hour__cano_locdt_std', 'loctm_hour__cano_mcc_mean',\n",
      "       'loctm_hour__cano_mcc_std', 'loctm_hour__cano_mean',\n",
      "       'loctm_hour__cano_std', 'mcc', 'mcc__cano_locdt_mean',\n",
      "       'mcc__cano_locdt_std', 'mcc__cano_mean', 'mcc__cano_std', 'mcc_mchno',\n",
      "       'mcc_mchno_FE', 'mcc_mchno__cano_locdt_mean',\n",
      "       'mcc_mchno__cano_locdt_std', 'mcc_mchno__cano_mean',\n",
      "       'mcc_mchno__cano_std', 'mchno', 'mchno__cano_locdt_mean',\n",
      "       'mchno__cano_locdt_std', 'mchno__cano_mean', 'mchno__cano_std', 'scity',\n",
      "       'scity_FE', 'scity__cano_locdt_mean', 'scity__cano_locdt_std',\n",
      "       'scity__cano_mcc_mean', 'scity__cano_mcc_std', 'scity__cano_mean',\n",
      "       'scity__cano_std', 'stocn', 'stocn__cano_locdt_mean',\n",
      "       'stocn__cano_locdt_std', 'stocn__cano_mcc_mean', 'stocn__cano_mcc_std',\n",
      "       'stocn__cano_mean', 'stocn__cano_std', 'stocn_scity',\n",
      "       'stocn_scity__cano_locdt_mean', 'stocn_scity__cano_locdt_std',\n",
      "       'stocn_scity__cano_mean', 'stocn_scity__cano_std', 'stscd',\n",
      "       'stscd__cano_locdt_mean', 'stscd__cano_locdt_std',\n",
      "       'stscd__cano_mcc_mean', 'stscd__cano_mcc_std', 'stscd__cano_mean'],\n",
      "      dtype='object')\n"
     ]
    }
   ],
   "source": [
    "model1_features =['acqic', 'conam',  'csmcu', 'ecfg', 'etymd',\n",
    "       'mcc', 'mchno', 'scity', 'stocn',\n",
    "       'stscd', 'loctm_hour','stocn_scity','mcc_mchno' ]\n",
    "#remove_f = ['contp','iterm','hcefg']\n",
    "temp = model1_features+count_f+cf2+list(gf_cano)+list(gf_cano_locdt)+list(gf_cano_mcc)\n",
    "model1_features= list(temp.copy())\n",
    "model1_features.sort()\n",
    "X_train = df[model1_features]\n",
    "Y_train = df['fraud_ind']\n",
    "X_test = df_test[model1_features]\n",
    "#print(model1_features)\n",
    "print(X_train.shape[1])\n",
    "print(X_train.columns)\n",
    "#show_cor(df[model1_features])"
   ]
  },
  {
   "cell_type": "code",
   "execution_count": 28,
   "metadata": {},
   "outputs": [],
   "source": [
    "import time\n",
    "predictions = np.zeros(len(X_test))"
   ]
  },
  {
   "cell_type": "code",
   "execution_count": 29,
   "metadata": {
    "colab": {},
    "colab_type": "code",
    "id": "O3yTtetWRE3d"
   },
   "outputs": [],
   "source": [
    "seed = 42#default 42\n",
    "np.random.seed(seed)\n",
    "random.seed(seed)\n",
    "params = {'num_leaves': 499,\n",
    "          'min_child_weight': 0.009009297771374483,\n",
    "          'feature_fraction': 0.8931730501715401,\n",
    "          'bagging_fraction': 0.8249551970384116,#subsample\n",
    "          'min_data_in_leaf': 120,\n",
    "          'objective': 'binary',\n",
    "          'max_depth': 47,\n",
    "          'learning_rate': 0.1,         \n",
    "          \"bagging_seed\": 11,\n",
    "          \"metric\": 'auc',        \n",
    "          'reg_alpha': 1.1690935357787136, #lambda_l1 \n",
    "          'reg_lambda': 1.119698800271026,  #lambda_l2\n",
    "          'n_jobs':16, #num_threads \n",
    "          'device': 'gpu',\n",
    "          'gpu_platform_id': 1,\n",
    "          'gpu_device_id': 0,\n",
    "          'seed': seed,         \n",
    "          #'cat_smooth '   \n",
    "          'is_unbalance': True,\n",
    "          'gpu_use_dp' : True\n",
    "          #'scale_pos_weight':79.8717361224713\n",
    "         }\n"
   ]
  },
  {
   "cell_type": "code",
   "execution_count": 30,
   "metadata": {},
   "outputs": [],
   "source": [
    "from bayes_opt import BayesianOptimization\n",
    "#Bayesian Optimization function for xgboost\n",
    "#specify the parameters you want to tune as keyword arguments\n",
    "def bo_tune_lgb(max_depth,min_child_weight,subsample,feature_fraction,reg_alpha,reg_lambda):   \n",
    "    params = {'num_leaves': 499,\n",
    "          'min_child_weight': int(min_child_weight),\n",
    "          'feature_fraction': feature_fraction,\n",
    "          'bagging_fraction': subsample,#subsample\n",
    "          'min_data_in_leaf': 120,\n",
    "          'objective': 'binary',\n",
    "          'max_depth':int(max_depth),\n",
    "          'learning_rate': 0.02,         \n",
    "          \"bagging_seed\": 11,\n",
    "          \"metric\": 'auc',        \n",
    "          'reg_alpha': reg_alpha, #lambda_l1 \n",
    "          'reg_lambda': reg_lambda,  #lambda_l2\n",
    "          'n_jobs':16, #num_threads \n",
    "          'device': 'gpu',\n",
    "          'gpu_platform_id': 1,\n",
    "          'gpu_device_id': 3,\n",
    "          'seed': 42,         \n",
    "          #'cat_smooth '   \n",
    "          'is_unbalance': True,\n",
    "          'gpu_use_dp' : True\n",
    "          #'scale_pos_weight':79.8717361224713\n",
    "         }\n",
    "    ltrain = lgb.Dataset(X_train, label=Y_train)    \n",
    "    #Cross validating with the specified parameters in 5 folds and  iterations\n",
    "    cv_result = lgb.cv(params, ltrain, num_boost_round=100000, early_stopping_rounds=200, nfold=3)    \n",
    "    return cv_result['auc-mean'][0]"
   ]
  },
  {
   "cell_type": "code",
   "execution_count": 31,
   "metadata": {},
   "outputs": [
    {
     "name": "stdout",
     "output_type": "stream",
     "text": [
      "|   iter    |  target   | featur... | max_depth | min_ch... | reg_alpha | reg_la... | subsample |\n",
      "-------------------------------------------------------------------------------------------------\n",
      "| \u001b[0m 1       \u001b[0m | \u001b[0m 0.9772  \u001b[0m | \u001b[0m 0.8067  \u001b[0m | \u001b[0m 48.56   \u001b[0m | \u001b[0m 7.206   \u001b[0m | \u001b[0m 3.953   \u001b[0m | \u001b[0m 3.731   \u001b[0m | \u001b[0m 0.943   \u001b[0m |\n",
      "| \u001b[95m 2       \u001b[0m | \u001b[95m 0.9772  \u001b[0m | \u001b[95m 0.8528  \u001b[0m | \u001b[95m 49.67   \u001b[0m | \u001b[95m 4.542   \u001b[0m | \u001b[95m 2.449   \u001b[0m | \u001b[95m 3.856   \u001b[0m | \u001b[95m 0.6408  \u001b[0m |\n",
      "| \u001b[0m 3       \u001b[0m | \u001b[0m 0.9768  \u001b[0m | \u001b[0m 0.9223  \u001b[0m | \u001b[0m 47.7    \u001b[0m | \u001b[0m 7.312   \u001b[0m | \u001b[0m 5.832   \u001b[0m | \u001b[0m 4.298   \u001b[0m | \u001b[0m 0.9469  \u001b[0m |\n",
      "| \u001b[95m 4       \u001b[0m | \u001b[95m 0.9797  \u001b[0m | \u001b[95m 0.9345  \u001b[0m | \u001b[95m 48.7    \u001b[0m | \u001b[95m 7.204   \u001b[0m | \u001b[95m 7.442   \u001b[0m | \u001b[95m 1.049   \u001b[0m | \u001b[95m 0.9751  \u001b[0m |\n",
      "| \u001b[0m 5       \u001b[0m | \u001b[0m 0.9778  \u001b[0m | \u001b[0m 0.8702  \u001b[0m | \u001b[0m 48.36   \u001b[0m | \u001b[0m 6.872   \u001b[0m | \u001b[0m 6.749   \u001b[0m | \u001b[0m 3.308   \u001b[0m | \u001b[0m 0.7844  \u001b[0m |\n",
      "| \u001b[0m 6       \u001b[0m | \u001b[0m 0.9747  \u001b[0m | \u001b[0m 0.6338  \u001b[0m | \u001b[0m 48.51   \u001b[0m | \u001b[0m 7.139   \u001b[0m | \u001b[0m 1.242   \u001b[0m | \u001b[0m 3.868   \u001b[0m | \u001b[0m 0.7471  \u001b[0m |\n",
      "| \u001b[0m 7       \u001b[0m | \u001b[0m 0.9769  \u001b[0m | \u001b[0m 0.673   \u001b[0m | \u001b[0m 49.87   \u001b[0m | \u001b[0m 1.223   \u001b[0m | \u001b[0m 5.429   \u001b[0m | \u001b[0m 2.663   \u001b[0m | \u001b[0m 0.6922  \u001b[0m |\n",
      "| \u001b[0m 8       \u001b[0m | \u001b[0m 0.9789  \u001b[0m | \u001b[0m 0.8825  \u001b[0m | \u001b[0m 48.67   \u001b[0m | \u001b[0m 1.155   \u001b[0m | \u001b[0m 7.903   \u001b[0m | \u001b[0m 1.318   \u001b[0m | \u001b[0m 0.8112  \u001b[0m |\n",
      "| \u001b[95m 9       \u001b[0m | \u001b[95m 0.9815  \u001b[0m | \u001b[95m 0.7298  \u001b[0m | \u001b[95m 49.88   \u001b[0m | \u001b[95m 7.578   \u001b[0m | \u001b[95m 7.977   \u001b[0m | \u001b[95m 0.09159 \u001b[0m | \u001b[95m 0.6334  \u001b[0m |\n",
      "| \u001b[0m 10      \u001b[0m | \u001b[0m 0.9806  \u001b[0m | \u001b[0m 0.6246  \u001b[0m | \u001b[0m 49.84   \u001b[0m | \u001b[0m 7.778   \u001b[0m | \u001b[0m 7.707   \u001b[0m | \u001b[0m 0.1694  \u001b[0m | \u001b[0m 0.7801  \u001b[0m |\n",
      "| \u001b[0m 11      \u001b[0m | \u001b[0m 0.9815  \u001b[0m | \u001b[0m 0.7318  \u001b[0m | \u001b[0m 49.82   \u001b[0m | \u001b[0m 7.665   \u001b[0m | \u001b[0m 7.895   \u001b[0m | \u001b[0m 0.1279  \u001b[0m | \u001b[0m 0.7833  \u001b[0m |\n",
      "| \u001b[95m 12      \u001b[0m | \u001b[95m 0.9818  \u001b[0m | \u001b[95m 0.8546  \u001b[0m | \u001b[95m 49.73   \u001b[0m | \u001b[95m 7.896   \u001b[0m | \u001b[95m 7.904   \u001b[0m | \u001b[95m 0.07962 \u001b[0m | \u001b[95m 0.6188  \u001b[0m |\n",
      "| \u001b[0m 13      \u001b[0m | \u001b[0m 0.9816  \u001b[0m | \u001b[0m 0.9317  \u001b[0m | \u001b[0m 47.52   \u001b[0m | \u001b[0m 7.961   \u001b[0m | \u001b[0m 7.938   \u001b[0m | \u001b[0m 0.09555 \u001b[0m | \u001b[0m 0.7375  \u001b[0m |\n",
      "=================================================================================================\n"
     ]
    }
   ],
   "source": [
    "#Invoking the Bayesian Optimizer with the specified parameters to tune\n",
    "lgb_bo = BayesianOptimization(bo_tune_lgb, {'max_depth': (47,50 ),                                             \n",
    "                                             'min_child_weight':(1,8),\n",
    "                                            'subsample':(0.6,1),\n",
    "                                            'feature_fraction':(0.6,0.95),\n",
    "                                            'reg_alpha':(0.05,8),\n",
    "                                            'reg_lambda':(0.05,5),\n",
    "                                            })\n",
    "\n",
    "#performing Bayesian optimization for 5 iterations with 8 steps of random exploration with an #acquisition function of expected improvement\n",
    "lgb_bo.maximize(n_iter=5, init_points=8, acq='ei')"
   ]
  },
  {
   "cell_type": "code",
   "execution_count": 32,
   "metadata": {},
   "outputs": [
    {
     "name": "stdout",
     "output_type": "stream",
     "text": [
      "{'feature_fraction': 0.9493868722989898, 'max_depth': 47.59222270323076, 'min_child_weight': 7.580352257554229, 'reg_alpha': 1.1777712961671483, 'reg_lambda': 0.8164215582564447, 'subsample': 0.6607606332160749}\n"
     ]
    }
   ],
   "source": [
    "#Extracting the best parameters\n",
    "params = lgb_bo.max['params']\n",
    "print(params)"
   ]
  },
  {
   "cell_type": "code",
   "execution_count": 33,
   "metadata": {},
   "outputs": [
    {
     "ename": "NameError",
     "evalue": "name 'y_valid_df' is not defined",
     "output_type": "error",
     "traceback": [
      "\u001b[0;31m---------------------------------------------------------------------------\u001b[0m",
      "\u001b[0;31mNameError\u001b[0m                                 Traceback (most recent call last)",
      "\u001b[0;32m<ipython-input-33-5e80ac823f4c>\u001b[0m in \u001b[0;36m<module>\u001b[0;34m\u001b[0m\n\u001b[1;32m      1\u001b[0m \u001b[0mpred_file_path\u001b[0m \u001b[0;34m=\u001b[0m \u001b[0;34m'compare.csv'\u001b[0m\u001b[0;34m\u001b[0m\u001b[0;34m\u001b[0m\u001b[0m\n\u001b[1;32m      2\u001b[0m \u001b[0mlast_pred\u001b[0m \u001b[0;34m=\u001b[0m \u001b[0mnp\u001b[0m\u001b[0;34m.\u001b[0m\u001b[0marray\u001b[0m\u001b[0;34m(\u001b[0m\u001b[0mpd\u001b[0m\u001b[0;34m.\u001b[0m\u001b[0mread_csv\u001b[0m\u001b[0;34m(\u001b[0m\u001b[0mpred_file_path\u001b[0m\u001b[0;34m)\u001b[0m\u001b[0;34m)\u001b[0m\u001b[0;34m\u001b[0m\u001b[0;34m\u001b[0m\u001b[0m\n\u001b[0;32m----> 3\u001b[0;31m \u001b[0mprint\u001b[0m\u001b[0;34m(\u001b[0m \u001b[0;34m\"last  auc = \"\u001b[0m\u001b[0;34m,\u001b[0m \u001b[0mroc_auc_score\u001b[0m\u001b[0;34m(\u001b[0m\u001b[0my_valid_df\u001b[0m\u001b[0;34m,\u001b[0m \u001b[0mlast_pred\u001b[0m\u001b[0;34m)\u001b[0m \u001b[0;34m)\u001b[0m\u001b[0;34m\u001b[0m\u001b[0;34m\u001b[0m\u001b[0m\n\u001b[0m\u001b[1;32m      4\u001b[0m \u001b[0;31m# ROC 曲线对比\u001b[0m\u001b[0;34m\u001b[0m\u001b[0;34m\u001b[0m\u001b[0;34m\u001b[0m\u001b[0m\n\u001b[1;32m      5\u001b[0m \u001b[0ml_fpr\u001b[0m\u001b[0;34m,\u001b[0m\u001b[0ml_tpr\u001b[0m\u001b[0;34m,\u001b[0m\u001b[0ml_t\u001b[0m \u001b[0;34m=\u001b[0m \u001b[0mroc_curve\u001b[0m\u001b[0;34m(\u001b[0m\u001b[0my_valid_df\u001b[0m\u001b[0;34m,\u001b[0m\u001b[0mlast_pred\u001b[0m\u001b[0;34m)\u001b[0m\u001b[0;34m\u001b[0m\u001b[0;34m\u001b[0m\u001b[0m\n",
      "\u001b[0;31mNameError\u001b[0m: name 'y_valid_df' is not defined"
     ]
    }
   ],
   "source": [
    "pred_file_path = 'compare.csv'\n",
    "last_pred = np.array(pd.read_csv(pred_file_path))\n",
    "print( \"last  auc = \", roc_auc_score(y_valid_df, last_pred) )  \n",
    "# ROC 曲线对比\n",
    "l_fpr,l_tpr,l_t = roc_curve(y_valid_df,last_pred)\n",
    "fpr,tpr,t = roc_curve(y_valid_df,pred)\n",
    "plt.figure(figsize=(6,6))\n",
    "plt.plot(l_fpr,l_tpr,color='red',label='last best')\n",
    "plt.plot(fpr,tpr,color='green',label=\"now\")\n",
    "plt.legend()  "
   ]
  },
  {
   "cell_type": "code",
   "execution_count": null,
   "metadata": {},
   "outputs": [],
   "source": [
    "# PR 曲线对比\n",
    "l_pr,l_re,l_t = precision_recall_curve(y_valid_df,last_pred)\n",
    "pr,re,t = precision_recall_curve(y_valid_df,pred)\n",
    "plt.figure(figsize=(8,8))\n",
    "plt.plot(l_pr,l_re,color='red',label='last best')\n",
    "plt.plot(pr,re,color='green',label=\"now\")\n",
    "plt.legend() "
   ]
  },
  {
   "cell_type": "code",
   "execution_count": null,
   "metadata": {},
   "outputs": [],
   "source": [
    "plt.plot(l_t,l_pr[:-1],color='red',label='last best')\n",
    "plt.plot(l_t,l_re[:-1],color='red')\n",
    "plt.legend() \n",
    "plt.plot(t,pr[:-1],color='green',label=\"now\")\n",
    "plt.plot(t,re[:-1],color='green')\n",
    "plt.legend() "
   ]
  },
  {
   "cell_type": "markdown",
   "metadata": {},
   "source": [
    "## 是否将存为新指标"
   ]
  },
  {
   "cell_type": "code",
   "execution_count": null,
   "metadata": {},
   "outputs": [],
   "source": [
    "'''是否将存为新指标'''\n",
    "print(\"save  file...\")\n",
    "last_pred = pd.DataFrame({'pred':pred})\n",
    "last_pred.to_csv('compare.csv',index=None)"
   ]
  },
  {
   "cell_type": "code",
   "execution_count": null,
   "metadata": {},
   "outputs": [],
   "source": [
    "precision_now, recall_now, thresholds_now = precision_recall_curve(y_valid_df, pred)"
   ]
  },
  {
   "cell_type": "code",
   "execution_count": null,
   "metadata": {},
   "outputs": [],
   "source": [
    "# 获取最佳 阈值方法 \n",
    "def get_threshold(pre,rec,threshold):\n",
    "    thold = []\n",
    "    for i in range(len(threshold)):\n",
    "        if round(pre[i],4)== round(rec[i],4):\n",
    "            thold.append(threshold[i]) \n",
    "    return thold\n",
    "pr,re,t = precision_recall_curve(Y_train,Y_valid)\n",
    "#thold = get_threshold(pr,re,t)"
   ]
  },
  {
   "cell_type": "markdown",
   "metadata": {},
   "source": [
    "## train start!"
   ]
  },
  {
   "cell_type": "code",
   "execution_count": 37,
   "metadata": {
    "colab": {
     "base_uri": "https://localhost:8080/",
     "height": 1000
    },
    "colab_type": "code",
    "id": "nKN_ppP0RE3g",
    "outputId": "18a0a30d-7234-497c-df01-935369319055",
    "scrolled": true
   },
   "outputs": [
    {
     "name": "stdout",
     "output_type": "stream",
     "text": [
      "(1521787, 79)\n",
      "train feature  Index(['acqic', 'acqic_FE', 'acqic__cano_locdt_mean', 'acqic__cano_locdt_std',\n",
      "       'acqic__cano_mean', 'acqic__cano_std', 'bacno_FE', 'cano_FE',\n",
      "       'cano_locdt_FE', 'conam', 'conam__cano_locdt_mean',\n",
      "       'conam__cano_locdt_std', 'conam__cano_mcc_mean', 'conam__cano_mcc_std',\n",
      "       'conam__cano_mean', 'conam__cano_std', 'csmcu', 'csmcu_FE',\n",
      "       'csmcu__cano_locdt_mean', 'csmcu__cano_locdt_std', 'csmcu__cano_mean',\n",
      "       'csmcu__cano_std', 'ecfg', 'ecfg__cano_mean', 'ecfg__cano_std', 'etymd',\n",
      "       'etymd__cano_locdt_mean', 'etymd__cano_locdt_std', 'etymd__cano_mean',\n",
      "       'loctm_hour', 'loctm_hour_FE', 'loctm_hour__cano_locdt_mean',\n",
      "       'loctm_hour__cano_locdt_std', 'loctm_hour__cano_mcc_mean',\n",
      "       'loctm_hour__cano_mcc_std', 'loctm_hour__cano_mean',\n",
      "       'loctm_hour__cano_std', 'mcc', 'mcc__cano_locdt_mean',\n",
      "       'mcc__cano_locdt_std', 'mcc__cano_mean', 'mcc__cano_std', 'mcc_mchno',\n",
      "       'mcc_mchno_FE', 'mcc_mchno__cano_locdt_mean',\n",
      "       'mcc_mchno__cano_locdt_std', 'mcc_mchno__cano_mean',\n",
      "       'mcc_mchno__cano_std', 'mchno', 'mchno__cano_locdt_mean',\n",
      "       'mchno__cano_locdt_std', 'mchno__cano_mean', 'mchno__cano_std', 'scity',\n",
      "       'scity_FE', 'scity__cano_locdt_mean', 'scity__cano_locdt_std',\n",
      "       'scity__cano_mcc_mean', 'scity__cano_mcc_std', 'scity__cano_mean',\n",
      "       'scity__cano_std', 'stocn', 'stocn__cano_locdt_mean',\n",
      "       'stocn__cano_locdt_std', 'stocn__cano_mcc_mean', 'stocn__cano_mcc_std',\n",
      "       'stocn__cano_mean', 'stocn__cano_std', 'stocn_scity',\n",
      "       'stocn_scity__cano_locdt_mean', 'stocn_scity__cano_locdt_std',\n",
      "       'stocn_scity__cano_mean', 'stocn_scity__cano_std', 'stscd',\n",
      "       'stscd__cano_locdt_mean', 'stscd__cano_locdt_std',\n",
      "       'stscd__cano_mcc_mean', 'stscd__cano_mcc_std', 'stscd__cano_mean'],\n",
      "      dtype='object')\n",
      "____________________________________________________________________________________________________\n",
      "Fold 0\n",
      "  confusion_matrix = \n",
      " [[498818   1453]\n",
      " [  2082   4982]]\n"
     ]
    },
    {
     "data": {
      "image/png": "[encoded data removed]",
      "text/plain": [
       "<Figure size 432x288 with 1 Axes>"
      ]
     },
     "metadata": {
      "needs_background": "light"
     },
     "output_type": "display_data"
    },
    {
     "name": "stdout",
     "output_type": "stream",
     "text": [
      "____________________________________________________________________________________________________\n",
      "Fold 1\n",
      "  confusion_matrix = \n",
      " [[498987   1361]\n",
      " [  1959   4871]]\n"
     ]
    },
    {
     "data": {
      "image/png": "[encoded data removed]",
      "text/plain": [
       "<Figure size 432x288 with 1 Axes>"
      ]
     },
     "metadata": {
      "needs_background": "light"
     },
     "output_type": "display_data"
    },
    {
     "name": "stdout",
     "output_type": "stream",
     "text": [
      "____________________________________________________________________________________________________\n",
      "Fold 2\n",
      "  confusion_matrix = \n",
      " [[499220   1593]\n",
      " [  1733   4728]]\n"
     ]
    },
    {
     "data": {
      "image/png": "[encoded data removed]",
      "text/plain": [
       "<Figure size 432x288 with 1 Axes>"
      ]
     },
     "metadata": {
      "needs_background": "light"
     },
     "output_type": "display_data"
    },
    {
     "ename": "FileNotFoundError",
     "evalue": "[Errno 2] File b'compare_fold.csv' does not exist: b'compare_fold.csv'",
     "output_type": "error",
     "traceback": [
      "\u001b[0;31m---------------------------------------------------------------------------\u001b[0m",
      "\u001b[0;31mFileNotFoundError\u001b[0m                         Traceback (most recent call last)",
      "\u001b[0;32m<ipython-input-37-7a00e2f8e30b>\u001b[0m in \u001b[0;36m<module>\u001b[0;34m\u001b[0m\n\u001b[1;32m     58\u001b[0m     \u001b[0mplt\u001b[0m\u001b[0;34m.\u001b[0m\u001b[0mshow\u001b[0m\u001b[0;34m(\u001b[0m\u001b[0;34m)\u001b[0m\u001b[0;34m\u001b[0m\u001b[0;34m\u001b[0m\u001b[0m\n\u001b[1;32m     59\u001b[0m \u001b[0mpred_file_path\u001b[0m \u001b[0;34m=\u001b[0m \u001b[0;34m'compare_fold.csv'\u001b[0m\u001b[0;34m\u001b[0m\u001b[0;34m\u001b[0m\u001b[0m\n\u001b[0;32m---> 60\u001b[0;31m \u001b[0mlast_oof\u001b[0m \u001b[0;34m=\u001b[0m \u001b[0mnp\u001b[0m\u001b[0;34m.\u001b[0m\u001b[0marray\u001b[0m\u001b[0;34m(\u001b[0m\u001b[0mpd\u001b[0m\u001b[0;34m.\u001b[0m\u001b[0mread_csv\u001b[0m\u001b[0;34m(\u001b[0m\u001b[0mpred_file_path\u001b[0m\u001b[0;34m)\u001b[0m\u001b[0;34m)\u001b[0m\u001b[0;34m\u001b[0m\u001b[0;34m\u001b[0m\u001b[0m\n\u001b[0m\u001b[1;32m     61\u001b[0m \u001b[0mprint\u001b[0m\u001b[0;34m(\u001b[0m \u001b[0;34m\"avg  auc = \"\u001b[0m\u001b[0;34m,\u001b[0m \u001b[0mauc_avg\u001b[0m\u001b[0;34m/\u001b[0m \u001b[0msplits\u001b[0m \u001b[0;34m)\u001b[0m\u001b[0;34m\u001b[0m\u001b[0;34m\u001b[0m\u001b[0m\n\u001b[1;32m     62\u001b[0m \u001b[0mprint\u001b[0m\u001b[0;34m(\u001b[0m \u001b[0;34m\"avg  f1 = \"\u001b[0m\u001b[0;34m,\u001b[0m \u001b[0mf1_avg\u001b[0m\u001b[0;34m/\u001b[0m \u001b[0msplits\u001b[0m\u001b[0;34m)\u001b[0m\u001b[0;34m\u001b[0m\u001b[0;34m\u001b[0m\u001b[0m\n",
      "\u001b[0;32m~/.conda/envs/KIWI/lib/python3.7/site-packages/pandas/io/parsers.py\u001b[0m in \u001b[0;36mparser_f\u001b[0;34m(filepath_or_buffer, sep, delimiter, header, names, index_col, usecols, squeeze, prefix, mangle_dupe_cols, dtype, engine, converters, true_values, false_values, skipinitialspace, skiprows, skipfooter, nrows, na_values, keep_default_na, na_filter, verbose, skip_blank_lines, parse_dates, infer_datetime_format, keep_date_col, date_parser, dayfirst, cache_dates, iterator, chunksize, compression, thousands, decimal, lineterminator, quotechar, quoting, doublequote, escapechar, comment, encoding, dialect, error_bad_lines, warn_bad_lines, delim_whitespace, low_memory, memory_map, float_precision)\u001b[0m\n\u001b[1;32m    683\u001b[0m         )\n\u001b[1;32m    684\u001b[0m \u001b[0;34m\u001b[0m\u001b[0m\n\u001b[0;32m--> 685\u001b[0;31m         \u001b[0;32mreturn\u001b[0m \u001b[0m_read\u001b[0m\u001b[0;34m(\u001b[0m\u001b[0mfilepath_or_buffer\u001b[0m\u001b[0;34m,\u001b[0m \u001b[0mkwds\u001b[0m\u001b[0;34m)\u001b[0m\u001b[0;34m\u001b[0m\u001b[0;34m\u001b[0m\u001b[0m\n\u001b[0m\u001b[1;32m    686\u001b[0m \u001b[0;34m\u001b[0m\u001b[0m\n\u001b[1;32m    687\u001b[0m     \u001b[0mparser_f\u001b[0m\u001b[0;34m.\u001b[0m\u001b[0m__name__\u001b[0m \u001b[0;34m=\u001b[0m \u001b[0mname\u001b[0m\u001b[0;34m\u001b[0m\u001b[0;34m\u001b[0m\u001b[0m\n",
      "\u001b[0;32m~/.conda/envs/KIWI/lib/python3.7/site-packages/pandas/io/parsers.py\u001b[0m in \u001b[0;36m_read\u001b[0;34m(filepath_or_buffer, kwds)\u001b[0m\n\u001b[1;32m    455\u001b[0m \u001b[0;34m\u001b[0m\u001b[0m\n\u001b[1;32m    456\u001b[0m     \u001b[0;31m# Create the parser.\u001b[0m\u001b[0;34m\u001b[0m\u001b[0;34m\u001b[0m\u001b[0;34m\u001b[0m\u001b[0m\n\u001b[0;32m--> 457\u001b[0;31m     \u001b[0mparser\u001b[0m \u001b[0;34m=\u001b[0m \u001b[0mTextFileReader\u001b[0m\u001b[0;34m(\u001b[0m\u001b[0mfp_or_buf\u001b[0m\u001b[0;34m,\u001b[0m \u001b[0;34m**\u001b[0m\u001b[0mkwds\u001b[0m\u001b[0;34m)\u001b[0m\u001b[0;34m\u001b[0m\u001b[0;34m\u001b[0m\u001b[0m\n\u001b[0m\u001b[1;32m    458\u001b[0m \u001b[0;34m\u001b[0m\u001b[0m\n\u001b[1;32m    459\u001b[0m     \u001b[0;32mif\u001b[0m \u001b[0mchunksize\u001b[0m \u001b[0;32mor\u001b[0m \u001b[0miterator\u001b[0m\u001b[0;34m:\u001b[0m\u001b[0;34m\u001b[0m\u001b[0;34m\u001b[0m\u001b[0m\n",
      "\u001b[0;32m~/.conda/envs/KIWI/lib/python3.7/site-packages/pandas/io/parsers.py\u001b[0m in \u001b[0;36m__init__\u001b[0;34m(self, f, engine, **kwds)\u001b[0m\n\u001b[1;32m    893\u001b[0m             \u001b[0mself\u001b[0m\u001b[0;34m.\u001b[0m\u001b[0moptions\u001b[0m\u001b[0;34m[\u001b[0m\u001b[0;34m\"has_index_names\"\u001b[0m\u001b[0;34m]\u001b[0m \u001b[0;34m=\u001b[0m \u001b[0mkwds\u001b[0m\u001b[0;34m[\u001b[0m\u001b[0;34m\"has_index_names\"\u001b[0m\u001b[0;34m]\u001b[0m\u001b[0;34m\u001b[0m\u001b[0;34m\u001b[0m\u001b[0m\n\u001b[1;32m    894\u001b[0m \u001b[0;34m\u001b[0m\u001b[0m\n\u001b[0;32m--> 895\u001b[0;31m         \u001b[0mself\u001b[0m\u001b[0;34m.\u001b[0m\u001b[0m_make_engine\u001b[0m\u001b[0;34m(\u001b[0m\u001b[0mself\u001b[0m\u001b[0;34m.\u001b[0m\u001b[0mengine\u001b[0m\u001b[0;34m)\u001b[0m\u001b[0;34m\u001b[0m\u001b[0;34m\u001b[0m\u001b[0m\n\u001b[0m\u001b[1;32m    896\u001b[0m \u001b[0;34m\u001b[0m\u001b[0m\n\u001b[1;32m    897\u001b[0m     \u001b[0;32mdef\u001b[0m \u001b[0mclose\u001b[0m\u001b[0;34m(\u001b[0m\u001b[0mself\u001b[0m\u001b[0;34m)\u001b[0m\u001b[0;34m:\u001b[0m\u001b[0;34m\u001b[0m\u001b[0;34m\u001b[0m\u001b[0m\n",
      "\u001b[0;32m~/.conda/envs/KIWI/lib/python3.7/site-packages/pandas/io/parsers.py\u001b[0m in \u001b[0;36m_make_engine\u001b[0;34m(self, engine)\u001b[0m\n\u001b[1;32m   1133\u001b[0m     \u001b[0;32mdef\u001b[0m \u001b[0m_make_engine\u001b[0m\u001b[0;34m(\u001b[0m\u001b[0mself\u001b[0m\u001b[0;34m,\u001b[0m \u001b[0mengine\u001b[0m\u001b[0;34m=\u001b[0m\u001b[0;34m\"c\"\u001b[0m\u001b[0;34m)\u001b[0m\u001b[0;34m:\u001b[0m\u001b[0;34m\u001b[0m\u001b[0;34m\u001b[0m\u001b[0m\n\u001b[1;32m   1134\u001b[0m         \u001b[0;32mif\u001b[0m \u001b[0mengine\u001b[0m \u001b[0;34m==\u001b[0m \u001b[0;34m\"c\"\u001b[0m\u001b[0;34m:\u001b[0m\u001b[0;34m\u001b[0m\u001b[0;34m\u001b[0m\u001b[0m\n\u001b[0;32m-> 1135\u001b[0;31m             \u001b[0mself\u001b[0m\u001b[0;34m.\u001b[0m\u001b[0m_engine\u001b[0m \u001b[0;34m=\u001b[0m \u001b[0mCParserWrapper\u001b[0m\u001b[0;34m(\u001b[0m\u001b[0mself\u001b[0m\u001b[0;34m.\u001b[0m\u001b[0mf\u001b[0m\u001b[0;34m,\u001b[0m \u001b[0;34m**\u001b[0m\u001b[0mself\u001b[0m\u001b[0;34m.\u001b[0m\u001b[0moptions\u001b[0m\u001b[0;34m)\u001b[0m\u001b[0;34m\u001b[0m\u001b[0;34m\u001b[0m\u001b[0m\n\u001b[0m\u001b[1;32m   1136\u001b[0m         \u001b[0;32melse\u001b[0m\u001b[0;34m:\u001b[0m\u001b[0;34m\u001b[0m\u001b[0;34m\u001b[0m\u001b[0m\n\u001b[1;32m   1137\u001b[0m             \u001b[0;32mif\u001b[0m \u001b[0mengine\u001b[0m \u001b[0;34m==\u001b[0m \u001b[0;34m\"python\"\u001b[0m\u001b[0;34m:\u001b[0m\u001b[0;34m\u001b[0m\u001b[0;34m\u001b[0m\u001b[0m\n",
      "\u001b[0;32m~/.conda/envs/KIWI/lib/python3.7/site-packages/pandas/io/parsers.py\u001b[0m in \u001b[0;36m__init__\u001b[0;34m(self, src, **kwds)\u001b[0m\n\u001b[1;32m   1915\u001b[0m         \u001b[0mkwds\u001b[0m\u001b[0;34m[\u001b[0m\u001b[0;34m\"usecols\"\u001b[0m\u001b[0;34m]\u001b[0m \u001b[0;34m=\u001b[0m \u001b[0mself\u001b[0m\u001b[0;34m.\u001b[0m\u001b[0musecols\u001b[0m\u001b[0;34m\u001b[0m\u001b[0;34m\u001b[0m\u001b[0m\n\u001b[1;32m   1916\u001b[0m \u001b[0;34m\u001b[0m\u001b[0m\n\u001b[0;32m-> 1917\u001b[0;31m         \u001b[0mself\u001b[0m\u001b[0;34m.\u001b[0m\u001b[0m_reader\u001b[0m \u001b[0;34m=\u001b[0m \u001b[0mparsers\u001b[0m\u001b[0;34m.\u001b[0m\u001b[0mTextReader\u001b[0m\u001b[0;34m(\u001b[0m\u001b[0msrc\u001b[0m\u001b[0;34m,\u001b[0m \u001b[0;34m**\u001b[0m\u001b[0mkwds\u001b[0m\u001b[0;34m)\u001b[0m\u001b[0;34m\u001b[0m\u001b[0;34m\u001b[0m\u001b[0m\n\u001b[0m\u001b[1;32m   1918\u001b[0m         \u001b[0mself\u001b[0m\u001b[0;34m.\u001b[0m\u001b[0munnamed_cols\u001b[0m \u001b[0;34m=\u001b[0m \u001b[0mself\u001b[0m\u001b[0;34m.\u001b[0m\u001b[0m_reader\u001b[0m\u001b[0;34m.\u001b[0m\u001b[0munnamed_cols\u001b[0m\u001b[0;34m\u001b[0m\u001b[0;34m\u001b[0m\u001b[0m\n\u001b[1;32m   1919\u001b[0m \u001b[0;34m\u001b[0m\u001b[0m\n",
      "\u001b[0;32mpandas/_libs/parsers.pyx\u001b[0m in \u001b[0;36mpandas._libs.parsers.TextReader.__cinit__\u001b[0;34m()\u001b[0m\n",
      "\u001b[0;32mpandas/_libs/parsers.pyx\u001b[0m in \u001b[0;36mpandas._libs.parsers.TextReader._setup_parser_source\u001b[0;34m()\u001b[0m\n",
      "\u001b[0;31mFileNotFoundError\u001b[0m: [Errno 2] File b'compare_fold.csv' does not exist: b'compare_fold.csv'"
     ]
    }
   ],
   "source": [
    "    tStart = time.time()#計時開始   \n",
    "    feature_importances = pd.DataFrame()\n",
    "    feature_importances['feature'] = X_train.columns\n",
    "    splits = 3\n",
    "    oof = np.zeros(len(X_train))\n",
    "    folds = KFold(n_splits = splits)\n",
    "    folds = GroupKFold(n_splits=splits)\n",
    "    ##folds = StratifiedKFold(n_splits=splits, shuffle=True, random_state=SEED)\n",
    "    split_groups = df['locdt'] #group\n",
    "    #split_groups = df['fraud_ind'] #startifiedkfold   \n",
    "    f1_avg = 0\n",
    "    auc_avg = 0\n",
    "    predictions = np.zeros(len(X_test))\n",
    "    print(X_train.shape)\n",
    "    print('train feature ',X_train.columns)\n",
    "    #for fold_, (trn_idx, val_idx) in enumerate(folds.split(X_train, Y_train)): #kfold\n",
    "    for fold_, (trn_idx, val_idx) in enumerate(folds.split(X_train, Y_train,groups=split_groups)): #groupkfold and startifiedfold\n",
    "        print('_'*100)\n",
    "    \n",
    "        print(\"Fold {}\".format(fold_))\n",
    "        \n",
    "        train_df, y_train_df = X_train.iloc[trn_idx], Y_train.iloc[trn_idx]\n",
    "        valid_df, y_valid_df = X_train.iloc[val_idx], Y_train.iloc[val_idx]\n",
    "        \n",
    "        \n",
    "        trn_data = lgb.Dataset(train_df, label=y_train_df)\n",
    "        val_data = lgb.Dataset(valid_df, label=y_valid_df)\n",
    "    \n",
    "        clf = lgb.train(params,\n",
    "                    trn_data,\n",
    "                    num_boost_round= 200000,\n",
    "                    valid_sets = [trn_data, val_data],\n",
    "                    # categorical_feature=cat_cols,\n",
    "                    verbose_eval=0,\n",
    "                    early_stopping_rounds =200 )\n",
    "        pred = clf.predict(valid_df)\n",
    "        oof[val_idx] = pred\n",
    "        #print(pred[0])\n",
    "        feature_importances['fold_{}'.format(fold_ + 1)] = clf.feature_importance()\n",
    "    \n",
    "        #print( \"  auc = \", roc_auc_score(y_valid_df, pred) )    \n",
    "        threshold = 0.5\n",
    "        y_pre = [int(item>threshold) for  item in pred]   \n",
    "        #print( \"  f1 = \", f1_score(y_valid_df, y_pre))\n",
    "        print( \"  confusion_matrix = \\r\\n\", confusion_matrix(y_valid_df, y_pre) )\n",
    "        auc_avg+= roc_auc_score(y_valid_df, pred)\n",
    "        f1_avg+=f1_score(y_valid_df, y_pre)\n",
    "        \n",
    "        predictions += clf.predict(X_test) / splits\n",
    "        del trn_data, val_data\n",
    "        gc.collect()\n",
    "   \n",
    "        prediction = [int(item>threshold) for  item in predictions]    \n",
    " \n",
    "        plt.hist(y_pre,bins=100)\n",
    "        plt.ylim((0,6000))\n",
    "        plt.title('predict Submission')\n",
    "        plt.show()\n",
    "    pred_file_path = 'compare_fold.csv'\n",
    "    last_oof = np.array(pd.read_csv(pred_file_path))  \n",
    "    print( \"avg  auc = \", auc_avg/ splits )\n",
    "    print( \"avg  f1 = \", f1_avg/ splits)\n",
    "    print( \"last oof  auc = \", roc_auc_score(Y_train, last_oof) )\n",
    "    print( \"oof  auc = \", roc_auc_score(Y_train, oof) )  \n",
    "    last_oof_threshold = [int(item>0.5) for  item in last_oof] \n",
    "    oof_threshold = [int(item>0.5) for  item in oof]\n",
    "    print( \"last oof  f1 = \", f1_score(Y_train, last_oof_threshold))\n",
    "    print( \"oof  f1 = \", f1_score(Y_train, oof_threshold))\n",
    "    print( \"last oof  average_precision = \",average_precision_score(Y_train,last_oof))\n",
    "    print( \"oof  average_precision = \",average_precision_score(Y_train,oof))\n",
    "    print( \"confusion_matrix =\")\n",
    "    print(confusion_matrix(Y_train, oof_threshold))\n",
    "   \n",
    "    plt.hist(oof,bins=100)\n",
    "    plt.ylim((0,5000))\n",
    "    plt.title('Submission')\n",
    "    plt.show()  \n",
    "    tEnd = time.time()#計時結束\n",
    "    #列印結果\n",
    "    if(roc_auc_score(Y_train, last_oof)<roc_auc_score(Y_train, oof)):\n",
    "        print(\"auc improve\")\n",
    "    if(f1_score(Y_train, last_oof_threshold)<f1_score(Y_train, oof_threshold)):\n",
    "        print(\"f1 improve\")\n",
    "    if(average_precision_score(Y_train,last_oof)<average_precision_score(Y_train,oof)):\n",
    "        print('ap improve')\n",
    "    print (\"It cost %f sec\" % (tEnd - tStart))#會自動做近位\n",
    "    "
   ]
  },
  {
   "cell_type": "code",
   "execution_count": null,
   "metadata": {},
   "outputs": [],
   "source": [
    "# PR 曲线对比\n",
    "l_pr,l_re,l_t = precision_recall_curve(Y_train,last_oof)\n",
    "pr,re,t = precision_recall_curve(Y_train,oof)\n",
    "plt.figure(figsize=(8,8))\n",
    "plt.plot(l_pr,l_re,color='red',label='last best')\n",
    "plt.plot(pr,re,color='green',label=\"now\")\n",
    "plt.legend() \n",
    "plt.show()"
   ]
  },
  {
   "cell_type": "code",
   "execution_count": null,
   "metadata": {},
   "outputs": [],
   "source": [
    "print(\"down h3erer\")"
   ]
  },
  {
   "cell_type": "code",
   "execution_count": null,
   "metadata": {
    "colab": {
     "base_uri": "https://localhost:8080/",
     "height": 1000
    },
    "colab_type": "code",
    "id": "Np9HjRVgSvvk",
    "outputId": "44da0d17-1ac7-498e-ebf2-5856e9eb194a"
   },
   "outputs": [],
   "source": [
    "feature_imp = pd.DataFrame(sorted(zip(clf.feature_importance(),model1_features)), columns=['Value','Feature'])\n",
    "plt.figure(figsize=(20, 10))\n",
    "sns.barplot(x=\"Value\", y=\"Feature\", data=feature_imp.sort_values(by=\"Value\", ascending=False).iloc[:100])\n",
    "plt.title('Most Important Features')\n",
    "plt.tight_layout()\n",
    "plt.show()"
   ]
  },
  {
   "cell_type": "code",
   "execution_count": null,
   "metadata": {
    "colab": {
     "base_uri": "https://localhost:8080/",
     "height": 634
    },
    "colab_type": "code",
    "id": "o268qqoARE3l",
    "outputId": "2c66bc77-1508-4c47-fe0a-286b48f2c5ab"
   },
   "outputs": [],
   "source": [
    "# 结果保存\n",
    "plt.hist(prediction,bins=100)\n",
    "plt.ylim((0,5000))\n",
    "plt.title('Submission')\n",
    "plt.show()\n",
    "sampleSubmission = pd.read_csv('submission_test_sample.csv')\n",
    "sampleSubmission['fraud_ind'] = prediction\n",
    "sampleSubmission.to_csv('submission_test.csv',index = None)\n",
    "print('testdata =',df_test['txkey'].count())\n",
    "print('1.34% of testdata =',round(df_test['txkey'].count()*0.0134))\n",
    "print('fraud predict =',sampleSubmission['fraud_ind'].value_counts()[1])\n"
   ]
  },
  {
   "cell_type": "code",
   "execution_count": null,
   "metadata": {},
   "outputs": [],
   "source": [
    "'''是否将存为新指标'''\n",
    "print(\"save  file...\")\n",
    "last_pred = pd.DataFrame({'pred':oof})\n",
    "last_pred.to_csv('compare_fold.csv',index=None)"
   ]
  },
  {
   "cell_type": "code",
   "execution_count": null,
   "metadata": {},
   "outputs": [],
   "source": [
    "seed_num=[42,1121,10,934151515,29595,4462,520,777,1562323,999,915]\n",
    "for i in seed_num:\n",
    "    params['seed']= i\n",
    "    print(params['seed'])\n",
    "    ####################################\n",
    "    #######################################################\n",
    "    # PR 曲线对比\n",
    "    l_pr,l_re,l_t = precision_recall_curve(Y_train,last_oof)\n",
    "    pr,re,t = precision_recall_curve(Y_train,oof)\n",
    "    plt.figure(figsize=(8,8))\n",
    "    plt.plot(l_pr,l_re,color='red',label='last best')\n",
    "    plt.plot(pr,re,color='green',label=\"now\")\n",
    "    plt.legend() \n",
    "    plt.show()    \n",
    "    # 结果保存\n",
    "    plt.hist(predictions,bins=100)\n",
    "    plt.ylim((0,5000))\n",
    "    plt.title('Submission')\n",
    "    plt.show()\n",
    "    sampleSubmission = pd.read_csv('submission_test_sample.csv')\n",
    "    sampleSubmission['fraud_ind'] = prediction \n",
    "    sampleSubmission.to_csv('submission_test66941_seed'+str(seed)+'.csv',index = None)\n",
    "    print('done here')"
   ]
  }
 ],
 "metadata": {
  "colab": {
   "name": "lightbgm_train.ipynb",
   "provenance": []
  },
  "kernelspec": {
   "display_name": "Python 3",
   "language": "python",
   "name": "python3"
  },
  "language_info": {
   "codemirror_mode": {
    "name": "ipython",
    "version": 3
   },
   "file_extension": ".py",
   "mimetype": "text/x-python",
   "name": "python",
   "nbconvert_exporter": "python",
   "pygments_lexer": "ipython3",
   "version": "3.7.3"
  }
 },
 "nbformat": 4,
 "nbformat_minor": 1
}
