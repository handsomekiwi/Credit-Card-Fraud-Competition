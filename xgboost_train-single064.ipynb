{
 "cells": [
  {
   "cell_type": "markdown",
   "metadata": {},
   "source": [
    "# 基本信息"
   ]
  },
  {
   "cell_type": "code",
   "execution_count": 1,
   "metadata": {},
   "outputs": [],
   "source": [
    "from sklearn.metrics import confusion_matrix,precision_score,recall_score,f1_score,roc_auc_score,precision_recall_curve,roc_curve\n",
    "from sklearn.ensemble import RandomForestClassifier,GradientBoostingClassifier,AdaBoostClassifier\n",
    "from sklearn.model_selection import GridSearchCV,StratifiedKFold,KFold,GroupKFold\n",
    "from sklearn.model_selection import train_test_split\n",
    "from sklearn.preprocessing import StandardScaler\n",
    "from sklearn.pipeline import Pipeline\n",
    "from sklearn.decomposition import PCA\n",
    "from sklearn.preprocessing import PolynomialFeatures,OneHotEncoder,LabelEncoder\n",
    "from sklearn.linear_model import LogisticRegression\n",
    "from sklearn.neighbors import KNeighborsClassifier\n",
    "from sklearn.svm import SVC\n",
    "import seaborn as sns\n",
    "import numpy as np\n",
    "import pandas as pd\n",
    "import matplotlib.pyplot as plt\n",
    "import joblib\n",
    "from tensorflow import keras\n",
    "import graphviz\n",
    "from xgboost.sklearn import XGBClassifier\n",
    "import xgboost as xgb\n",
    "import lightgbm as lgb\n",
    "import random\n",
    "from bayes_opt import BayesianOptimization\n",
    "sns.set(style=\"white\", color_codes=True)\n",
    "#显示所有列\n",
    "pd.set_option('display.max_columns', None)\n",
    "#取消科学计数，显示小数点后1位\n",
    "pd.set_option('float_format', lambda x: '%.1f' % x)\n",
    "# pd.set_option('display.max_rows', None)\n",
    "seed = 100\n",
    "np.random.seed(seed)\n",
    "random.seed(seed)"
   ]
  },
  {
   "cell_type": "code",
   "execution_count": 2,
   "metadata": {
    "scrolled": true
   },
   "outputs": [
    {
     "name": "stdout",
     "output_type": "stream",
     "text": [
      "rows: 1521787  columns: 23\n"
     ]
    }
   ],
   "source": [
    "trainfile = 'train.csv'\n",
    "train_data = pd.read_csv(trainfile)\n",
    "print(\"rows:\",train_data.shape[0],\" columns:\", train_data.shape[1])"
   ]
  },
  {
   "cell_type": "code",
   "execution_count": 3,
   "metadata": {},
   "outputs": [
    {
     "name": "stdout",
     "output_type": "stream",
     "text": [
      "rows: 421665  columns: 22\n"
     ]
    }
   ],
   "source": [
    "testfile = 'test.csv'\n",
    "test_data = pd.read_csv(testfile)\n",
    "print(\"rows:\",test_data.shape[0],\" columns:\", test_data.shape[1])"
   ]
  },
  {
   "cell_type": "code",
   "execution_count": 4,
   "metadata": {},
   "outputs": [],
   "source": [
    "# 改时间为小时\n",
    "def change_time(data):\n",
    "    time = data['loctm']\n",
    "    newtime = []\n",
    "    for i in time:\n",
    "        k = int(i/10000)\n",
    "        newtime.append(k)\n",
    "    data['loctm'] = newtime"
   ]
  },
  {
   "cell_type": "code",
   "execution_count": 5,
   "metadata": {},
   "outputs": [],
   "source": [
    "change_time(train_data)\n",
    "change_time(test_data)"
   ]
  },
  {
   "cell_type": "code",
   "execution_count": 6,
   "metadata": {},
   "outputs": [],
   "source": [
    "train_data = train_data.replace(['N','Y'],[0,1])\n",
    "test_data = test_data.replace(['N','Y'],[0,1])"
   ]
  },
  {
   "cell_type": "code",
   "execution_count": 7,
   "metadata": {},
   "outputs": [
    {
     "name": "stdout",
     "output_type": "stream",
     "text": [
      "Index(['acqic', 'bacno', 'cano', 'conam', 'contp', 'csmcu', 'ecfg', 'etymd',\n",
      "       'flbmk', 'flg_3dsmk', 'fraud_ind', 'hcefg', 'insfg', 'iterm', 'locdt',\n",
      "       'loctm', 'mcc', 'mchno', 'ovrlt', 'scity', 'stocn', 'stscd', 'txkey',\n",
      "       'bacno__cano', 'stocn__csmcu', 'stocn__acqic', 'scity__acqic',\n",
      "       'mcc__stocn', 'mcc__scity', 'mcc__ecfg', 'mcc__mchno', 'csmcu__acqic',\n",
      "       'ecfg__stscd', 'etymd__csmcu', 'stocn__scity', 'stocn__ecfg',\n",
      "       'mcc__etymd', 'mcc__csmcu', 'mcc__acqic', 'scity__ecfg'],\n",
      "      dtype='object')\n"
     ]
    }
   ],
   "source": [
    "# features interaction 并使用 labelencoder\n",
    "cb_feature = ['bacno__cano','stocn__csmcu','stocn__acqic','scity__acqic','mcc__stocn',\n",
    "              'mcc__scity','mcc__ecfg','mcc__mchno','csmcu__acqic','ecfg__stscd',\n",
    "              'etymd__csmcu',\n",
    "              'stocn__scity','stocn__ecfg','mcc__etymd','mcc__csmcu','mcc__acqic','scity__ecfg']\n",
    "\n",
    "for feature in cb_feature:\n",
    "    f1,f2 = feature.split('__')\n",
    "    train_data[feature] = train_data[f1].astype(str) + '_' + train_data[f2].astype(str)\n",
    "    test_data[feature] = test_data[f1].astype(str) + '_' + test_data[f2].astype(str)\n",
    "\n",
    "    le = LabelEncoder()\n",
    "    le.fit(list(train_data[feature].astype(str).values) + list(test_data[feature].astype(str).values))\n",
    "    train_data[feature] = le.transform(list(train_data[feature].astype(str).values))\n",
    "    test_data[feature] = le.transform(list(test_data[feature].astype(str).values))\n",
    "print(train_data.columns)"
   ]
  },
  {
   "cell_type": "code",
   "execution_count": 8,
   "metadata": {},
   "outputs": [
    {
     "name": "stdout",
     "output_type": "stream",
     "text": [
      "Index(['acqic', 'bacno', 'cano', 'conam', 'contp', 'csmcu', 'ecfg', 'etymd',\n",
      "       'flbmk', 'flg_3dsmk', 'fraud_ind', 'hcefg', 'insfg', 'iterm', 'locdt',\n",
      "       'loctm', 'mcc', 'mchno', 'ovrlt', 'scity', 'stocn', 'stscd', 'txkey',\n",
      "       'bacno__cano', 'stocn__csmcu', 'stocn__acqic', 'scity__acqic',\n",
      "       'mcc__stocn', 'mcc__scity', 'mcc__ecfg', 'mcc__mchno', 'csmcu__acqic',\n",
      "       'ecfg__stscd', 'etymd__csmcu', 'stocn__scity', 'stocn__ecfg',\n",
      "       'mcc__etymd', 'mcc__csmcu', 'mcc__acqic', 'scity__ecfg',\n",
      "       'acqic_count_full', 'bacno_count_full', 'cano_count_full',\n",
      "       'scity_count_full', 'mcc_count_full', 'mchno_count_full',\n",
      "       'conam_count_full', 'csmcu_count_full', 'bacno__cano_count_full',\n",
      "       'stocn__csmcu_count_full', 'stocn__acqic_count_full',\n",
      "       'scity__acqic_count_full', 'mcc__stocn_count_full',\n",
      "       'mcc__scity_count_full', 'mcc__mchno_count_full',\n",
      "       'csmcu__acqic_count_full', 'ecfg__stscd_count_full',\n",
      "       'stocn__scity_count_full', 'stocn__ecfg_count_full',\n",
      "       'scity__ecfg_count_full', 'mcc__etymd_count_full',\n",
      "       'mcc__csmcu_count_full', 'mcc__acqic_count_full'],\n",
      "      dtype='object')\n"
     ]
    }
   ],
   "source": [
    "# Count Encoding \n",
    "cn_feature = ['acqic','bacno','cano','scity','mcc','mchno','conam','csmcu','bacno__cano','stocn__csmcu','stocn__acqic',\n",
    "'scity__acqic','mcc__stocn','mcc__scity','mcc__mchno','csmcu__acqic','ecfg__stscd','stocn__scity',\n",
    "              'stocn__ecfg','scity__ecfg','mcc__etymd','mcc__csmcu','mcc__acqic']\n",
    "for feature in cn_feature :\n",
    "    train_data[feature + '_count_full'] = train_data[feature].map(pd.concat([train_data[feature], test_data[feature]], ignore_index=True).value_counts(dropna=False))\n",
    "    test_data[feature + '_count_full'] = test_data[feature].map(pd.concat([train_data[feature], test_data[feature]], ignore_index=True).value_counts(dropna=False))   \n",
    "print(train_data.columns)"
   ]
  },
  {
   "cell_type": "code",
   "execution_count": 9,
   "metadata": {},
   "outputs": [
    {
     "name": "stderr",
     "output_type": "stream",
     "text": [
      "C:\\Users\\kiwi\\Anaconda3\\lib\\site-packages\\pandas\\core\\frame.py:6692: FutureWarning: Sorting because non-concatenation axis is not aligned. A future version\n",
      "of pandas will change to not sort by default.\n",
      "\n",
      "To accept the future behavior, pass 'sort=False'.\n",
      "\n",
      "To retain the current behavior and silence the warning, pass 'sort=True'.\n",
      "\n",
      "  sort=sort)\n"
     ]
    }
   ],
   "source": [
    "# Group by  \\ train_test 需合并？\n",
    "train_test = train_data.append(test_data)\n",
    "for uid in ['bacno__cano']:\n",
    "    for feature in ['acqic','csmcu','conam','loctm','ecfg','etymd','mcc','mchno','stocn','scity','stscd']:\n",
    "        col_mean = train_test.groupby(uid)[feature].mean()\n",
    "        train_data[feature + '_to_mean_' + uid] = train_data[uid].map(col_mean)\n",
    "        test_data[feature + '_to_mean_' + uid] = test_data[uid].map(col_mean)\n",
    "              \n",
    "        col_std = train_test.groupby(uid)[feature].std(ddof = 0)\n",
    "        train_data[feature + '_to_std_' + uid] = train_data[uid].map(col_std)\n",
    "        test_data[feature + '_to_std_' + uid] = test_data[uid].map(col_std)\n",
    "    \n",
    "#     train_data['conam_devide_mean_' + feature] = train_data['conam']/ train_data.groupby([feature])['conam'].transform('mean')\n",
    "#     test_data['conam_devide_mean_' + feature] = test_data['conam'] / test_data.groupby([feature])['conam'].transform('mean')"
   ]
  },
  {
   "cell_type": "code",
   "execution_count": 10,
   "metadata": {},
   "outputs": [
    {
     "name": "stdout",
     "output_type": "stream",
     "text": [
      "(1521787, 69) (421665, 69)\n",
      "<class 'pandas.core.frame.DataFrame'>\n",
      "RangeIndex: 1521787 entries, 0 to 1521786\n",
      "Data columns (total 69 columns):\n",
      "acqic                        1521787 non-null int64\n",
      "bacno                        1521787 non-null int64\n",
      "cano                         1521787 non-null int64\n",
      "conam                        1521787 non-null float64\n",
      "csmcu                        1521787 non-null int64\n",
      "ecfg                         1521787 non-null int64\n",
      "etymd                        1521787 non-null int64\n",
      "loctm                        1521787 non-null int64\n",
      "mcc                          1521787 non-null int64\n",
      "mchno                        1521787 non-null int64\n",
      "scity                        1521787 non-null int64\n",
      "stocn                        1521787 non-null int64\n",
      "stscd                        1521787 non-null int64\n",
      "bacno__cano                  1521787 non-null int64\n",
      "stocn__csmcu                 1521787 non-null int64\n",
      "stocn__acqic                 1521787 non-null int64\n",
      "scity__acqic                 1521787 non-null int64\n",
      "mcc__stocn                   1521787 non-null int64\n",
      "mcc__scity                   1521787 non-null int64\n",
      "mcc__ecfg                    1521787 non-null int64\n",
      "mcc__mchno                   1521787 non-null int64\n",
      "csmcu__acqic                 1521787 non-null int64\n",
      "ecfg__stscd                  1521787 non-null int64\n",
      "etymd__csmcu                 1521787 non-null int64\n",
      "acqic_count_full             1521787 non-null int64\n",
      "bacno_count_full             1521787 non-null int64\n",
      "cano_count_full              1521787 non-null int64\n",
      "scity_count_full             1521787 non-null int64\n",
      "mcc_count_full               1521787 non-null int64\n",
      "mchno_count_full             1521787 non-null int64\n",
      "conam_count_full             1521787 non-null int64\n",
      "csmcu_count_full             1521787 non-null int64\n",
      "bacno__cano_count_full       1521787 non-null int64\n",
      "stocn__csmcu_count_full      1521787 non-null int64\n",
      "stocn__acqic_count_full      1521787 non-null int64\n",
      "scity__acqic_count_full      1521787 non-null int64\n",
      "mcc__stocn_count_full        1521787 non-null int64\n",
      "mcc__scity_count_full        1521787 non-null int64\n",
      "mcc__mchno_count_full        1521787 non-null int64\n",
      "csmcu__acqic_count_full      1521787 non-null int64\n",
      "ecfg__stscd_count_full       1521787 non-null int64\n",
      "stocn__scity_count_full      1521787 non-null int64\n",
      "stocn__ecfg_count_full       1521787 non-null int64\n",
      "scity__ecfg_count_full       1521787 non-null int64\n",
      "mcc__etymd_count_full        1521787 non-null int64\n",
      "mcc__csmcu_count_full        1521787 non-null int64\n",
      "mcc__acqic_count_full        1521787 non-null int64\n",
      "acqic_to_mean_bacno__cano    1521787 non-null float64\n",
      "acqic_to_std_bacno__cano     1521787 non-null float64\n",
      "csmcu_to_mean_bacno__cano    1521787 non-null float64\n",
      "csmcu_to_std_bacno__cano     1521787 non-null float64\n",
      "conam_to_mean_bacno__cano    1521787 non-null float64\n",
      "conam_to_std_bacno__cano     1521787 non-null float64\n",
      "loctm_to_mean_bacno__cano    1521787 non-null float64\n",
      "loctm_to_std_bacno__cano     1521787 non-null float64\n",
      "ecfg_to_mean_bacno__cano     1521787 non-null float64\n",
      "ecfg_to_std_bacno__cano      1521787 non-null float64\n",
      "etymd_to_mean_bacno__cano    1521787 non-null float64\n",
      "etymd_to_std_bacno__cano     1521787 non-null float64\n",
      "mcc_to_mean_bacno__cano      1521787 non-null float64\n",
      "mcc_to_std_bacno__cano       1521787 non-null float64\n",
      "mchno_to_mean_bacno__cano    1521787 non-null float64\n",
      "mchno_to_std_bacno__cano     1521787 non-null float64\n",
      "stocn_to_mean_bacno__cano    1521787 non-null float64\n",
      "stocn_to_std_bacno__cano     1521787 non-null float64\n",
      "scity_to_mean_bacno__cano    1521787 non-null float64\n",
      "scity_to_std_bacno__cano     1521787 non-null float64\n",
      "stscd_to_mean_bacno__cano    1521787 non-null float64\n",
      "stscd_to_std_bacno__cano     1521787 non-null float64\n",
      "dtypes: float64(23), int64(46)\n",
      "memory usage: 801.1 MB\n",
      "None\n"
     ]
    }
   ],
   "source": [
    "model1_features = list(train_data.columns)\n",
    "del_col = ['txkey','locdt','insfg','iterm','flg_3dsmk','flbmk','contp','hcefg','ovrlt','fraud_ind',\n",
    "           'stocn__scity','stocn__ecfg','scity__ecfg','mcc__etymd','mcc__csmcu','mcc__acqic']\n",
    "for col in del_col:\n",
    "    model1_features.remove(col)\n",
    "    \n",
    "X_train = train_data[model1_features]\n",
    "Y_train = train_data['fraud_ind']\n",
    "X_test = test_data[model1_features]\n",
    "print(X_train.shape,X_test.shape)\n",
    "print(X_train.info())"
   ]
  },
  {
   "cell_type": "code",
   "execution_count": 11,
   "metadata": {},
   "outputs": [],
   "source": [
    "def show_cor(df1):\n",
    "    plt.figure(figsize = (20,20))\n",
    "    df_corr = df1.corr()\n",
    "    sns.heatmap(df_corr,fmt = '0.2f',annot = True,xticklabels=df_corr.columns,yticklabels=df_corr.columns,cmap=\"Reds\")\n",
    "    plt.show()"
   ]
  },
  {
   "cell_type": "code",
   "execution_count": null,
   "metadata": {},
   "outputs": [],
   "source": [
    "show_cor(X_train)"
   ]
  },
  {
   "cell_type": "code",
   "execution_count": 12,
   "metadata": {},
   "outputs": [],
   "source": [
    "    params = {'max_depth': 48,\n",
    "              'gamma': 0.15626466439591735,\n",
    "              'n_estimators': 5000,\n",
    "              'learning_rate':0.009731568389839462,\n",
    "              'min_child_weight':1.5233399970515784, \n",
    "              'colsample_bytree':0.866451818270932,\n",
    "              'subsample':0.8997425055522636,\n",
    "              'reg_alpha':4.989195734088519,\n",
    "              'reg_lambda':4.292050649851185,\n",
    "              'scale_pos_weight':73.76231884057971,\n",
    "              'eta': 0.1,\n",
    "              'missing' : -1,\n",
    "              'objective' :'binary:logistic',\n",
    "              'tree_method':'gpu_hist',\n",
    "              'eval_metric': 'auc'}"
   ]
  },
  {
   "cell_type": "code",
   "execution_count": 13,
   "metadata": {
    "scrolled": true
   },
   "outputs": [
    {
     "name": "stdout",
     "output_type": "stream",
     "text": [
      "Fold 0\n"
     ]
    },
    {
     "name": "stderr",
     "output_type": "stream",
     "text": [
      "C:\\Users\\kiwi\\Anaconda3\\lib\\site-packages\\xgboost\\core.py:587: FutureWarning: Series.base is deprecated and will be removed in a future version\n",
      "  if getattr(data, 'base', None) is not None and \\\n"
     ]
    },
    {
     "name": "stdout",
     "output_type": "stream",
     "text": [
      "[0]\tvalidation_0-auc:0.993629\tvalidation_1-auc:0.967986\n",
      "Multiple eval metrics have been passed: 'validation_1-auc' will be used for early stopping.\n",
      "\n",
      "Will train until validation_1-auc hasn't improved in 300 rounds.\n",
      "[100]\tvalidation_0-auc:0.999246\tvalidation_1-auc:0.986547\n",
      "[200]\tvalidation_0-auc:0.999523\tvalidation_1-auc:0.987892\n",
      "[300]\tvalidation_0-auc:0.999675\tvalidation_1-auc:0.988773\n",
      "[400]\tvalidation_0-auc:0.999773\tvalidation_1-auc:0.989323\n",
      "[500]\tvalidation_0-auc:0.999835\tvalidation_1-auc:0.98969\n",
      "[600]\tvalidation_0-auc:0.99988\tvalidation_1-auc:0.990058\n",
      "[700]\tvalidation_0-auc:0.999915\tvalidation_1-auc:0.990233\n",
      "[800]\tvalidation_0-auc:0.999938\tvalidation_1-auc:0.990374\n",
      "[900]\tvalidation_0-auc:0.999954\tvalidation_1-auc:0.990504\n",
      "[1000]\tvalidation_0-auc:0.999964\tvalidation_1-auc:0.990605\n",
      "[1100]\tvalidation_0-auc:0.999971\tvalidation_1-auc:0.990652\n",
      "[1200]\tvalidation_0-auc:0.999976\tvalidation_1-auc:0.990713\n",
      "[1300]\tvalidation_0-auc:0.99998\tvalidation_1-auc:0.990722\n",
      "[1400]\tvalidation_0-auc:0.999982\tvalidation_1-auc:0.990751\n",
      "[1500]\tvalidation_0-auc:0.999984\tvalidation_1-auc:0.990804\n",
      "[1600]\tvalidation_0-auc:0.999986\tvalidation_1-auc:0.990802\n",
      "[1700]\tvalidation_0-auc:0.999987\tvalidation_1-auc:0.990807\n",
      "[1800]\tvalidation_0-auc:0.999988\tvalidation_1-auc:0.990822\n",
      "[1900]\tvalidation_0-auc:0.999989\tvalidation_1-auc:0.990819\n",
      "[2000]\tvalidation_0-auc:0.99999\tvalidation_1-auc:0.990825\n",
      "[2100]\tvalidation_0-auc:0.999991\tvalidation_1-auc:0.990827\n",
      "[2200]\tvalidation_0-auc:0.999991\tvalidation_1-auc:0.990823\n",
      "[2300]\tvalidation_0-auc:0.999992\tvalidation_1-auc:0.990827\n",
      "[2400]\tvalidation_0-auc:0.999992\tvalidation_1-auc:0.99083\n",
      "Stopping. Best iteration:\n",
      "[2135]\tvalidation_0-auc:0.999991\tvalidation_1-auc:0.990836\n",
      "\n",
      "Fold 1\n",
      "[0]\tvalidation_0-auc:0.994294\tvalidation_1-auc:0.968002\n",
      "Multiple eval metrics have been passed: 'validation_1-auc' will be used for early stopping.\n",
      "\n",
      "Will train until validation_1-auc hasn't improved in 300 rounds.\n",
      "[100]\tvalidation_0-auc:0.999236\tvalidation_1-auc:0.983323\n",
      "[200]\tvalidation_0-auc:0.999477\tvalidation_1-auc:0.984633\n",
      "[300]\tvalidation_0-auc:0.999667\tvalidation_1-auc:0.985409\n",
      "[400]\tvalidation_0-auc:0.999758\tvalidation_1-auc:0.985938\n",
      "[500]\tvalidation_0-auc:0.999827\tvalidation_1-auc:0.98622\n",
      "[600]\tvalidation_0-auc:0.999878\tvalidation_1-auc:0.986628\n",
      "[700]\tvalidation_0-auc:0.999913\tvalidation_1-auc:0.986893\n",
      "[800]\tvalidation_0-auc:0.999937\tvalidation_1-auc:0.987146\n",
      "[900]\tvalidation_0-auc:0.999953\tvalidation_1-auc:0.98735\n",
      "[1000]\tvalidation_0-auc:0.999964\tvalidation_1-auc:0.987486\n",
      "[1100]\tvalidation_0-auc:0.999971\tvalidation_1-auc:0.987578\n",
      "[1200]\tvalidation_0-auc:0.999977\tvalidation_1-auc:0.987643\n",
      "[1300]\tvalidation_0-auc:0.999981\tvalidation_1-auc:0.987727\n",
      "[1400]\tvalidation_0-auc:0.999983\tvalidation_1-auc:0.987748\n",
      "[1500]\tvalidation_0-auc:0.999985\tvalidation_1-auc:0.987771\n",
      "[1600]\tvalidation_0-auc:0.999987\tvalidation_1-auc:0.987799\n",
      "[1700]\tvalidation_0-auc:0.999988\tvalidation_1-auc:0.987815\n",
      "[1800]\tvalidation_0-auc:0.999989\tvalidation_1-auc:0.987806\n",
      "[1900]\tvalidation_0-auc:0.99999\tvalidation_1-auc:0.987831\n",
      "[2000]\tvalidation_0-auc:0.999991\tvalidation_1-auc:0.987843\n",
      "[2100]\tvalidation_0-auc:0.999992\tvalidation_1-auc:0.98783\n",
      "[2200]\tvalidation_0-auc:0.999992\tvalidation_1-auc:0.987821\n",
      "Stopping. Best iteration:\n",
      "[1983]\tvalidation_0-auc:0.999991\tvalidation_1-auc:0.987853\n",
      "\n",
      "Fold 2\n",
      "[0]\tvalidation_0-auc:0.99368\tvalidation_1-auc:0.970616\n",
      "Multiple eval metrics have been passed: 'validation_1-auc' will be used for early stopping.\n",
      "\n",
      "Will train until validation_1-auc hasn't improved in 300 rounds.\n",
      "[100]\tvalidation_0-auc:0.999183\tvalidation_1-auc:0.9842\n",
      "[200]\tvalidation_0-auc:0.999499\tvalidation_1-auc:0.985786\n",
      "[300]\tvalidation_0-auc:0.999668\tvalidation_1-auc:0.987479\n",
      "[400]\tvalidation_0-auc:0.999766\tvalidation_1-auc:0.988181\n",
      "[500]\tvalidation_0-auc:0.999832\tvalidation_1-auc:0.988433\n",
      "[600]\tvalidation_0-auc:0.999878\tvalidation_1-auc:0.988654\n",
      "[700]\tvalidation_0-auc:0.999913\tvalidation_1-auc:0.988821\n",
      "[800]\tvalidation_0-auc:0.999937\tvalidation_1-auc:0.98894\n",
      "[900]\tvalidation_0-auc:0.999953\tvalidation_1-auc:0.989043\n",
      "[1000]\tvalidation_0-auc:0.999963\tvalidation_1-auc:0.989123\n",
      "[1100]\tvalidation_0-auc:0.999971\tvalidation_1-auc:0.989208\n",
      "[1200]\tvalidation_0-auc:0.999976\tvalidation_1-auc:0.989279\n",
      "[1300]\tvalidation_0-auc:0.99998\tvalidation_1-auc:0.989295\n",
      "[1400]\tvalidation_0-auc:0.999983\tvalidation_1-auc:0.989305\n",
      "[1500]\tvalidation_0-auc:0.999985\tvalidation_1-auc:0.989314\n",
      "[1600]\tvalidation_0-auc:0.999987\tvalidation_1-auc:0.989324\n",
      "[1700]\tvalidation_0-auc:0.999988\tvalidation_1-auc:0.989335\n",
      "[1800]\tvalidation_0-auc:0.999989\tvalidation_1-auc:0.989333\n",
      "[1900]\tvalidation_0-auc:0.99999\tvalidation_1-auc:0.989326\n",
      "[2000]\tvalidation_0-auc:0.999991\tvalidation_1-auc:0.98932\n",
      "Stopping. Best iteration:\n",
      "[1748]\tvalidation_0-auc:0.999989\tvalidation_1-auc:0.989345\n",
      "\n",
      "---------------------------------------------------------------------------------------------------- \n",
      "\n",
      "oof  auc =  0.9893319003883727\n",
      "oof  f1 =  0.7208806466008827\n",
      "confusion_matrix =\n",
      "[[1495991    5441]\n",
      " [   5817   14538]]\n"
     ]
    }
   ],
   "source": [
    "    predictions = np.zeros(len(X_test))\n",
    "    splits = 3\n",
    "    folds = GroupKFold(n_splits = splits)\n",
    "    split_groups = train_data['locdt']\n",
    "#auc = {}\n",
    "#test_feature = cb_feature + cf_feature\n",
    "#print(len(test_feature))\n",
    "#for col in test_feature:\n",
    "    feature = model1_features.copy()\n",
    "    #feature.append(col)\n",
    "    #print(feature)\n",
    "    X_train = train_data[feature].copy()\n",
    "    Y_train = train_data['fraud_ind'].copy()\n",
    "    oof = np.zeros(len(X_train))\n",
    "    for fold_, (trn_idx, val_idx) in enumerate(folds.split(X_train.values, Y_train.values,groups=split_groups)):\n",
    "        print(\"Fold {}\".format(fold_))\n",
    "        train_df, train_lb = X_train.iloc[trn_idx], Y_train.iloc[trn_idx]\n",
    "        valid_df, valid_lb = X_train.iloc[val_idx], Y_train.iloc[val_idx]    \n",
    "       \n",
    "        model = XGBClassifier(**params) \n",
    "        model.fit(train_df,train_lb,eval_set = [(train_df,train_lb),(valid_df,valid_lb)],eval_metric='auc',early_stopping_rounds = 300,verbose=100)\n",
    "    \n",
    "        valid_pre = model.predict_proba(valid_df)[:,1]\n",
    "        oof[val_idx] = valid_pre        \n",
    "        predictions += model.predict(X_test) / splits          \n",
    "    print(\"-\"*100,'\\r\\n') \n",
    "    predictions = [int(item>0.5) for  item in predictions]\n",
    "    print( \"oof  auc = \", roc_auc_score(Y_train, oof) )   \n",
    "    oof_threshold = [int(item>0.5) for  item in oof] \n",
    "    print( \"oof  f1 = \", f1_score(Y_train, oof_threshold))\n",
    "    print( \"confusion_matrix =\")\n",
    "    print(confusion_matrix(Y_train, oof_threshold))\n",
    "    #auc[col] = roc_auc_score(Y_train,oof)"
   ]
  },
  {
   "cell_type": "code",
   "execution_count": 14,
   "metadata": {},
   "outputs": [
    {
     "data": {
      "image/png": "[encoded data removed]",
      "text/plain": [
       "<Figure size 432x288 with 1 Axes>"
      ]
     },
     "metadata": {
      "needs_background": "light"
     },
     "output_type": "display_data"
    },
    {
     "name": "stdout",
     "output_type": "stream",
     "text": [
      "testdata = 421665\n",
      "1.34% of testdata = 5650.0\n",
      "fraud predict = 7579\n"
     ]
    }
   ],
   "source": [
    "# 结果保存\n",
    "plt.hist(predictions,bins=100)\n",
    "plt.ylim((0,5000))\n",
    "plt.title('Submission')\n",
    "plt.show()\n",
    "#sampleSubmission = pd.read_csv('/content/submission_test_sample.csv')\n",
    "sampleSubmission = pd.read_csv('submission_test_sample.csv')\n",
    "sampleSubmission['fraud_ind'] = predictions\n",
    "sampleSubmission.to_csv('submission_test_xgb64.csv',index = None)\n",
    "\n",
    "print('testdata =',test_data['txkey'].count())\n",
    "print('1.34% of testdata =',round(test_data['txkey'].count()*0.0134))\n",
    "print('fraud predict =',sampleSubmission['fraud_ind'].value_counts()[1])"
   ]
  },
  {
   "cell_type": "code",
   "execution_count": 1,
   "metadata": {},
   "outputs": [],
   "source": [
    "#Bayesian Optimization function for xgboost\n",
    "#specify the parameters you want to tune as keyword arguments\n",
    "def bo_tune_xgb(max_depth, gamma,learning_rate,min_child_weight,subsample,colsample_bytree,reg_alpha,reg_lambda):\n",
    "    params = {'max_depth': int(max_depth),\n",
    "              'gamma': gamma,\n",
    "              'n_estimators': 1000,\n",
    "              'scale_pos_weight':73.76231884057971,\n",
    "              'learning_rate':learning_rate,\n",
    "              'min_child_weight':int(min_child_weight), \n",
    "              'colsample_bytree':colsample_bytree,\n",
    "              'subsample':subsample,\n",
    "              'reg_alpha':reg_alpha,\n",
    "              'reg_lambda':reg_lambda,\n",
    "              'eta': 0.1,\n",
    "              'missing' : -1,\n",
    "              'objective' :'binary:logistic',\n",
    "              'tree_method':'gpu_hist',\n",
    "              'eval_metric': 'auc'}\n",
    "    dtrain = xgb.DMatrix(X_train, Y_train, missing=-1)   \n",
    "    cv_result = xgb.cv(params, dtrain, num_boost_round=5000, early_stopping_rounds=200, nfold=3)    \n",
    "    return cv_result['test-auc-mean'].iloc[-1]"
   ]
  },
  {
   "cell_type": "code",
   "execution_count": null,
   "metadata": {},
   "outputs": [
    {
     "name": "stdout",
     "output_type": "stream",
     "text": [
      "|   iter    |  target   | colsam... |   gamma   | learni... | max_depth | min_ch... | reg_alpha | reg_la... | subsample |\n",
      "-------------------------------------------------------------------------------------------------------------------------\n"
     ]
    },
    {
     "name": "stderr",
     "output_type": "stream",
     "text": [
      "C:\\Users\\kiwi\\Anaconda3\\lib\\site-packages\\xgboost\\core.py:587: FutureWarning: Series.base is deprecated and will be removed in a future version\n",
      "  if getattr(data, 'base', None) is not None and \\\n",
      "C:\\Users\\kiwi\\Anaconda3\\lib\\site-packages\\xgboost\\core.py:588: FutureWarning: Series.base is deprecated and will be removed in a future version\n",
      "  data.base is not None and isinstance(data, np.ndarray) \\\n"
     ]
    }
   ],
   "source": [
    "#Invoking the Bayesian Optimizer with the specified parameters to tune\n",
    "xgb_bo = BayesianOptimization(bo_tune_xgb, {'max_depth': (20, 200),\n",
    "                                             'gamma': (0, 1),\n",
    "                                             'learning_rate':(0,1),\n",
    "                                             #'n_estimators':(90,101),\n",
    "                                             'min_child_weight':(1,6),\n",
    "                                            'subsample':(0.6,0.9),\n",
    "                                            'colsample_bytree':(0.6,0.9),\n",
    "                                            'reg_alpha':(0.05,3),\n",
    "                                            'reg_lambda':(0.05,3),                                            \n",
    "                                            })\n",
    "\n",
    "#performing Bayesian optimization for 5 iterations with 8 steps of random exploration with an #acquisition function of expected improvement\n",
    "xgb_bo.maximize(n_iter=5, init_points=8, acq='ei')"
   ]
  },
  {
   "cell_type": "code",
   "execution_count": null,
   "metadata": {},
   "outputs": [],
   "source": [
    "#Extracting the best parameters\n",
    "params = xgb_bo.max['params']\n",
    "print(params)"
   ]
  },
  {
   "cell_type": "code",
   "execution_count": null,
   "metadata": {},
   "outputs": [],
   "source": [
    "#Converting the max_depth and n_estimator values from float to int\n",
    "params['max_depth']= int(params['max_depth'])\n",
    "#Initialize an XGBClassifier with the tuned parameters and fit the training data\n",
    "from xgboost import XGBClassifier\n",
    "classifier2 = XGBClassifier(**params).fit(text_tfidf, clean_data_train['author'])\n",
    "\n",
    "#predicting for training set\n",
    "train_p2 = classifier2.predict(text_tfidf)\n",
    "\n",
    "#Looking at the classification report\n",
    "print(classification_report(train_p2, clean_data_train['author']))"
   ]
  }
 ],
 "metadata": {
  "kernelspec": {
   "display_name": "Python 3",
   "language": "python",
   "name": "python3"
  },
  "language_info": {
   "codemirror_mode": {
    "name": "ipython",
    "version": 3
   },
   "file_extension": ".py",
   "mimetype": "text/x-python",
   "name": "python",
   "nbconvert_exporter": "python",
   "pygments_lexer": "ipython3",
   "version": "3.7.3"
  }
 },
 "nbformat": 4,
 "nbformat_minor": 2
}
