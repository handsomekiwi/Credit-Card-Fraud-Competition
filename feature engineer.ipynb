{
 "cells": [
  {
   "cell_type": "code",
   "execution_count": 1,
   "metadata": {
    "colab": {},
    "colab_type": "code",
    "id": "du3Wo4U4u42b"
   },
   "outputs": [
    {
     "name": "stderr",
     "output_type": "stream",
     "text": [
      "Using TensorFlow backend.\n"
     ]
    }
   ],
   "source": [
    "import numpy as np # linear algebra\n",
    "import pandas as pd # data processing, CSV file I/O (e.g. pd.read_csv)\n",
    "import tensorflow as tf\n",
    "import matplotlib.pyplot as plt\n",
    "import seaborn as sns\n",
    "from sklearn.manifold import TSNE\n",
    "from sklearn.decomposition import PCA, TruncatedSVD\n",
    "from sklearn.metrics import confusion_matrix\n",
    "import matplotlib.patches as mpatches\n",
    "from sklearn.model_selection import train_test_split\n",
    "from sklearn.model_selection import StratifiedShuffleSplit\n",
    "from xgboost.sklearn import XGBClassifier\n",
    "import xgboost as xgb\n",
    "from sklearn.model_selection import GridSearchCV\n",
    "import lightgbm as lgb\n",
    "import os\n",
    "import time\n",
    "import catboost as cb\n",
    "from sklearn.preprocessing import OneHotEncoder\n",
    "from bayes_opt import BayesianOptimization#pip install bayesian-optimization\n",
    "from sklearn.model_selection import KFold\n",
    "import copy\n",
    "from sklearn.preprocessing import LabelEncoder\n",
    "import eli5\n",
    "from eli5.sklearn import PermutationImportance \n",
    "from sklearn.metrics import roc_auc_score\n",
    "from sklearn.metrics import roc_curve\n",
    "from sklearn.metrics import f1_score\n",
    "import eli5\n",
    "from eli5.sklearn import PermutationImportance\n",
    "from IPython.display import display\n",
    "%matplotlib inline"
   ]
  },
  {
   "cell_type": "code",
   "execution_count": 20,
   "metadata": {
    "colab": {
     "base_uri": "https://localhost:8080/",
     "height": 214
    },
    "colab_type": "code",
    "id": "VWwECHrvu428",
    "outputId": "f862a636-5e15-4be9-b043-314216223118"
   },
   "outputs": [],
   "source": [
    "#df = reduce_mem_usage(pd.read_csv('train.csv'))\n",
    "#df_test = reduce_mem_usage(pd.read_csv('test.csv'))\n",
    "df = pd.read_csv('train.csv')\n",
    "df_test = pd.read_csv('test.csv')"
   ]
  },
  {
   "cell_type": "code",
   "execution_count": null,
   "metadata": {},
   "outputs": [],
   "source": []
  },
  {
   "cell_type": "code",
   "execution_count": 22,
   "metadata": {},
   "outputs": [
    {
     "name": "stdout",
     "output_type": "stream",
     "text": [
      "Index(['acqic', 'bacno', 'cano', 'conam', 'contp', 'csmcu', 'ecfg', 'etymd',\n",
      "       'flbmk', 'flg_3dsmk', 'fraud_ind', 'hcefg', 'insfg', 'iterm', 'locdt',\n",
      "       'mcc', 'mchno', 'ovrlt', 'scity', 'stocn', 'stscd', 'txkey',\n",
      "       'loctm_hour'],\n",
      "      dtype='object')\n"
     ]
    },
    {
     "data": {
      "text/html": [
       "<div>\n",
       "<style scoped>\n",
       "    .dataframe tbody tr th:only-of-type {\n",
       "        vertical-align: middle;\n",
       "    }\n",
       "\n",
       "    .dataframe tbody tr th {\n",
       "        vertical-align: top;\n",
       "    }\n",
       "\n",
       "    .dataframe thead th {\n",
       "        text-align: right;\n",
       "    }\n",
       "</style>\n",
       "<table border=\"1\" class=\"dataframe\">\n",
       "  <thead>\n",
       "    <tr style=\"text-align: right;\">\n",
       "      <th></th>\n",
       "      <th>acqic</th>\n",
       "      <th>bacno</th>\n",
       "      <th>cano</th>\n",
       "      <th>conam</th>\n",
       "      <th>contp</th>\n",
       "      <th>csmcu</th>\n",
       "      <th>ecfg</th>\n",
       "      <th>etymd</th>\n",
       "      <th>flbmk</th>\n",
       "      <th>flg_3dsmk</th>\n",
       "      <th>...</th>\n",
       "      <th>iterm</th>\n",
       "      <th>locdt</th>\n",
       "      <th>mcc</th>\n",
       "      <th>mchno</th>\n",
       "      <th>ovrlt</th>\n",
       "      <th>scity</th>\n",
       "      <th>stocn</th>\n",
       "      <th>stscd</th>\n",
       "      <th>txkey</th>\n",
       "      <th>loctm_hour</th>\n",
       "    </tr>\n",
       "  </thead>\n",
       "  <tbody>\n",
       "    <tr>\n",
       "      <th>0</th>\n",
       "      <td>6881</td>\n",
       "      <td>113261</td>\n",
       "      <td>38038</td>\n",
       "      <td>513.80</td>\n",
       "      <td>5</td>\n",
       "      <td>0</td>\n",
       "      <td>N</td>\n",
       "      <td>0</td>\n",
       "      <td>N</td>\n",
       "      <td>N</td>\n",
       "      <td>...</td>\n",
       "      <td>0</td>\n",
       "      <td>33</td>\n",
       "      <td>457</td>\n",
       "      <td>59333</td>\n",
       "      <td>N</td>\n",
       "      <td>0</td>\n",
       "      <td>102</td>\n",
       "      <td>0</td>\n",
       "      <td>516056</td>\n",
       "      <td>17</td>\n",
       "    </tr>\n",
       "    <tr>\n",
       "      <th>1</th>\n",
       "      <td>0</td>\n",
       "      <td>134508</td>\n",
       "      <td>45725</td>\n",
       "      <td>465.62</td>\n",
       "      <td>5</td>\n",
       "      <td>0</td>\n",
       "      <td>N</td>\n",
       "      <td>2</td>\n",
       "      <td>N</td>\n",
       "      <td>N</td>\n",
       "      <td>...</td>\n",
       "      <td>0</td>\n",
       "      <td>9</td>\n",
       "      <td>451</td>\n",
       "      <td>0</td>\n",
       "      <td>N</td>\n",
       "      <td>5817</td>\n",
       "      <td>102</td>\n",
       "      <td>0</td>\n",
       "      <td>4376</td>\n",
       "      <td>10</td>\n",
       "    </tr>\n",
       "    <tr>\n",
       "      <th>2</th>\n",
       "      <td>6881</td>\n",
       "      <td>15408</td>\n",
       "      <td>188328</td>\n",
       "      <td>513.80</td>\n",
       "      <td>5</td>\n",
       "      <td>0</td>\n",
       "      <td>N</td>\n",
       "      <td>0</td>\n",
       "      <td>N</td>\n",
       "      <td>N</td>\n",
       "      <td>...</td>\n",
       "      <td>0</td>\n",
       "      <td>6</td>\n",
       "      <td>457</td>\n",
       "      <td>59333</td>\n",
       "      <td>N</td>\n",
       "      <td>0</td>\n",
       "      <td>102</td>\n",
       "      <td>0</td>\n",
       "      <td>483434</td>\n",
       "      <td>15</td>\n",
       "    </tr>\n",
       "    <tr>\n",
       "      <th>3</th>\n",
       "      <td>6716</td>\n",
       "      <td>157159</td>\n",
       "      <td>29967</td>\n",
       "      <td>1016.11</td>\n",
       "      <td>5</td>\n",
       "      <td>62</td>\n",
       "      <td>N</td>\n",
       "      <td>5</td>\n",
       "      <td>N</td>\n",
       "      <td>N</td>\n",
       "      <td>...</td>\n",
       "      <td>0</td>\n",
       "      <td>5</td>\n",
       "      <td>247</td>\n",
       "      <td>50436</td>\n",
       "      <td>N</td>\n",
       "      <td>3281</td>\n",
       "      <td>102</td>\n",
       "      <td>0</td>\n",
       "      <td>1407164</td>\n",
       "      <td>17</td>\n",
       "    </tr>\n",
       "    <tr>\n",
       "      <th>4</th>\n",
       "      <td>5975</td>\n",
       "      <td>105985</td>\n",
       "      <td>81305</td>\n",
       "      <td>713.66</td>\n",
       "      <td>5</td>\n",
       "      <td>62</td>\n",
       "      <td>N</td>\n",
       "      <td>4</td>\n",
       "      <td>N</td>\n",
       "      <td>N</td>\n",
       "      <td>...</td>\n",
       "      <td>0</td>\n",
       "      <td>6</td>\n",
       "      <td>263</td>\n",
       "      <td>93775</td>\n",
       "      <td>N</td>\n",
       "      <td>5817</td>\n",
       "      <td>102</td>\n",
       "      <td>0</td>\n",
       "      <td>1051004</td>\n",
       "      <td>18</td>\n",
       "    </tr>\n",
       "  </tbody>\n",
       "</table>\n",
       "<p>5 rows × 23 columns</p>\n",
       "</div>"
      ],
      "text/plain": [
       "   acqic   bacno    cano    conam  contp  csmcu ecfg  etymd flbmk flg_3dsmk  \\\n",
       "0   6881  113261   38038   513.80      5      0    N      0     N         N   \n",
       "1      0  134508   45725   465.62      5      0    N      2     N         N   \n",
       "2   6881   15408  188328   513.80      5      0    N      0     N         N   \n",
       "3   6716  157159   29967  1016.11      5     62    N      5     N         N   \n",
       "4   5975  105985   81305   713.66      5     62    N      4     N         N   \n",
       "\n",
       "   ...  iterm  locdt  mcc  mchno  ovrlt  scity  stocn stscd    txkey  \\\n",
       "0  ...      0     33  457  59333      N      0    102     0   516056   \n",
       "1  ...      0      9  451      0      N   5817    102     0     4376   \n",
       "2  ...      0      6  457  59333      N      0    102     0   483434   \n",
       "3  ...      0      5  247  50436      N   3281    102     0  1407164   \n",
       "4  ...      0      6  263  93775      N   5817    102     0  1051004   \n",
       "\n",
       "   loctm_hour  \n",
       "0          17  \n",
       "1          10  \n",
       "2          15  \n",
       "3          17  \n",
       "4          18  \n",
       "\n",
       "[5 rows x 23 columns]"
      ]
     },
     "execution_count": 22,
     "metadata": {},
     "output_type": "execute_result"
    }
   ],
   "source": [
    "change_time(df)\n",
    "change_time(df_test)\n",
    "df=df.drop(['loctm'], axis = 1)\n",
    "df_test=df_test.drop(['loctm'], axis = 1)\n",
    "print(df.columns)\n",
    "df.head()"
   ]
  },
  {
   "cell_type": "code",
   "execution_count": 23,
   "metadata": {},
   "outputs": [
    {
     "name": "stdout",
     "output_type": "stream",
     "text": [
      "0    6.241834\n",
      "1    6.143370\n",
      "2    6.241834\n",
      "3    6.923737\n",
      "4    6.570407\n",
      "Name: conam_log, dtype: float64\n"
     ]
    }
   ],
   "source": [
    "money_process(df)\n",
    "money_process(df_test)\n",
    "print(df['conam_log'].head())\n",
    "#print(df['conam_sqrt'].head())"
   ]
  },
  {
   "cell_type": "code",
   "execution_count": 24,
   "metadata": {},
   "outputs": [],
   "source": [
    "#類別轉換\n",
    "cat_cols =  list(df.columns)\n",
    "cat_cols.remove('fraud_ind')\n",
    "cat_cols.remove('txkey')\n",
    "#cat_cols.remove('loctm')\n",
    "cat_cols.remove('locdt')\n",
    "cat_cols.remove('conam')\n",
    "for col in cat_cols:\n",
    "    if col in df.columns:\n",
    "        le = LabelEncoder()\n",
    "        le.fit(list(df[col].astype(str).values) + list(df_test[col].astype(str).values))\n",
    "        df[col] = le.transform(list(df[col].astype(str).values))\n",
    "        df_test[col] = le.transform(list(df_test[col].astype(str).values)) "
   ]
  },
  {
   "cell_type": "code",
   "execution_count": 25,
   "metadata": {},
   "outputs": [],
   "source": [
    "# features interaction 并使用 labelencoder\n",
    "for feature in ['stocn__scity', 'mcc__mchno', 'bacno__cano', 'scity__csmcu', 'etymd__csmcu', 'acqic__etymd']:\n",
    "    f1,f2 = feature.split('__')\n",
    "    df[feature] = df[f1].astype(str) + '_' + df[f2].astype(str)\n",
    "    df_test[feature] = df_test[f1].astype(str) + '_' + df_test[f2].astype(str)\n",
    "\n",
    "    le = LabelEncoder()\n",
    "    le.fit(list(df[feature].astype(str).values) + list(df_test[feature].astype(str).values))\n",
    "    df[feature] = le.transform(list(df[feature].astype(str).values))\n",
    "    df_test[feature] = le.transform(list(df_test[feature].astype(str).values))"
   ]
  },
  {
   "cell_type": "code",
   "execution_count": null,
   "metadata": {},
   "outputs": [],
   "source": [
    "#trainset的資料分布\n",
    "from matplotlib import gridspec\n",
    "plt.figure(figsize=(16,30*4))\n",
    "gs = gridspec.GridSpec(df.shape[1], 1)#创建50行1列的画布\n",
    "for i, col  in enumerate(df[df.columns]):    \n",
    "    ax = plt.subplot(gs[i])\n",
    "    sns.distplot(df[col][df[\"fraud_ind\"] == 1],label = 'Is Fraud',bins=100)\n",
    "    sns.distplot(df[col][df[\"fraud_ind\"] == 0],label = 'Not Fraud',bins=100)\n",
    "    plt.legend();\n",
    "    ax.set_xlabel('')\n",
    "    ax.set_title('histogram of feature: ' + str(col))"
   ]
  },
  {
   "cell_type": "code",
   "execution_count": 26,
   "metadata": {},
   "outputs": [],
   "source": [
    "import copy\n",
    "df_backup = copy.copy(df)\n",
    "df_test_backup = copy.copy(df_test)"
   ]
  },
  {
   "cell_type": "code",
   "execution_count": null,
   "metadata": {},
   "outputs": [],
   "source": [
    "#print(df['acqic'].value_counts(dropna=False, normalize=True).head())\n",
    "for i,cn in enumerate(df_test[df_test.columns]):\n",
    "    print(df_test[cn].value_counts(dropna=False, normalize=True).sort_index())\n",
    "    print(\"-------------------------------\")"
   ]
  },
  {
   "cell_type": "code",
   "execution_count": null,
   "metadata": {},
   "outputs": [],
   "source": [
    "#print(df['acqic'].value_counts(dropna=False, normalize=True).head())\n",
    "for i,cn in enumerate(df[df.columns]):\n",
    "    print(df[cn].value_counts(dropna=False, normalize=True).sort_index())\n",
    "    print(\"-------------------------------\")"
   ]
  },
  {
   "cell_type": "markdown",
   "metadata": {},
   "source": [
    "這裡重新開始"
   ]
  },
  {
   "cell_type": "code",
   "execution_count": 45,
   "metadata": {},
   "outputs": [],
   "source": [
    "df = copy.copy(df_backup)\n",
    "df_test = copy.copy(df_test_backup)"
   ]
  },
  {
   "cell_type": "code",
   "execution_count": 46,
   "metadata": {},
   "outputs": [
    {
     "data": {
      "text/plain": [
       "Index(['acqic', 'bacno', 'cano', 'conam', 'contp', 'csmcu', 'ecfg', 'etymd',\n",
       "       'flbmk', 'flg_3dsmk', 'fraud_ind', 'hcefg', 'insfg', 'iterm', 'locdt',\n",
       "       'mcc', 'mchno', 'ovrlt', 'scity', 'stocn', 'stscd', 'txkey',\n",
       "       'loctm_hour', 'conam_log', 'stocn__scity', 'mcc__mchno', 'bacno__cano',\n",
       "       'scity__csmcu', 'etymd__csmcu', 'acqic__etymd'],\n",
       "      dtype='object')"
      ]
     },
     "execution_count": 46,
     "metadata": {},
     "output_type": "execute_result"
    }
   ],
   "source": [
    "df.columns"
   ]
  },
  {
   "cell_type": "code",
   "execution_count": 37,
   "metadata": {},
   "outputs": [
    {
     "name": "stdout",
     "output_type": "stream",
     "text": [
      "Index(['acqic', 'bacno', 'cano', 'conam', 'contp', 'csmcu', 'ecfg', 'etymd',\n",
      "       'flbmk', 'flg_3dsmk', 'fraud_ind', 'hcefg', 'mcc', 'mchno', 'scity',\n",
      "       'stocn', 'stscd', 'loctm_hour', 'conam_log', 'stocn__scity',\n",
      "       'mcc__mchno', 'bacno__cano', 'scity__csmcu', 'etymd__csmcu',\n",
      "       'acqic__etymd', 'V5', 'V6', 'V1', 'V2', 'V3', 'V4'],\n",
      "      dtype='object')\n",
      "Index(['acqic', 'bacno', 'cano', 'conam', 'contp', 'csmcu', 'ecfg', 'etymd',\n",
      "       'flbmk', 'flg_3dsmk', 'hcefg', 'mcc', 'mchno', 'scity', 'stocn',\n",
      "       'stscd', 'loctm_hour', 'conam_log', 'stocn__scity', 'mcc__mchno',\n",
      "       'bacno__cano', 'scity__csmcu', 'etymd__csmcu', 'acqic__etymd', 'V5',\n",
      "       'V6', 'V1', 'V2', 'V3', 'V4'],\n",
      "      dtype='object')\n"
     ]
    }
   ],
   "source": [
    "by_group_col ='conam'\n",
    "groupby_col =['bacno__cano']\n",
    "df['V5'] = df[by_group_col] / df.groupby(groupby_col)[by_group_col].transform('mean')\n",
    "df['V6'] = df[by_group_col] / df.groupby(groupby_col)[by_group_col].transform('std')\n",
    "df_test['V5'] = df[by_group_col] / df.groupby(groupby_col)[by_group_col].transform('mean')\n",
    "df_test['V6'] = df[by_group_col] / df.groupby(groupby_col)[by_group_col].transform('std')\n",
    "\n",
    "by_group_col ='conam'\n",
    "groupby_col =['cano']\n",
    "df['V1'] = df[by_group_col] / df.groupby(groupby_col)[by_group_col].transform('mean')\n",
    "df['V2'] = df[by_group_col] / df.groupby(groupby_col)[by_group_col].transform('std')\n",
    "df_test['V1'] = df[by_group_col] / df.groupby(groupby_col)[by_group_col].transform('mean')\n",
    "df_test['V2'] = df[by_group_col] / df.groupby(groupby_col)[by_group_col].transform('std')\n",
    "\n",
    "by_group_col ='conam'\n",
    "groupby_col =['scity']\n",
    "df['V3'] = df[by_group_col] / df.groupby(groupby_col)[by_group_col].transform('mean')\n",
    "df['V4'] = df[by_group_col] / df.groupby(groupby_col)[by_group_col].transform('std')\n",
    "df_test['V3'] = df[by_group_col] / df.groupby(groupby_col)[by_group_col].transform('mean')\n",
    "df_test['V4'] = df[by_group_col] / df.groupby(groupby_col)[by_group_col].transform('std')\n",
    "print(df.columns)\n",
    "print(df_test.columns)"
   ]
  },
  {
   "cell_type": "code",
   "execution_count": 11,
   "metadata": {
    "colab": {},
    "colab_type": "code",
    "id": "OUxAU5fmu43n",
    "outputId": "20021e6c-f205-4aa5-a9f4-b7c4c3ae8920"
   },
   "outputs": [
    {
     "name": "stdout",
     "output_type": "stream",
     "text": [
      "No Frauds 98.66 % of the dataset\n",
      "Frauds 1.34 % of the dataset\n"
     ]
    },
    {
     "data": {
      "text/plain": [
       "0    1501432\n",
       "1      20355\n",
       "Name: fraud_ind, dtype: int64"
      ]
     },
     "execution_count": 11,
     "metadata": {},
     "output_type": "execute_result"
    }
   ],
   "source": [
    "print('No Frauds', round(df['fraud_ind'].value_counts()[0]/len(df) * 100,2), '% of the dataset')\n",
    "print('Frauds', round(df['fraud_ind'].value_counts()[1]/len(df) * 100,2), '% of the dataset')\n",
    "df['fraud_ind'].value_counts()"
   ]
  },
  {
   "cell_type": "code",
   "execution_count": 47,
   "metadata": {},
   "outputs": [],
   "source": [
    "#看分布圖處理\n",
    "droplist = ['txkey','locdt','ovrlt','iterm','insfg']\n",
    "df = df.drop(droplist,axis=1)\n",
    "df_test = df_test.drop(droplist,axis=1)\n"
   ]
  },
  {
   "cell_type": "code",
   "execution_count": 13,
   "metadata": {},
   "outputs": [],
   "source": [
    "def clean_inf_nan(df):\n",
    "    return df.replace([np.inf, -np.inf], np.nan)   \n",
    "df = clean_inf_nan(df)\n",
    "df_test = clean_inf_nan(df_test)"
   ]
  },
  {
   "cell_type": "code",
   "execution_count": null,
   "metadata": {},
   "outputs": [],
   "source": [
    "for i,cn in enumerate(df[df.columns]):\n",
    "    print(df[cn].value_counts(dropna=False, normalize=True).head())\n",
    "    print(\"-------------------------------\")"
   ]
  },
  {
   "cell_type": "code",
   "execution_count": 48,
   "metadata": {},
   "outputs": [
    {
     "name": "stdout",
     "output_type": "stream",
     "text": [
      "22\n",
      "22\n"
     ]
    },
    {
     "data": {
      "text/plain": [
       "Index(['acqic', 'cano', 'conam', 'contp', 'csmcu', 'ecfg', 'etymd', 'flbmk',\n",
       "       'flg_3dsmk', 'hcefg', 'mcc', 'mchno', 'scity', 'stocn', 'stscd',\n",
       "       'loctm_hour', 'conam_log', 'stocn__scity', 'mcc__mchno', 'scity__csmcu',\n",
       "       'etymd__csmcu', 'acqic__etymd'],\n",
       "      dtype='object')"
      ]
     },
     "execution_count": 48,
     "metadata": {},
     "output_type": "execute_result"
    }
   ],
   "source": [
    "X_train = df.drop(['fraud_ind'], axis = 1)\n",
    "Y_train = df['fraud_ind'].copy()\n",
    "X_test = df_test\n",
    "print(X_train.shape[1])\n",
    "print(X_test.shape[1])\n",
    "X_train.columns"
   ]
  },
  {
   "cell_type": "code",
   "execution_count": null,
   "metadata": {},
   "outputs": [],
   "source": [
    "for i, col  in enumerate(X_train[X_train.columns]): \n",
    "    X_train[col].plot(kind='hist',\n",
    "                                        figsize=(15, 5),\n",
    "                                        label='train',\n",
    "                                        bins=50,\n",
    "                                        title='Train vs Test '+col+' distribution')\n",
    "    X_test[col].plot(kind='hist',\n",
    "                                       label='test',\n",
    "                                       bins=50)\n",
    "    plt.legend()\n",
    "    plt.show()"
   ]
  },
  {
   "cell_type": "code",
   "execution_count": 49,
   "metadata": {},
   "outputs": [],
   "source": [
    "params = {'num_leaves': 499,\n",
    "          'min_child_weight': 0.009009297771374483,\n",
    "          'feature_fraction': 0.8931730501715401,\n",
    "          'bagging_fraction': 0.8249551970384116,\n",
    "          'min_data_in_leaf': 120,\n",
    "          'objective': 'binary',\n",
    "          'max_depth': 47,\n",
    "          'learning_rate': 0.1,\n",
    "          \"boosting_type\": \"gbdt\",\n",
    "          \"bagging_seed\": 11,\n",
    "          \"metric\": 'auc',\n",
    "          \"verbosity\": -1,\n",
    "          'reg_alpha': 1.1690935357787136,\n",
    "          'reg_lambda': 1.119698800271026,\n",
    "          'is_unbalance': True,\n",
    "          'random_state': 1337,  \n",
    "          'device': 'cpu',\n",
    "          #'gpu_platform_id': 1,\n",
    "          #'gpu_device_id': 0\n",
    "         }"
   ]
  },
  {
   "cell_type": "code",
   "execution_count": 50,
   "metadata": {
    "scrolled": false
   },
   "outputs": [
    {
     "name": "stdout",
     "output_type": "stream",
     "text": [
      "Fold 0\n",
      "Training until validation scores don't improve for 500 rounds.\n",
      "[200]\ttraining's auc: 0.999377\tvalid_1's auc: 0.98605\n",
      "[400]\ttraining's auc: 0.999803\tvalid_1's auc: 0.986369\n",
      "[600]\ttraining's auc: 0.999907\tvalid_1's auc: 0.986429\n",
      "[800]\ttraining's auc: 0.999941\tvalid_1's auc: 0.9862\n",
      "[1000]\ttraining's auc: 0.999956\tvalid_1's auc: 0.985949\n",
      "Early stopping, best iteration is:\n",
      "[556]\ttraining's auc: 0.999893\tvalid_1's auc: 0.986445\n",
      "  auc =  0.986444872256236\n",
      "threshold = 0.5\n",
      "  auc =  0.8961907074432489\n",
      "  f1 =  0.6812639960189102\n",
      "  confusion_matrix = \n",
      " [[248332   1877]\n",
      " [   685   2738]]\n",
      "Fold 1\n",
      "Training until validation scores don't improve for 500 rounds.\n",
      "[200]\ttraining's auc: 0.999374\tvalid_1's auc: 0.985512\n",
      "[400]\ttraining's auc: 0.999791\tvalid_1's auc: 0.985911\n",
      "[600]\ttraining's auc: 0.999903\tvalid_1's auc: 0.986594\n",
      "[800]\ttraining's auc: 0.99994\tvalid_1's auc: 0.986517\n",
      "[1000]\ttraining's auc: 0.999956\tvalid_1's auc: 0.986409\n",
      "Early stopping, best iteration is:\n",
      "[588]\ttraining's auc: 0.999899\tvalid_1's auc: 0.98661\n",
      "  auc =  0.9866099560143264\n",
      "threshold = 0.5\n",
      "  auc =  0.8968432494948794\n",
      "  f1 =  0.692120029275433\n",
      "  confusion_matrix = \n",
      " [[248270   1819]\n",
      " [   705   2837]]\n",
      "Fold 2\n",
      "Training until validation scores don't improve for 500 rounds.\n",
      "[200]\ttraining's auc: 0.999349\tvalid_1's auc: 0.986561\n",
      "[400]\ttraining's auc: 0.999795\tvalid_1's auc: 0.986885\n",
      "[600]\ttraining's auc: 0.999905\tvalid_1's auc: 0.986921\n",
      "[800]\ttraining's auc: 0.99994\tvalid_1's auc: 0.986732\n",
      "[1000]\ttraining's auc: 0.999955\tvalid_1's auc: 0.986453\n",
      "Early stopping, best iteration is:\n",
      "[565]\ttraining's auc: 0.999894\tvalid_1's auc: 0.987005\n",
      "  auc =  0.9870053977577133\n",
      "threshold = 0.5\n",
      "  auc =  0.9002877582013195\n",
      "  f1 =  0.6676783004552352\n",
      "  confusion_matrix = \n",
      " [[248363   2003]\n",
      " [   625   2640]]\n",
      "Fold 3\n",
      "Training until validation scores don't improve for 500 rounds.\n",
      "[200]\ttraining's auc: 0.999353\tvalid_1's auc: 0.987113\n",
      "[400]\ttraining's auc: 0.999795\tvalid_1's auc: 0.98769\n",
      "[600]\ttraining's auc: 0.999907\tvalid_1's auc: 0.987464\n",
      "[800]\ttraining's auc: 0.999942\tvalid_1's auc: 0.987226\n",
      "Early stopping, best iteration is:\n",
      "[430]\ttraining's auc: 0.999823\tvalid_1's auc: 0.98776\n",
      "  auc =  0.9877601942761599\n",
      "threshold = 0.5\n",
      "  auc =  0.9049876088972502\n",
      "  f1 =  0.6540118784208688\n",
      "  confusion_matrix = \n",
      " [[247852   2352]\n",
      " [   619   2808]]\n",
      "Fold 4\n",
      "Training until validation scores don't improve for 500 rounds.\n",
      "[200]\ttraining's auc: 0.999352\tvalid_1's auc: 0.984691\n",
      "[400]\ttraining's auc: 0.999784\tvalid_1's auc: 0.985051\n",
      "[600]\ttraining's auc: 0.999899\tvalid_1's auc: 0.98503\n",
      "Early stopping, best iteration is:\n",
      "[289]\ttraining's auc: 0.999613\tvalid_1's auc: 0.985212\n",
      "  auc =  0.9852123394385675\n",
      "threshold = 0.5\n",
      "  auc =  0.9106388957605902\n",
      "  f1 =  0.5884905465440644\n",
      "  confusion_matrix = \n",
      " [[246800   3420]\n",
      " [   563   2848]]\n",
      "Fold 5\n",
      "Training until validation scores don't improve for 500 rounds.\n",
      "[200]\ttraining's auc: 0.999326\tvalid_1's auc: 0.983883\n",
      "[400]\ttraining's auc: 0.999776\tvalid_1's auc: 0.984572\n",
      "[600]\ttraining's auc: 0.99989\tvalid_1's auc: 0.984727\n",
      "[800]\ttraining's auc: 0.999935\tvalid_1's auc: 0.984717\n",
      "Early stopping, best iteration is:\n",
      "[457]\ttraining's auc: 0.999825\tvalid_1's auc: 0.984892\n",
      "  auc =  0.9848923646198213\n",
      "threshold = 0.5\n",
      "  auc =  0.8902150640718371\n",
      "  f1 =  0.6371225141173582\n",
      "  confusion_matrix = \n",
      " [[248080   2264]\n",
      " [   692   2595]]\n",
      "avg  f1 =  0.6534478774719784\n"
     ]
    }
   ],
   "source": [
    "feature_importances = pd.DataFrame()\n",
    "feature_importances['feature'] = X_train.columns\n",
    "\n",
    "splits = 6\n",
    "folds = KFold(n_splits = splits)\n",
    "oof = np.zeros(len(X_train))\n",
    "predictions = np.zeros(len(X_test))\n",
    "f1_avg = 0\n",
    "for fold_, (trn_idx, val_idx) in enumerate(folds.split(X_train.values, Y_train.values)):\n",
    "    print(\"Fold {}\".format(fold_))\n",
    "    train_df, y_train_df = X_train.iloc[trn_idx], Y_train.iloc[trn_idx]\n",
    "    valid_df, y_valid_df = X_train.iloc[val_idx], Y_train.iloc[val_idx]\n",
    "    \n",
    "    trn_data = lgb.Dataset(train_df, label=y_train_df)\n",
    "    val_data = lgb.Dataset(valid_df, label=y_valid_df)\n",
    "    \n",
    "    #clf = lgb.LGBMClassifier(**params, n_estimators = 1, n_jobs = -1)    \n",
    "    #clf.fit(train_df, \n",
    "    #          y_train_df, \n",
    "    #          eval_set=[(train_df, y_train_df), ( valid_df, y_valid_df)], \n",
    "    #          eval_metric='auc',\n",
    "    #          verbose=10000, \n",
    "    #          early_stopping_rounds=200)\n",
    "    \n",
    "    clf = lgb.train(params,\n",
    "                    trn_data,\n",
    "                    num_boost_round= 10000,\n",
    "                    valid_sets = [trn_data, val_data],\n",
    "                    verbose_eval=200,\n",
    "                    early_stopping_rounds = 500)\n",
    "    pred = clf.predict(valid_df)\n",
    "    \n",
    "    #pred = clf.predict_proba(valid_df, num_iteration=clf.best_iteration_)[:,1]\n",
    "    \n",
    "   \n",
    "   \n",
    "    \n",
    "    # first_model是已经训练好的模型 \n",
    "    #perm = PermutationImportance(clf, random_state=1337).fit(valid_df, y_valid_df)\n",
    "   \n",
    "    \n",
    "    feature_importances['fold_{}'.format(fold_ + 1)] = clf.feature_importance()\n",
    "    \n",
    "    print( \"  auc = \", roc_auc_score(y_valid_df, pred) )\n",
    "    threshold = 0.5\n",
    "    print(\"threshold =\",threshold )\n",
    "    y_pre = [int(item>threshold) for  item in pred]\n",
    "    print( \"  auc = \", roc_auc_score(y_valid_df, y_pre) )\n",
    "    print( \"  f1 = \", f1_score(y_valid_df, y_pre))\n",
    "    f1_avg+=f1_score(y_valid_df, y_pre)\n",
    "    print( \"  confusion_matrix = \\r\\n\", confusion_matrix(y_valid_df, y_pre) )\n",
    "    \n",
    "    # 显示结果\n",
    "    #eli5.show_weights(perm, feature_names = valid_df.columns.tolist())\n",
    "   \n",
    "    predictions += clf.predict(X_test) / splits\n",
    "print( \"avg  f1 = \", f1_avg/ splits)"
   ]
  },
  {
   "cell_type": "code",
   "execution_count": 51,
   "metadata": {
    "scrolled": true
   },
   "outputs": [
    {
     "data": {
      "image/png": "[encoded data removed]",
      "text/plain": [
       "<Figure size 1152x1152 with 1 Axes>"
      ]
     },
     "metadata": {
      "needs_background": "light"
     },
     "output_type": "display_data"
    }
   ],
   "source": [
    "feature_importances['average'] = feature_importances.mean(axis=1)\n",
    "\n",
    "plt.figure(figsize=(16, 16))\n",
    "sns.barplot(data=feature_importances.sort_values(by='average', ascending=False).head(30), x='average', y='feature')\n",
    "plt.title('TOP feature importance over cv folds average');"
   ]
  },
  {
   "cell_type": "code",
   "execution_count": 43,
   "metadata": {
    "colab": {},
    "colab_type": "code",
    "id": "cHYcGd96u45M",
    "scrolled": true
   },
   "outputs": [],
   "source": [
    "# 结果保存\n",
    "threshold = 0.5\n",
    "predictions = [int(item>threshold) for  item in predictions]\n",
    "sampleSubmission = pd.read_csv('submission_test_sample.csv')\n",
    "sampleSubmission['fraud_ind'] = predictions\n",
    "sampleSubmission.to_csv('submission_test.csv',index = None)"
   ]
  },
  {
   "cell_type": "code",
   "execution_count": null,
   "metadata": {},
   "outputs": [],
   "source": [
    "threshold = 0.5\n",
    "y_pre = [int(item>threshold) for  item in pred]\n",
    "print( \"  auc = \", roc_auc_score(y_valid_df, y_pre))\n",
    "print( \"  f1 = \", f1_score(y_valid_df, y_pre))\n",
    "print( \"  confusion_matrix = \\r\\n\", confusion_matrix(y_valid_df, y_pre) )\n",
    "#predictions += clf.predict(X_test) / splits"
   ]
  }
 ],
 "metadata": {
  "colab": {
   "name": "Untitled4.ipynb",
   "provenance": [],
   "version": "0.3.2"
  },
  "kernelspec": {
   "display_name": "Python 3",
   "language": "python",
   "name": "python3"
  },
  "language_info": {
   "codemirror_mode": {
    "name": "ipython",
    "version": 3
   },
   "file_extension": ".py",
   "mimetype": "text/x-python",
   "name": "python",
   "nbconvert_exporter": "python",
   "pygments_lexer": "ipython3",
   "version": "3.7.3"
  }
 },
 "nbformat": 4,
 "nbformat_minor": 1
}
