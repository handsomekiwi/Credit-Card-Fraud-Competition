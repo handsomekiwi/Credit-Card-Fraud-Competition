{
 "cells": [
  {
   "cell_type": "code",
   "execution_count": 1,
   "metadata": {
    "colab": {},
    "colab_type": "code",
    "id": "tgIZqKGkRE1t"
   },
   "outputs": [],
   "source": [
    "import numpy as np # linear algebra\n",
    "import pandas as pd # data processing, CSV file I/O (e.g. pd.read_csv)\n",
    "import matplotlib.pyplot as plt\n",
    "import seaborn as sns\n",
    "from sklearn.manifold import TSNE\n",
    "from sklearn.decomposition import PCA, TruncatedSVD\n",
    "from sklearn.metrics import confusion_matrix\n",
    "import matplotlib.patches as mpatches\n",
    "from sklearn.model_selection import train_test_split\n",
    "from sklearn.model_selection import StratifiedShuffleSplit\n",
    "from xgboost.sklearn import XGBClassifier\n",
    "import xgboost as xgb\n",
    "from sklearn.model_selection import GridSearchCV\n",
    "import lightgbm as lgb\n",
    "import os\n",
    "import time\n",
    "\n",
    "from sklearn.preprocessing import OneHotEncoder\n",
    "\n",
    "from sklearn.model_selection import KFold,GroupKFold,StratifiedKFold\n",
    "import copy\n",
    "from sklearn.preprocessing import LabelEncoder\n",
    "\n",
    "from sklearn.metrics import roc_auc_score\n",
    "from sklearn.metrics import roc_curve ,precision_recall_curve,log_loss,average_precision_score\n",
    "from sklearn.metrics import f1_score\n",
    "import random\n",
    "import gc\n",
    "from catboost import CatBoostClassifier\n",
    "%matplotlib inline"
   ]
  },
  {
   "cell_type": "code",
   "execution_count": 2,
   "metadata": {
    "colab": {},
    "colab_type": "code",
    "id": "rdJxleh5Rsi-"
   },
   "outputs": [],
   "source": [
    "def reduce_mem_usage(df):\n",
    "    \"\"\" iterate through all the columns of a dataframe and modify the data type\n",
    "        to reduce memory usage.        \n",
    "    \"\"\"\n",
    "    start_mem = df.memory_usage().sum() / 1024**2\n",
    "    print('Memory usage of dataframe is {:.2f} MB'.format(start_mem))\n",
    "    \n",
    "    for col in df.columns:\n",
    "        col_type = df[col].dtype\n",
    "        \n",
    "        if col_type != object:\n",
    "            c_min = df[col].min()\n",
    "            c_max = df[col].max()\n",
    "            if str(col_type)[:3] == 'int':\n",
    "                if c_min > np.iinfo(np.int8).min and c_max < np.iinfo(np.int8).max:\n",
    "                    df[col] = df[col].astype(np.int8)\n",
    "                elif c_min > np.iinfo(np.int16).min and c_max < np.iinfo(np.int16).max:\n",
    "                    df[col] = df[col].astype(np.int16)\n",
    "                elif c_min > np.iinfo(np.int32).min and c_max < np.iinfo(np.int32).max:\n",
    "                    df[col] = df[col].astype(np.int32)\n",
    "                elif c_min > np.iinfo(np.int64).min and c_max < np.iinfo(np.int64).max:\n",
    "                    df[col] = df[col].astype(np.int64)  \n",
    "            else:\n",
    "                if c_min > np.finfo(np.float16).min and c_max < np.finfo(np.float16).max:\n",
    "                    df[col] = df[col].astype(np.float16)\n",
    "                elif c_min > np.finfo(np.float32).min and c_max < np.finfo(np.float32).max:\n",
    "                    df[col] = df[col].astype(np.float32)\n",
    "                else:\n",
    "                    df[col] = df[col].astype(np.float64)\n",
    "        else:\n",
    "            df[col] = df[col].astype('category')\n",
    "\n",
    "    end_mem = df.memory_usage().sum() / 1024**2\n",
    "    print('Memory usage after optimization is: {:.2f} MB'.format(end_mem))\n",
    "    print('Decreased by {:.1f}%'.format(100 * (start_mem - end_mem) / start_mem))\n",
    "    \n",
    "    return df"
   ]
  },
  {
   "cell_type": "code",
   "execution_count": 3,
   "metadata": {
    "colab": {
     "base_uri": "https://localhost:8080/",
     "height": 118
    },
    "colab_type": "code",
    "id": "ldQ7MZ9WRE15",
    "outputId": "89f95bdc-d488-4799-ef62-068262cae1fe",
    "scrolled": true
   },
   "outputs": [],
   "source": [
    "#df = reduce_mem_usage(pd.read_csv('/content/drive/My Drive/fraudremove/train.csv'))\n",
    "#df_test = reduce_mem_usage(pd.read_csv('/content/drive/My Drive/fraudremove/test.csv'))\n",
    "df_sortprob = pd.read_csv('df_sortprob_23_no_test.csv')\n",
    "df = pd.read_csv('train.csv')\n",
    "df_test = pd.read_csv('test.csv')"
   ]
  },
  {
   "cell_type": "code",
   "execution_count": 4,
   "metadata": {
    "colab": {},
    "colab_type": "code",
    "id": "43acOdimRE1_"
   },
   "outputs": [],
   "source": [
    "def show_cor(df1):\n",
    "    plt.figure(figsize = (20,20))\n",
    "    df_corr = df1.corr()\n",
    "    sns.heatmap(df_corr,fmt = '0.2f',annot = True,xticklabels=df_corr.columns,yticklabels=df_corr.columns,cmap=\"Reds\")\n",
    "    plt.show()"
   ]
  },
  {
   "cell_type": "code",
   "execution_count": 5,
   "metadata": {},
   "outputs": [],
   "source": [
    "# FREQUENCY ENCODE TOGETHER\n",
    "def encode_FE(df1, df2, cols):\n",
    "    for col in cols:\n",
    "        df = pd.concat([df1[col],df2[col]])\n",
    "        vc = df.value_counts(dropna=True, normalize=True).to_dict()\n",
    "        nm = col+'_FE'\n",
    "        df1[nm] = df1[col].map(vc)\n",
    "        df1[nm] = df1[nm].astype('float32')\n",
    "        df2[nm] = df2[col].map(vc)\n",
    "        df2[nm] = df2[nm].astype('float32')\n",
    "        print(\"'\"+nm+\"'\",', ',end='')        "
   ]
  },
  {
   "cell_type": "code",
   "execution_count": 6,
   "metadata": {
    "colab": {},
    "colab_type": "code",
    "id": "94Uv_tCFRE2O"
   },
   "outputs": [],
   "source": [
    "# LABEL ENCODE\n",
    "def encode_LE(cat_cols,train,test):\n",
    "    for col in cat_cols:\n",
    "        if col in train.columns:\n",
    "            le = LabelEncoder()\n",
    "            le.fit(list(train[col].astype(str).values) + list(test[col].astype(str).values))\n",
    "            train[col] = le.transform(list(train[col].astype(str).values))\n",
    "            test[col] = le.transform(list(test[col].astype(str).values))      "
   ]
  },
  {
   "cell_type": "code",
   "execution_count": 7,
   "metadata": {
    "colab": {},
    "colab_type": "code",
    "id": "0_GEIjJ2RE2V"
   },
   "outputs": [],
   "source": [
    "def group_ag(main_columns, uids, train_df, test_df, aggregations=['mean'],\n",
    "              fillna = True):\n",
    "    # AGGREGATION OF MAIN WITH UID FOR GIVEN STATISTICS\n",
    "    for main_column in main_columns:  \n",
    "        for col in uids:\n",
    "            for agg_type in aggregations:\n",
    "                new_col_name = main_column+'__'+col+'_'+agg_type\n",
    "                #拼接训练集和测试集\n",
    "                temp_df = pd.concat([train_df[[col, main_column]], test_df[[col,main_column]]])  \n",
    "                #求AGG\n",
    "                temp_df = temp_df.groupby([col])[main_column].agg([agg_type]).reset_index().rename(columns={agg_type: new_col_name})\n",
    "                # 取出目标列作为索引\n",
    "                temp_df.index = list(temp_df[col])\n",
    "                # 生成map对应的字典\n",
    "                temp_df = temp_df[new_col_name].to_dict()   \n",
    "\n",
    "                train_df[new_col_name] = train_df[col].map(temp_df).astype('float32')\n",
    "                test_df[new_col_name]  = test_df[col].map(temp_df).astype('float32')\n",
    "                \n",
    "                if fillna:\n",
    "                    train_df[new_col_name].fillna(-100,inplace=True)\n",
    "                    test_df[new_col_name].fillna(-100,inplace=True)  \n",
    "                    \n",
    "                print(\"'\"+new_col_name+\"'\",', ',end='')\n",
    "#group_ag(['conam'],['cano'],df,df_test,['mean','std'])\n",
    "#df['conam_cano_std'].value_counts()"
   ]
  },
  {
   "cell_type": "code",
   "execution_count": 8,
   "metadata": {
    "colab": {},
    "colab_type": "code",
    "id": "uKX1H8GzRE2c"
   },
   "outputs": [],
   "source": [
    "def fillna(df1,df2,col):\n",
    "    df1[col] = df1[col].map( {'Y': 1, 'N': 0} )\n",
    "    df2[col] = df2[col].map( {'Y': 1, 'N': 0} )\n",
    "    df1[col]=df1[col].fillna(-100)\n",
    "    df2[col]=df2[col].fillna(-100)     \n",
    "    print(df1[col].value_counts(dropna=False, normalize=True).head())     "
   ]
  },
  {
   "cell_type": "code",
   "execution_count": 9,
   "metadata": {},
   "outputs": [],
   "source": [
    "def fillNY(df1,df2,col):\n",
    "    df1[col] = df1[col].map( {'Y': 1, 'N': 0} )\n",
    "    df2[col] = df2[col].map( {'Y': 1, 'N': 0} )   \n",
    "    print(df1[col].value_counts(dropna=False, normalize=True).head())      "
   ]
  },
  {
   "cell_type": "code",
   "execution_count": 10,
   "metadata": {
    "colab": {},
    "colab_type": "code",
    "id": "YwWHzglGRE2l"
   },
   "outputs": [],
   "source": [
    "# COMBINE FEATURES\n",
    "def encode_CB(col1,col2,df1,df2):\n",
    "    nm = col1+'_'+col2\n",
    "    df1[nm] = df1[col1].astype(str)+'_'+df1[col2].astype(str)\n",
    "    df2[nm] = df2[col1].astype(str)+'_'+df2[col2].astype(str) \n",
    "    le = LabelEncoder()\n",
    "    le.fit(list(df[nm].astype(str).values) + list(df_test[nm].astype(str).values))\n",
    "    df[nm] = le.transform(list(df[nm].astype(str).values))\n",
    "    df_test[nm] = le.transform(list(df_test[nm].astype(str).values))\n",
    "    print(\"'\"+nm+\"'\",', ',end='')\n",
    "   "
   ]
  },
  {
   "cell_type": "code",
   "execution_count": 11,
   "metadata": {},
   "outputs": [
    {
     "data": {
      "text/plain": [
       "['contp', 'flbmk', 'flg_3dsmk', 'hcefg', 'insfg', 'iterm', 'ovrlt']"
      ]
     },
     "execution_count": 11,
     "metadata": {},
     "output_type": "execute_result"
    }
   ],
   "source": [
    "big_top_value_cols = [col for col in df.columns if df[col].value_counts(dropna=False, normalize=True).values[0] > 0.9]\n",
    "big_top_value_cols.remove('fraud_ind')\n",
    "big_top_value_cols.remove('stscd')\n",
    "#big_top_value_cols.remove('iterm')\n",
    "#big_top_value_cols.remove('hcefg')\n",
    "#big_top_value_cols.remove('contp')\n",
    "big_top_value_cols"
   ]
  },
  {
   "cell_type": "code",
   "execution_count": 12,
   "metadata": {
    "colab": {},
    "colab_type": "code",
    "id": "yDiJTXpIRE2s"
   },
   "outputs": [
    {
     "name": "stdout",
     "output_type": "stream",
     "text": [
      "0    0.972196\n",
      "1    0.027804\n",
      "Name: insfg, dtype: float64\n",
      "0    0.986693\n",
      "1    0.013307\n",
      "Name: ovrlt, dtype: float64\n",
      "0    0.745513\n",
      "1    0.254487\n",
      "Name: ecfg, dtype: float64\n",
      " 0.0      0.988399\n",
      "-100.0    0.008267\n",
      " 1.0      0.003334\n",
      "Name: flbmk, dtype: float64\n",
      " 0.0      0.949454\n",
      " 1.0      0.042279\n",
      "-100.0    0.008267\n",
      "Name: flg_3dsmk, dtype: float64\n"
     ]
    }
   ],
   "source": [
    "#not use label encoding\n",
    "fillNY(df,df_test,'insfg')\n",
    "fillNY(df,df_test,'ovrlt')\n",
    "fillNY(df,df_test,'ecfg')\n",
    "fillna(df,df_test,'flbmk')\n",
    "fillna(df,df_test,'flg_3dsmk')"
   ]
  },
  {
   "cell_type": "code",
   "execution_count": 13,
   "metadata": {
    "colab": {},
    "colab_type": "code",
    "id": "rzwAyqMBSG1T"
   },
   "outputs": [],
   "source": [
    "def change_time(data):\n",
    "    time = data['loctm']\n",
    "    hour = []\n",
    "    minute = []\n",
    "    second = []\n",
    "    for i in time:        \n",
    "        h = int(i/10000)\n",
    "        m = int(i%10000/100)\n",
    "        s = int(i%100)\n",
    "        hour.append(h)\n",
    "        minute.append(m)\n",
    "        second.append(s)\n",
    "    data['loctm_hour'] = hour\n",
    "    data['loctm_min'] = minute\n",
    "    data['loctm_s'] = second"
   ]
  },
  {
   "cell_type": "code",
   "execution_count": 14,
   "metadata": {
    "colab": {},
    "colab_type": "code",
    "id": "RMdnbSutSJS_"
   },
   "outputs": [],
   "source": [
    "def money_process(data):\n",
    "    log =[]\n",
    "    sqrt =[]\n",
    "    for i in data['conam']:\n",
    "        if(i==0):\n",
    "            sqrt.append(i)\n",
    "            log.append(i) \n",
    "        else:\n",
    "            l = np.log(i)\n",
    "            s = np.sqrt(i)\n",
    "            sqrt.append(s)\n",
    "            log.append(l)\n",
    "    #data['conam_log'] = log\n",
    "    data['conam_sqrt'] = sqrt  \n",
    "#money_process(df)\n",
    "#money_process(df_test)\n",
    "#print(df['conam_log'].head())"
   ]
  },
  {
   "cell_type": "code",
   "execution_count": 15,
   "metadata": {
    "colab": {},
    "colab_type": "code",
    "id": "b0QjIi9bRE3B"
   },
   "outputs": [
    {
     "name": "stdout",
     "output_type": "stream",
     "text": [
      "Index(['acqic', 'bacno', 'cano', 'conam', 'csmcu', 'ecfg', 'etymd',\n",
      "       'fraud_ind', 'locdt', 'loctm', 'mcc', 'mchno', 'scity', 'stocn',\n",
      "       'stscd', 'txkey', 'loctm_hour', 'loctm_min', 'loctm_s'],\n",
      "      dtype='object')\n",
      "(1521787, 19)\n"
     ]
    }
   ],
   "source": [
    "change_time(df_sortprob)\n",
    "change_time(df)\n",
    "change_time(df_test)\n",
    "import copy\n",
    "df_sortprob=df_sortprob.drop(big_top_value_cols, axis=1)\n",
    "df=df.drop(big_top_value_cols, axis=1)\n",
    "df_test=df_test.drop(big_top_value_cols, axis=1)\n",
    "df_backup = copy.copy(df_sortprob)\n",
    "df_test_backup = copy.copy(df_test)\n",
    "print(df.columns)\n",
    "print(df.shape)"
   ]
  },
  {
   "cell_type": "code",
   "execution_count": 16,
   "metadata": {},
   "outputs": [],
   "source": [
    "# PR 曲线对比\n",
    "def show_pr():\n",
    "        l_pr,l_re,l_t = precision_recall_curve(y_valid_df,last_pred)\n",
    "        pr,re,t = precision_recall_curve(y_valid_df,pred)\n",
    "        plt.figure(figsize=(8,8))\n",
    "        plt.plot(l_pr,l_re,color='red',label='last best')\n",
    "        plt.plot(pr,re,color='green',label=\"now\")\n",
    "        plt.legend()\n",
    "        plt.show()"
   ]
  },
  {
   "cell_type": "markdown",
   "metadata": {
    "colab_type": "text",
    "id": "VFP92IJ4RE3P"
   },
   "source": [
    "## 從這裡開始"
   ]
  },
  {
   "cell_type": "code",
   "execution_count": 17,
   "metadata": {
    "colab": {
     "base_uri": "https://localhost:8080/",
     "height": 101
    },
    "colab_type": "code",
    "id": "giBLbj4eRE3R",
    "outputId": "52d972d3-2199-4d79-9178-e19beb6b904a"
   },
   "outputs": [
    {
     "name": "stdout",
     "output_type": "stream",
     "text": [
      "19\n",
      "18\n",
      "Index(['acqic', 'bacno', 'cano', 'conam', 'csmcu', 'ecfg', 'etymd',\n",
      "       'fraud_ind', 'locdt', 'loctm', 'mcc', 'mchno', 'scity', 'stocn',\n",
      "       'stscd', 'txkey', 'loctm_hour', 'loctm_min', 'loctm_s'],\n",
      "      dtype='object')\n",
      "Index(['acqic', 'bacno', 'cano', 'conam', 'csmcu', 'ecfg', 'etymd', 'locdt',\n",
      "       'loctm', 'mcc', 'mchno', 'scity', 'stocn', 'stscd', 'txkey',\n",
      "       'loctm_hour', 'loctm_min', 'loctm_s'],\n",
      "      dtype='object')\n"
     ]
    }
   ],
   "source": [
    "df = copy.copy(df_backup)\n",
    "df_test = copy.copy(df_test_backup)\n",
    "print(df.shape[1])\n",
    "print(df_test.shape[1])\n",
    "print(df.columns)\n",
    "print(df_test.columns)"
   ]
  },
  {
   "cell_type": "code",
   "execution_count": 18,
   "metadata": {},
   "outputs": [
    {
     "name": "stdout",
     "output_type": "stream",
     "text": [
      "'bacno_cano' , 'mcc_mchno' , 'stocn_scity' , 'stscd_csmcu' , 'cano_mcc_mchno' , 'cano_acqic' , 'cano_conam' , 'cano_csmcu' , 'cano_ecfg' , 'cano_etymd' , 'cano_locdt' , 'cano_loctm' , 'cano_mcc' , 'cano_mchno' , 'cano_scity' , 'cano_stocn' , 'cano_stscd' , 'cano_loctm_hour' , 'cano_loctm_min' , 'cano_loctm_s' , "
     ]
    }
   ],
   "source": [
    "cano_col=['acqic', 'conam', 'csmcu', 'ecfg', 'etymd',\n",
    "        'locdt', 'loctm', 'mcc', 'mchno', 'scity', 'stocn',\n",
    "       'stscd',  'loctm_hour', 'loctm_min', 'loctm_s']\n",
    "##新特徵\n",
    "\n",
    "encode_CB('bacno','cano',df,df_test) \n",
    "encode_CB('mcc','mchno',df,df_test)\n",
    "encode_CB('stocn','scity',df,df_test)\n",
    "encode_CB('stscd','csmcu',df,df_test)\n",
    "encode_CB('cano','mcc_mchno',df,df_test)\n",
    "for col in cano_col:\n",
    "    encode_CB('cano',col,df,df_test)\n",
    "    \n"
   ]
  },
  {
   "cell_type": "code",
   "execution_count": 19,
   "metadata": {},
   "outputs": [
    {
     "name": "stdout",
     "output_type": "stream",
     "text": [
      "'acqic_FE' , 'bacno_FE' , 'cano_FE' , 'conam_FE' , 'csmcu_FE' , 'ecfg_FE' , 'etymd_FE' , 'mcc_FE' , 'mchno_FE' , 'scity_FE' , 'stocn_FE' , 'stscd_FE' , 'loctm_hour_FE' , 'stocn_scity_FE' , 'mcc_mchno_FE' , "
     ]
    }
   ],
   "source": [
    "count_features =['acqic', 'bacno', 'cano', 'conam',  'csmcu', 'ecfg', 'etymd',\n",
    "         'mcc', 'mchno',\n",
    "       'scity', 'stocn', 'stscd',  'loctm_hour', 'stocn_scity','mcc_mchno']   \n",
    "\n",
    "encode_FE(df,df_test,count_features)\n",
    "cf =  [  'bacno_FE' , 'cano_FE'  ,\n",
    "      'mcc_FE' , 'mchno_FE' , \n",
    "      'mcc_mchno_FE' , ]"
   ]
  },
  {
   "cell_type": "code",
   "execution_count": 20,
   "metadata": {},
   "outputs": [
    {
     "name": "stdout",
     "output_type": "stream",
     "text": [
      "'cano_locdt_FE' , "
     ]
    }
   ],
   "source": [
    "count_features =['cano_locdt']\n",
    "\n",
    "encode_FE(df,df_test,count_features)\n",
    "cf2 =  [  'cano_locdt_FE'  ]"
   ]
  },
  {
   "cell_type": "code",
   "execution_count": 21,
   "metadata": {},
   "outputs": [
    {
     "name": "stdout",
     "output_type": "stream",
     "text": [
      "'loctm_hour__cano_mcc_mean' , 'loctm_hour__cano_mcc_std' , 'csmcu__cano_mcc_mean' , 'csmcu__cano_mcc_std' , 'acqic__cano_mcc_mean' , 'acqic__cano_mcc_std' , 'stocn__cano_mcc_mean' , 'stocn__cano_mcc_std' , 'mchno__cano_mcc_mean' , 'mchno__cano_mcc_std' , 'etymd__cano_mcc_mean' , 'etymd__cano_mcc_std' , 'scity__cano_mcc_mean' , 'scity__cano_mcc_std' , 'stscd__cano_mcc_mean' , 'stscd__cano_mcc_std' , 'mcc_mchno__cano_mcc_mean' , 'mcc_mchno__cano_mcc_std' , 'conam__cano_mcc_mean' , 'conam__cano_mcc_std' , 'mcc__cano_mcc_mean' , 'mcc__cano_mcc_std' , 'stocn_scity__cano_mcc_mean' , 'stocn_scity__cano_mcc_std' , 'acqic__cano_mean' , 'acqic__cano_std' , 'conam__cano_mean' , 'conam__cano_std' , 'csmcu__cano_mean' , 'csmcu__cano_std' , 'ecfg__cano_mean' , 'ecfg__cano_std' , 'etymd__cano_mean' , 'etymd__cano_std' , 'mcc__cano_mean' , 'mcc__cano_std' , 'mchno__cano_mean' , 'mchno__cano_std' , 'scity__cano_mean' , 'scity__cano_std' , 'stocn__cano_mean' , 'stocn__cano_std' , 'stscd__cano_mean' , 'stscd__cano_std' , 'loctm_hour__cano_mean' , 'loctm_hour__cano_std' , 'stocn_scity__cano_mean' , 'stocn_scity__cano_std' , 'mcc_mchno__cano_mean' , 'mcc_mchno__cano_std' , 'loctm_hour__cano_locdt_mean' , 'loctm_hour__cano_locdt_std' , 'csmcu__cano_locdt_mean' , 'csmcu__cano_locdt_std' , 'acqic__cano_locdt_mean' , 'acqic__cano_locdt_std' , 'stocn__cano_locdt_mean' , 'stocn__cano_locdt_std' , 'mchno__cano_locdt_mean' , 'mchno__cano_locdt_std' , 'etymd__cano_locdt_mean' , 'etymd__cano_locdt_std' , 'scity__cano_locdt_mean' , 'scity__cano_locdt_std' , 'stscd__cano_locdt_mean' , 'stscd__cano_locdt_std' , 'mcc_mchno__cano_locdt_mean' , 'mcc_mchno__cano_locdt_std' , 'conam__cano_locdt_mean' , 'conam__cano_locdt_std' , 'mcc__cano_locdt_mean' , 'mcc__cano_locdt_std' , 'stocn_scity__cano_locdt_mean' , 'stocn_scity__cano_locdt_std' , "
     ]
    }
   ],
   "source": [
    "col_test =['acqic', 'conam',  'csmcu', 'ecfg', 'etymd',\n",
    "         'mcc', 'mchno',\n",
    "       'scity', 'stocn', 'stscd',  'loctm_hour', 'stocn_scity','mcc_mchno']\n",
    "\n",
    "re_num_2 =['ecfg']\n",
    "\n",
    "new = set(col_test)-set(re_num_2)\n",
    "for col in list(new):      \n",
    "    group_ag([col],['cano_mcc'],df,df_test,['mean','std'])  \n",
    "for col in col_test:      \n",
    "    group_ag([col],['cano'],df,df_test,['mean','std'])\n",
    "for col in list(new):      \n",
    "    group_ag([col],['cano_locdt'],df,df_test,['mean','std'])  "
   ]
  },
  {
   "cell_type": "code",
   "execution_count": null,
   "metadata": {},
   "outputs": [],
   "source": [
    "['bacno_cano' , 'mcc_mchno' , 'stocn_scity' , 'stscd_csmcu' , 'cano_mcc_mchno' , 'cano_acqic'\n",
    " , 'cano_conam' , 'cano_csmcu' , 'cano_ecfg' , 'cano_etymd' , 'cano_locdt' , 'cano_loctm' , \n",
    " 'cano_mcc' , 'cano_mchno' , 'cano_scity' ,\n",
    " 'cano_stocn' , 'cano_stscd' , 'cano_loctm_hour' , 'cano_loctm_min' , 'cano_loctm_s' , ]"
   ]
  },
  {
   "cell_type": "code",
   "execution_count": 28,
   "metadata": {},
   "outputs": [
    {
     "name": "stdout",
     "output_type": "stream",
     "text": [
      "'mcc_mchno__cano_scity_mean' , 'mcc_mchno__cano_scity_std' , 'mcc__cano_scity_mean' , 'mcc__cano_scity_std' , 'etymd__cano_scity_mean' , 'etymd__cano_scity_std' , 'conam__cano_scity_mean' , 'conam__cano_scity_std' , 'mchno__cano_scity_mean' , 'mchno__cano_scity_std' , 'scity__cano_scity_mean' , 'scity__cano_scity_std' , 'stocn_scity__cano_scity_mean' , 'stocn_scity__cano_scity_std' , 'acqic__cano_scity_mean' , 'acqic__cano_scity_std' , 'loctm_hour__cano_scity_mean' , 'loctm_hour__cano_scity_std' , 'stocn__cano_scity_mean' , 'stocn__cano_scity_std' , 'stscd__cano_scity_mean' , 'stscd__cano_scity_std' , 'csmcu__cano_scity_mean' , 'csmcu__cano_scity_std' , "
     ]
    }
   ],
   "source": [
    "for col in list(new):      \n",
    "    group_ag([col],['cano_scity'],df,df_test,['mean','std'])  "
   ]
  },
  {
   "cell_type": "code",
   "execution_count": null,
   "metadata": {},
   "outputs": [],
   "source": [
    "for col in list(new):      \n",
    "    group_ag([col],['cano_stocn'],df,df_test,['mean','std'])  #fail"
   ]
  },
  {
   "cell_type": "code",
   "execution_count": null,
   "metadata": {},
   "outputs": [],
   "source": [
    "for col in list(new):      \n",
    "    group_ag([col],['cano_loctm_hour'],df,df_test,['mean','std'])#fail  "
   ]
  },
  {
   "cell_type": "code",
   "execution_count": null,
   "metadata": {},
   "outputs": [],
   "source": [
    "new = set(col_test)-set(re_num_2) \n",
    "for col in list(new):      \n",
    "    group_ag([col],['cano_conam'],df,df_test,['mean','std'])   #fail\n"
   ]
  },
  {
   "cell_type": "code",
   "execution_count": 22,
   "metadata": {},
   "outputs": [],
   "source": [
    "gf_mcc=[ 'loctm_hour__cano_mcc_mean' , 'loctm_hour__cano_mcc_std' , 'stocn__cano_mcc_mean' , 'stocn__cano_mcc_std' , 'stscd__cano_mcc_mean' , 'stscd__cano_mcc_std' , 'scity__cano_mcc_mean' , 'scity__cano_mcc_std' , 'conam__cano_mcc_mean' , 'conam__cano_mcc_std' ,  ]"
   ]
  },
  {
   "cell_type": "code",
   "execution_count": 23,
   "metadata": {},
   "outputs": [],
   "source": [
    "gf =['acqic__cano_mean' , 'acqic__cano_std' , 'conam__cano_mean' , 'conam__cano_std' , 'csmcu__cano_mean' , 'csmcu__cano_std' , 'ecfg__cano_mean' , 'ecfg__cano_std' , 'etymd__cano_mean' , 'etymd__cano_std' , 'mcc__cano_mean' , 'mcc__cano_std' , 'mchno__cano_mean' , 'mchno__cano_std' , 'scity__cano_mean' , 'scity__cano_std' , 'stocn__cano_mean' , 'stocn__cano_std' , 'stscd__cano_mean' , 'stscd__cano_std' , 'loctm_hour__cano_mean' , 'loctm_hour__cano_std' , 'stocn_scity__cano_mean' , 'stocn_scity__cano_std' , 'mcc_mchno__cano_mean' , 'mcc_mchno__cano_std' , ]\n",
    "re_gf =[ 'etymd__cano_std', 'stscd__cano_std' , ]\n",
    "gf = set(gf) -set(re_gf)"
   ]
  },
  {
   "cell_type": "code",
   "execution_count": 24,
   "metadata": {},
   "outputs": [],
   "source": [
    "gf2=['csmcu__cano_locdt_mean' , 'csmcu__cano_locdt_std' , 'stscd__cano_locdt_mean' , 'stscd__cano_locdt_std' , 'acqic__cano_locdt_mean' , 'acqic__cano_locdt_std' , 'etymd__cano_locdt_mean' , 'etymd__cano_locdt_std' , 'loctm_hour__cano_locdt_mean' , 'loctm_hour__cano_locdt_std' , 'mcc_mchno__cano_locdt_mean' , 'mcc_mchno__cano_locdt_std' , 'stocn__cano_locdt_mean' , 'stocn__cano_locdt_std' , 'conam__cano_locdt_mean' , 'conam__cano_locdt_std' , 'mcc__cano_locdt_mean' , 'mcc__cano_locdt_std' , 'scity__cano_locdt_mean' , 'scity__cano_locdt_std' , 'stocn_scity__cano_locdt_mean' , 'stocn_scity__cano_locdt_std' , 'mchno__cano_locdt_mean' , 'mchno__cano_locdt_std' , ]"
   ]
  },
  {
   "cell_type": "code",
   "execution_count": 25,
   "metadata": {},
   "outputs": [
    {
     "name": "stdout",
     "output_type": "stream",
     "text": [
      "'acqic_acqic' , 'acqic_bacno' , 'acqic_cano' , 'acqic_conam' , 'acqic_csmcu' , 'acqic_ecfg' , 'acqic_etymd' , 'acqic_mcc' , 'acqic_mchno' , 'acqic_scity' , 'acqic_stocn' , 'acqic_stscd' , 'acqic_loctm_hour' , 'acqic_stocn_scity' , 'bacno_acqic' , 'bacno_bacno' , 'bacno_cano' , 'bacno_conam' , 'bacno_csmcu' , 'bacno_ecfg' , 'bacno_etymd' , 'bacno_mcc' , 'bacno_mchno' , 'bacno_scity' , 'bacno_stocn' , 'bacno_stscd' , 'bacno_loctm_hour' , 'bacno_stocn_scity' , 'cano_acqic' , 'cano_bacno' , 'cano_cano' , 'cano_conam' , 'cano_csmcu' , 'cano_ecfg' , 'cano_etymd' , 'cano_mcc' , 'cano_mchno' , 'cano_scity' , 'cano_stocn' , 'cano_stscd' , 'cano_loctm_hour' , 'cano_stocn_scity' , 'conam_acqic' , 'conam_bacno' , 'conam_cano' , 'conam_conam' , 'conam_csmcu' , 'conam_ecfg' , 'conam_etymd' , 'conam_mcc' , 'conam_mchno' , 'conam_scity' , 'conam_stocn' , 'conam_stscd' , 'conam_loctm_hour' , 'conam_stocn_scity' , 'csmcu_acqic' , 'csmcu_bacno' , 'csmcu_cano' , 'csmcu_conam' , 'csmcu_csmcu' , 'csmcu_ecfg' , 'csmcu_etymd' , 'csmcu_mcc' , 'csmcu_mchno' , 'csmcu_scity' , 'csmcu_stocn' , 'csmcu_stscd' , 'csmcu_loctm_hour' , 'csmcu_stocn_scity' , 'ecfg_acqic' , 'ecfg_bacno' , 'ecfg_cano' , 'ecfg_conam' , 'ecfg_csmcu' , 'ecfg_ecfg' , 'ecfg_etymd' , 'ecfg_mcc' , 'ecfg_mchno' , 'ecfg_scity' , 'ecfg_stocn' , 'ecfg_stscd' , 'ecfg_loctm_hour' , 'ecfg_stocn_scity' , 'etymd_acqic' , 'etymd_bacno' , 'etymd_cano' , 'etymd_conam' , 'etymd_csmcu' , 'etymd_ecfg' , 'etymd_etymd' , 'etymd_mcc' , 'etymd_mchno' , 'etymd_scity' , 'etymd_stocn' , 'etymd_stscd' , 'etymd_loctm_hour' , 'etymd_stocn_scity' , 'mcc_acqic' , 'mcc_bacno' , 'mcc_cano' , 'mcc_conam' , 'mcc_csmcu' , 'mcc_ecfg' , 'mcc_etymd' , 'mcc_mcc' , 'mcc_mchno' , 'mcc_scity' , 'mcc_stocn' , 'mcc_stscd' , 'mcc_loctm_hour' , 'mcc_stocn_scity' , 'mchno_acqic' , 'mchno_bacno' , 'mchno_cano' , 'mchno_conam' , 'mchno_csmcu' , 'mchno_ecfg' , 'mchno_etymd' , 'mchno_mcc' , 'mchno_mchno' , 'mchno_scity' , 'mchno_stocn' , 'mchno_stscd' , 'mchno_loctm_hour' , 'mchno_stocn_scity' , 'scity_acqic' , 'scity_bacno' , 'scity_cano' , 'scity_conam' , 'scity_csmcu' , 'scity_ecfg' , 'scity_etymd' , 'scity_mcc' , 'scity_mchno' , 'scity_scity' , 'scity_stocn' , 'scity_stscd' , 'scity_loctm_hour' , 'scity_stocn_scity' , 'stocn_acqic' , 'stocn_bacno' , 'stocn_cano' , 'stocn_conam' , 'stocn_csmcu' , 'stocn_ecfg' , 'stocn_etymd' , 'stocn_mcc' , 'stocn_mchno' , 'stocn_scity' , 'stocn_stocn' , 'stocn_stscd' , 'stocn_loctm_hour' , 'stocn_stocn_scity' , 'stscd_acqic' , 'stscd_bacno' , 'stscd_cano' , 'stscd_conam' , 'stscd_csmcu' , 'stscd_ecfg' , 'stscd_etymd' , 'stscd_mcc' , 'stscd_mchno' , 'stscd_scity' , 'stscd_stocn' , 'stscd_stscd' , 'stscd_loctm_hour' , 'stscd_stocn_scity' , 'loctm_hour_acqic' , 'loctm_hour_bacno' , 'loctm_hour_cano' , 'loctm_hour_conam' , 'loctm_hour_csmcu' , "
     ]
    },
    {
     "ename": "KeyboardInterrupt",
     "evalue": "",
     "output_type": "error",
     "traceback": [
      "\u001b[1;31m---------------------------------------------------------------------------\u001b[0m",
      "\u001b[1;31mKeyboardInterrupt\u001b[0m                         Traceback (most recent call last)",
      "\u001b[1;32m<ipython-input-25-034f8df4bd44>\u001b[0m in \u001b[0;36m<module>\u001b[1;34m\u001b[0m\n\u001b[0;32m      5\u001b[0m \u001b[1;32mfor\u001b[0m \u001b[0mcol1\u001b[0m \u001b[1;32min\u001b[0m \u001b[0mcols1\u001b[0m\u001b[1;33m:\u001b[0m\u001b[1;33m\u001b[0m\u001b[1;33m\u001b[0m\u001b[0m\n\u001b[0;32m      6\u001b[0m     \u001b[1;32mfor\u001b[0m \u001b[0mcol2\u001b[0m \u001b[1;32min\u001b[0m \u001b[0mcols2\u001b[0m\u001b[1;33m:\u001b[0m\u001b[1;33m\u001b[0m\u001b[1;33m\u001b[0m\u001b[0m\n\u001b[1;32m----> 7\u001b[1;33m         \u001b[0mencode_CB\u001b[0m\u001b[1;33m(\u001b[0m\u001b[0mcol1\u001b[0m\u001b[1;33m,\u001b[0m\u001b[0mcol2\u001b[0m\u001b[1;33m,\u001b[0m\u001b[0mdf\u001b[0m\u001b[1;33m,\u001b[0m\u001b[0mdf_test\u001b[0m\u001b[1;33m)\u001b[0m\u001b[1;33m\u001b[0m\u001b[1;33m\u001b[0m\u001b[0m\n\u001b[0m",
      "\u001b[1;32m<ipython-input-10-da8172aea73e>\u001b[0m in \u001b[0;36mencode_CB\u001b[1;34m(col1, col2, df1, df2)\u001b[0m\n\u001b[0;32m      2\u001b[0m \u001b[1;32mdef\u001b[0m \u001b[0mencode_CB\u001b[0m\u001b[1;33m(\u001b[0m\u001b[0mcol1\u001b[0m\u001b[1;33m,\u001b[0m\u001b[0mcol2\u001b[0m\u001b[1;33m,\u001b[0m\u001b[0mdf1\u001b[0m\u001b[1;33m,\u001b[0m\u001b[0mdf2\u001b[0m\u001b[1;33m)\u001b[0m\u001b[1;33m:\u001b[0m\u001b[1;33m\u001b[0m\u001b[1;33m\u001b[0m\u001b[0m\n\u001b[0;32m      3\u001b[0m     \u001b[0mnm\u001b[0m \u001b[1;33m=\u001b[0m \u001b[0mcol1\u001b[0m\u001b[1;33m+\u001b[0m\u001b[1;34m'_'\u001b[0m\u001b[1;33m+\u001b[0m\u001b[0mcol2\u001b[0m\u001b[1;33m\u001b[0m\u001b[1;33m\u001b[0m\u001b[0m\n\u001b[1;32m----> 4\u001b[1;33m     \u001b[0mdf1\u001b[0m\u001b[1;33m[\u001b[0m\u001b[0mnm\u001b[0m\u001b[1;33m]\u001b[0m \u001b[1;33m=\u001b[0m \u001b[0mdf1\u001b[0m\u001b[1;33m[\u001b[0m\u001b[0mcol1\u001b[0m\u001b[1;33m]\u001b[0m\u001b[1;33m.\u001b[0m\u001b[0mastype\u001b[0m\u001b[1;33m(\u001b[0m\u001b[0mstr\u001b[0m\u001b[1;33m)\u001b[0m\u001b[1;33m+\u001b[0m\u001b[1;34m'_'\u001b[0m\u001b[1;33m+\u001b[0m\u001b[0mdf1\u001b[0m\u001b[1;33m[\u001b[0m\u001b[0mcol2\u001b[0m\u001b[1;33m]\u001b[0m\u001b[1;33m.\u001b[0m\u001b[0mastype\u001b[0m\u001b[1;33m(\u001b[0m\u001b[0mstr\u001b[0m\u001b[1;33m)\u001b[0m\u001b[1;33m\u001b[0m\u001b[1;33m\u001b[0m\u001b[0m\n\u001b[0m\u001b[0;32m      5\u001b[0m     \u001b[0mdf2\u001b[0m\u001b[1;33m[\u001b[0m\u001b[0mnm\u001b[0m\u001b[1;33m]\u001b[0m \u001b[1;33m=\u001b[0m \u001b[0mdf2\u001b[0m\u001b[1;33m[\u001b[0m\u001b[0mcol1\u001b[0m\u001b[1;33m]\u001b[0m\u001b[1;33m.\u001b[0m\u001b[0mastype\u001b[0m\u001b[1;33m(\u001b[0m\u001b[0mstr\u001b[0m\u001b[1;33m)\u001b[0m\u001b[1;33m+\u001b[0m\u001b[1;34m'_'\u001b[0m\u001b[1;33m+\u001b[0m\u001b[0mdf2\u001b[0m\u001b[1;33m[\u001b[0m\u001b[0mcol2\u001b[0m\u001b[1;33m]\u001b[0m\u001b[1;33m.\u001b[0m\u001b[0mastype\u001b[0m\u001b[1;33m(\u001b[0m\u001b[0mstr\u001b[0m\u001b[1;33m)\u001b[0m\u001b[1;33m\u001b[0m\u001b[1;33m\u001b[0m\u001b[0m\n\u001b[0;32m      6\u001b[0m     \u001b[0mle\u001b[0m \u001b[1;33m=\u001b[0m \u001b[0mLabelEncoder\u001b[0m\u001b[1;33m(\u001b[0m\u001b[1;33m)\u001b[0m\u001b[1;33m\u001b[0m\u001b[1;33m\u001b[0m\u001b[0m\n",
      "\u001b[1;32m~\\Anaconda3\\lib\\site-packages\\pandas\\core\\generic.py\u001b[0m in \u001b[0;36mastype\u001b[1;34m(self, dtype, copy, errors, **kwargs)\u001b[0m\n\u001b[0;32m   5689\u001b[0m             \u001b[1;31m# else, only a single dtype is given\u001b[0m\u001b[1;33m\u001b[0m\u001b[1;33m\u001b[0m\u001b[1;33m\u001b[0m\u001b[0m\n\u001b[0;32m   5690\u001b[0m             new_data = self._data.astype(dtype=dtype, copy=copy, errors=errors,\n\u001b[1;32m-> 5691\u001b[1;33m                                          **kwargs)\n\u001b[0m\u001b[0;32m   5692\u001b[0m             \u001b[1;32mreturn\u001b[0m \u001b[0mself\u001b[0m\u001b[1;33m.\u001b[0m\u001b[0m_constructor\u001b[0m\u001b[1;33m(\u001b[0m\u001b[0mnew_data\u001b[0m\u001b[1;33m)\u001b[0m\u001b[1;33m.\u001b[0m\u001b[0m__finalize__\u001b[0m\u001b[1;33m(\u001b[0m\u001b[0mself\u001b[0m\u001b[1;33m)\u001b[0m\u001b[1;33m\u001b[0m\u001b[1;33m\u001b[0m\u001b[0m\n\u001b[0;32m   5693\u001b[0m \u001b[1;33m\u001b[0m\u001b[0m\n",
      "\u001b[1;32m~\\Anaconda3\\lib\\site-packages\\pandas\\core\\internals\\managers.py\u001b[0m in \u001b[0;36mastype\u001b[1;34m(self, dtype, **kwargs)\u001b[0m\n\u001b[0;32m    529\u001b[0m \u001b[1;33m\u001b[0m\u001b[0m\n\u001b[0;32m    530\u001b[0m     \u001b[1;32mdef\u001b[0m \u001b[0mastype\u001b[0m\u001b[1;33m(\u001b[0m\u001b[0mself\u001b[0m\u001b[1;33m,\u001b[0m \u001b[0mdtype\u001b[0m\u001b[1;33m,\u001b[0m \u001b[1;33m**\u001b[0m\u001b[0mkwargs\u001b[0m\u001b[1;33m)\u001b[0m\u001b[1;33m:\u001b[0m\u001b[1;33m\u001b[0m\u001b[1;33m\u001b[0m\u001b[0m\n\u001b[1;32m--> 531\u001b[1;33m         \u001b[1;32mreturn\u001b[0m \u001b[0mself\u001b[0m\u001b[1;33m.\u001b[0m\u001b[0mapply\u001b[0m\u001b[1;33m(\u001b[0m\u001b[1;34m'astype'\u001b[0m\u001b[1;33m,\u001b[0m \u001b[0mdtype\u001b[0m\u001b[1;33m=\u001b[0m\u001b[0mdtype\u001b[0m\u001b[1;33m,\u001b[0m \u001b[1;33m**\u001b[0m\u001b[0mkwargs\u001b[0m\u001b[1;33m)\u001b[0m\u001b[1;33m\u001b[0m\u001b[1;33m\u001b[0m\u001b[0m\n\u001b[0m\u001b[0;32m    532\u001b[0m \u001b[1;33m\u001b[0m\u001b[0m\n\u001b[0;32m    533\u001b[0m     \u001b[1;32mdef\u001b[0m \u001b[0mconvert\u001b[0m\u001b[1;33m(\u001b[0m\u001b[0mself\u001b[0m\u001b[1;33m,\u001b[0m \u001b[1;33m**\u001b[0m\u001b[0mkwargs\u001b[0m\u001b[1;33m)\u001b[0m\u001b[1;33m:\u001b[0m\u001b[1;33m\u001b[0m\u001b[1;33m\u001b[0m\u001b[0m\n",
      "\u001b[1;32m~\\Anaconda3\\lib\\site-packages\\pandas\\core\\internals\\managers.py\u001b[0m in \u001b[0;36mapply\u001b[1;34m(self, f, axes, filter, do_integrity_check, consolidate, **kwargs)\u001b[0m\n\u001b[0;32m    393\u001b[0m                                             copy=align_copy)\n\u001b[0;32m    394\u001b[0m \u001b[1;33m\u001b[0m\u001b[0m\n\u001b[1;32m--> 395\u001b[1;33m             \u001b[0mapplied\u001b[0m \u001b[1;33m=\u001b[0m \u001b[0mgetattr\u001b[0m\u001b[1;33m(\u001b[0m\u001b[0mb\u001b[0m\u001b[1;33m,\u001b[0m \u001b[0mf\u001b[0m\u001b[1;33m)\u001b[0m\u001b[1;33m(\u001b[0m\u001b[1;33m**\u001b[0m\u001b[0mkwargs\u001b[0m\u001b[1;33m)\u001b[0m\u001b[1;33m\u001b[0m\u001b[1;33m\u001b[0m\u001b[0m\n\u001b[0m\u001b[0;32m    396\u001b[0m             \u001b[0mresult_blocks\u001b[0m \u001b[1;33m=\u001b[0m \u001b[0m_extend_blocks\u001b[0m\u001b[1;33m(\u001b[0m\u001b[0mapplied\u001b[0m\u001b[1;33m,\u001b[0m \u001b[0mresult_blocks\u001b[0m\u001b[1;33m)\u001b[0m\u001b[1;33m\u001b[0m\u001b[1;33m\u001b[0m\u001b[0m\n\u001b[0;32m    397\u001b[0m \u001b[1;33m\u001b[0m\u001b[0m\n",
      "\u001b[1;32m~\\Anaconda3\\lib\\site-packages\\pandas\\core\\internals\\blocks.py\u001b[0m in \u001b[0;36mastype\u001b[1;34m(self, dtype, copy, errors, values, **kwargs)\u001b[0m\n\u001b[0;32m    532\u001b[0m     \u001b[1;32mdef\u001b[0m \u001b[0mastype\u001b[0m\u001b[1;33m(\u001b[0m\u001b[0mself\u001b[0m\u001b[1;33m,\u001b[0m \u001b[0mdtype\u001b[0m\u001b[1;33m,\u001b[0m \u001b[0mcopy\u001b[0m\u001b[1;33m=\u001b[0m\u001b[1;32mFalse\u001b[0m\u001b[1;33m,\u001b[0m \u001b[0merrors\u001b[0m\u001b[1;33m=\u001b[0m\u001b[1;34m'raise'\u001b[0m\u001b[1;33m,\u001b[0m \u001b[0mvalues\u001b[0m\u001b[1;33m=\u001b[0m\u001b[1;32mNone\u001b[0m\u001b[1;33m,\u001b[0m \u001b[1;33m**\u001b[0m\u001b[0mkwargs\u001b[0m\u001b[1;33m)\u001b[0m\u001b[1;33m:\u001b[0m\u001b[1;33m\u001b[0m\u001b[1;33m\u001b[0m\u001b[0m\n\u001b[0;32m    533\u001b[0m         return self._astype(dtype, copy=copy, errors=errors, values=values,\n\u001b[1;32m--> 534\u001b[1;33m                             **kwargs)\n\u001b[0m\u001b[0;32m    535\u001b[0m \u001b[1;33m\u001b[0m\u001b[0m\n\u001b[0;32m    536\u001b[0m     def _astype(self, dtype, copy=False, errors='raise', values=None,\n",
      "\u001b[1;32m~\\Anaconda3\\lib\\site-packages\\pandas\\core\\internals\\blocks.py\u001b[0m in \u001b[0;36m_astype\u001b[1;34m(self, dtype, copy, errors, values, **kwargs)\u001b[0m\n\u001b[0;32m    631\u001b[0m \u001b[1;33m\u001b[0m\u001b[0m\n\u001b[0;32m    632\u001b[0m                     \u001b[1;31m# _astype_nansafe works fine with 1-d only\u001b[0m\u001b[1;33m\u001b[0m\u001b[1;33m\u001b[0m\u001b[1;33m\u001b[0m\u001b[0m\n\u001b[1;32m--> 633\u001b[1;33m                     \u001b[0mvalues\u001b[0m \u001b[1;33m=\u001b[0m \u001b[0mastype_nansafe\u001b[0m\u001b[1;33m(\u001b[0m\u001b[0mvalues\u001b[0m\u001b[1;33m.\u001b[0m\u001b[0mravel\u001b[0m\u001b[1;33m(\u001b[0m\u001b[1;33m)\u001b[0m\u001b[1;33m,\u001b[0m \u001b[0mdtype\u001b[0m\u001b[1;33m,\u001b[0m \u001b[0mcopy\u001b[0m\u001b[1;33m=\u001b[0m\u001b[1;32mTrue\u001b[0m\u001b[1;33m)\u001b[0m\u001b[1;33m\u001b[0m\u001b[1;33m\u001b[0m\u001b[0m\n\u001b[0m\u001b[0;32m    634\u001b[0m \u001b[1;33m\u001b[0m\u001b[0m\n\u001b[0;32m    635\u001b[0m                 \u001b[1;31m# TODO(extension)\u001b[0m\u001b[1;33m\u001b[0m\u001b[1;33m\u001b[0m\u001b[1;33m\u001b[0m\u001b[0m\n",
      "\u001b[1;32m~\\Anaconda3\\lib\\site-packages\\pandas\\core\\dtypes\\cast.py\u001b[0m in \u001b[0;36mastype_nansafe\u001b[1;34m(arr, dtype, copy, skipna)\u001b[0m\n\u001b[0;32m    626\u001b[0m         \u001b[1;31m# in Py3 that's str, in Py2 that's unicode\u001b[0m\u001b[1;33m\u001b[0m\u001b[1;33m\u001b[0m\u001b[1;33m\u001b[0m\u001b[0m\n\u001b[0;32m    627\u001b[0m         return lib.astype_unicode(arr.ravel(),\n\u001b[1;32m--> 628\u001b[1;33m                                   skipna=skipna).reshape(arr.shape)\n\u001b[0m\u001b[0;32m    629\u001b[0m \u001b[1;33m\u001b[0m\u001b[0m\n\u001b[0;32m    630\u001b[0m     \u001b[1;32melif\u001b[0m \u001b[0missubclass\u001b[0m\u001b[1;33m(\u001b[0m\u001b[0mdtype\u001b[0m\u001b[1;33m.\u001b[0m\u001b[0mtype\u001b[0m\u001b[1;33m,\u001b[0m \u001b[0mstring_types\u001b[0m\u001b[1;33m)\u001b[0m\u001b[1;33m:\u001b[0m\u001b[1;33m\u001b[0m\u001b[1;33m\u001b[0m\u001b[0m\n",
      "\u001b[1;31mKeyboardInterrupt\u001b[0m: "
     ]
    }
   ],
   "source": [
    "cols1 =['acqic', 'bacno', 'cano', 'conam', 'csmcu', 'ecfg', 'etymd', 'mcc',\n",
    "       'mchno', 'scity', 'stocn', 'stscd', 'loctm_hour','stocn_scity']\n",
    "cols2 =['acqic', 'bacno', 'cano', 'conam', 'csmcu', 'ecfg', 'etymd', 'mcc',\n",
    "       'mchno', 'scity', 'stocn', 'stscd', 'loctm_hour', 'stocn_scity']\n",
    "for col1 in cols1:\n",
    "    for col2 in cols2:\n",
    "        encode_CB(col1,col2,df,df_test)"
   ]
  },
  {
   "cell_type": "code",
   "execution_count": null,
   "metadata": {},
   "outputs": [],
   "source": [
    "#DECREASE FEATURE\n",
    "col1s = ['acqic', 'bacno', 'cano', 'conam',  'csmcu', 'ecfg', 'etymd',\n",
    "         'mcc', 'mchno',\n",
    "       'scity', 'stocn', 'stscd',  'loctm_hour', 'stocn_scity','mcc_mchno']   \n",
    "\n",
    "\n",
    "cols2 =['cano_loctm_hour']\n",
    "for col1 in new:\n",
    "    for col2 in cols2:              \n",
    "        model1_features =['acqic', 'conam', 'contp', 'csmcu', 'ecfg', 'etymd',\n",
    "        'hcefg', 'iterm', 'mcc', 'mchno', 'scity', 'stocn',\n",
    "        'stscd', 'loctm_hour','stocn_scity','mcc_mchno' ]      \n",
    "        #combine feature\n",
    "        #model1_features.append(col1+'_'+col2)\n",
    "        #count feature\n",
    "        #model1_features.append(col1+'_FE')\n",
    "        #group feature \n",
    "        temp = model1_features+cf+cf2+list(gf)+list(gf2)+list(gf_mcc)\n",
    "        model1_features= temp.copy()\n",
    "        print('now remove '+col1+'__'+col2)\n",
    "        model1_features.remove(col1+'__'+col2+'_mean')\n",
    "        #if(not(col1=='etymd' or col1=='stscd' or col1 =='loctm_hour')): \n",
    "        model1_features.remove(col1+'__'+col2+'_std') \n",
    "        model1_features.sort()        \n",
    "        X_train = df[model1_features]\n",
    "        Y_train = df['fraud_ind'] \n",
    "        df_validation_2 = df.iloc[int(0.8 * len(df)):, ]\n",
    "        df_train_2 = df.iloc[:int(0.8 * len(df)), ]\n",
    "        train_df, y_train_df = df_train_2[model1_features], df_train_2['fraud_ind']\n",
    "        valid_df, y_valid_df = df_validation_2[model1_features], df_validation_2['fraud_ind']\n",
    "        print()\n",
    "        print('train_df.columns = ',train_df.columns)\n",
    "        print('train_df.shape = ',train_df.shape)\n",
    "        \n",
    "        trn_data = xgb.DMatrix(train_df, label=y_train_df,missing=-100)\n",
    "        val_data = xgb.DMatrix(valid_df, label=y_valid_df,missing=-100) \n",
    "        Dtrain_df = xgb.DMatrix(train_df,missing=-100)\n",
    "        Dvalid_df = xgb.DMatrix(valid_df,missing=-100)\n",
    "        DX_test = xgb.DMatrix(X_test,missing=-100)\n",
    "        watchlist = [(trn_data,'train'),(val_data,'val')]\n",
    "        model = xgb.train(params,\n",
    "                    trn_data,\n",
    "                    num_boost_round= 10000,\n",
    "                    evals  =watchlist,             \n",
    "                    verbose_eval=0,\n",
    "                    early_stopping_rounds = 200\n",
    "                     )   \n",
    "        pred = model.predict(Dvalid_df)   \n",
    "        \n",
    "        now_auc = roc_auc_score(y_valid_df, pred)\n",
    "        print( \"      auc = \", now_auc ) \n",
    "        pred_file_path = 'compare_xgb.csv'\n",
    "        last_pred = np.array(pd.read_csv(pred_file_path))\n",
    "        last_auc = roc_auc_score(y_valid_df, last_pred)\n",
    "        print( \"last  auc = \", last_auc ) \n",
    "    \n",
    "        threshold = 0.5\n",
    "        y_pre = [int(item>threshold) for  item in pred]  \n",
    "        last_y_pre = [int(item>threshold) for  item in last_pred] \n",
    "        now_f1= f1_score(y_valid_df, y_pre)\n",
    "        last_f1 =f1_score(y_valid_df, last_y_pre)\n",
    "        print( \"     f1 = \", now_f1)\n",
    "        print( \"last f1 = \", last_f1)\n",
    "        now_ap = average_precision_score(y_valid_df, pred);\n",
    "        print( \"     average_precision = \",now_ap)\n",
    "        last_ap =average_precision_score(y_valid_df, last_pred)\n",
    "        print( \"last average_precision = \",last_ap)\n",
    "        count=0\n",
    "        if(now_ap>=last_ap):\n",
    "            count=count+1\n",
    "            print('ap improve')            \n",
    "        if(now_f1>=last_f1):\n",
    "            count=count+1\n",
    "            print('f1 improve')          \n",
    "        if(now_auc>=last_auc):      \n",
    "            count=count+1\n",
    "            print('auc improve')            \n",
    "        if(count>0 or now_ap>=last_ap):\n",
    "            show_pr()\n",
    "            #print('-------------------------------------',col1+'_'+col2,'count=',count)\n",
    "            #print('-------------------------------------',col1+'_FE','count=',count)\n",
    "            print('-------------------------------------',col1+'_'+col2,'count=',count)  \n",
    "        print('-------------------------------------------------------------------------')     \n",
    "        del model ,trn_data,val_data,Dtrain_df,Dvalid_df\n",
    "        gc.collect()\n",
    "        gc.collect()\n",
    "        #print( \"  confusion_matrix = \\r\\n\", confusion_matrix(y_valid_df, y_pre) )"
   ]
  },
  {
   "cell_type": "code",
   "execution_count": 35,
   "metadata": {
    "scrolled": true
   },
   "outputs": [
    {
     "name": "stdout",
     "output_type": "stream",
     "text": [
      "\n",
      "train_df.columns =  Index(['acqic', 'acqic__cano_locdt_mean', 'acqic__cano_locdt_std',\n",
      "       'acqic__cano_mean', 'acqic__cano_std', 'bacno_FE', 'cano_FE',\n",
      "       'cano_locdt_FE', 'conam', 'conam__cano_locdt_mean',\n",
      "       'conam__cano_locdt_std', 'conam__cano_mcc_mean', 'conam__cano_mcc_std',\n",
      "       'conam__cano_mean', 'conam__cano_std', 'csmcu',\n",
      "       'csmcu__cano_locdt_mean', 'csmcu__cano_locdt_std', 'csmcu__cano_mean',\n",
      "       'csmcu__cano_std', 'ecfg', 'ecfg__cano_mean', 'ecfg__cano_std', 'etymd',\n",
      "       'etymd__cano_locdt_mean', 'etymd__cano_locdt_std', 'etymd__cano_mean',\n",
      "       'loctm_hour', 'loctm_hour__cano_locdt_mean',\n",
      "       'loctm_hour__cano_locdt_std', 'loctm_hour__cano_mcc_mean',\n",
      "       'loctm_hour__cano_mcc_std', 'loctm_hour__cano_mean',\n",
      "       'loctm_hour__cano_std', 'mcc', 'mcc_FE', 'mcc__cano_locdt_mean',\n",
      "       'mcc__cano_locdt_std', 'mcc__cano_mean', 'mcc__cano_std', 'mcc_mchno',\n",
      "       'mcc_mchno_FE', 'mcc_mchno__cano_locdt_mean',\n",
      "       'mcc_mchno__cano_locdt_std', 'mcc_mchno__cano_mean',\n",
      "       'mcc_mchno__cano_scity_mean', 'mcc_mchno__cano_scity_std',\n",
      "       'mcc_mchno__cano_std', 'mchno', 'mchno_FE', 'mchno__cano_locdt_mean',\n",
      "       'mchno__cano_locdt_std', 'mchno__cano_mean', 'mchno__cano_std', 'scity',\n",
      "       'scity__cano_locdt_mean', 'scity__cano_locdt_std',\n",
      "       'scity__cano_mcc_mean', 'scity__cano_mcc_std', 'scity__cano_mean',\n",
      "       'scity__cano_std', 'stocn', 'stocn__cano_locdt_mean',\n",
      "       'stocn__cano_locdt_std', 'stocn__cano_mcc_mean', 'stocn__cano_mcc_std',\n",
      "       'stocn__cano_mean', 'stocn__cano_std', 'stocn_scity',\n",
      "       'stocn_scity__cano_locdt_mean', 'stocn_scity__cano_locdt_std',\n",
      "       'stocn_scity__cano_mean', 'stocn_scity__cano_std', 'stscd',\n",
      "       'stscd__cano_locdt_mean', 'stscd__cano_locdt_std',\n",
      "       'stscd__cano_mcc_mean', 'stscd__cano_mcc_std', 'stscd__cano_mean'],\n",
      "      dtype='object')\n",
      "train_df.shape =  (1217429, 79)\n",
      "ap improve\n"
     ]
    },
    {
     "name": "stderr",
     "output_type": "stream",
     "text": [
      "/home/IPL915/.conda/envs/KIWI/lib/python3.7/site-packages/IPython/core/pylabtools.py:128: UserWarning: Creating legend with loc=\"best\" can be slow with large amounts of data.\n",
      "  fig.canvas.print_figure(bytes_io, **kw)\n"
     ]
    },
    {
     "data": {
      "image/png": "[encoded data removed]",
      "text/plain": [
       "<Figure size 576x576 with 1 Axes>"
      ]
     },
     "metadata": {
      "needs_background": "light"
     },
     "output_type": "display_data"
    },
    {
     "name": "stdout",
     "output_type": "stream",
     "text": [
      "------------------------------------- mcc_mchno_cano_scity count= 1\n",
      "-------------------------------------------------------------------------\n",
      "\n",
      "train_df.columns =  Index(['acqic', 'acqic__cano_locdt_mean', 'acqic__cano_locdt_std',\n",
      "       'acqic__cano_mean', 'acqic__cano_std', 'bacno_FE', 'cano_FE',\n",
      "       'cano_locdt_FE', 'conam', 'conam__cano_locdt_mean',\n",
      "       'conam__cano_locdt_std', 'conam__cano_mcc_mean', 'conam__cano_mcc_std',\n",
      "       'conam__cano_mean', 'conam__cano_std', 'csmcu',\n",
      "       'csmcu__cano_locdt_mean', 'csmcu__cano_locdt_std', 'csmcu__cano_mean',\n",
      "       'csmcu__cano_std', 'ecfg', 'ecfg__cano_mean', 'ecfg__cano_std', 'etymd',\n",
      "       'etymd__cano_locdt_mean', 'etymd__cano_locdt_std', 'etymd__cano_mean',\n",
      "       'loctm_hour', 'loctm_hour__cano_locdt_mean',\n",
      "       'loctm_hour__cano_locdt_std', 'loctm_hour__cano_mcc_mean',\n",
      "       'loctm_hour__cano_mcc_std', 'loctm_hour__cano_mean',\n",
      "       'loctm_hour__cano_std', 'mcc', 'mcc_FE', 'mcc__cano_locdt_mean',\n",
      "       'mcc__cano_locdt_std', 'mcc__cano_mean', 'mcc__cano_scity_mean',\n",
      "       'mcc__cano_scity_std', 'mcc__cano_std', 'mcc_mchno', 'mcc_mchno_FE',\n",
      "       'mcc_mchno__cano_locdt_mean', 'mcc_mchno__cano_locdt_std',\n",
      "       'mcc_mchno__cano_mean', 'mcc_mchno__cano_std', 'mchno', 'mchno_FE',\n",
      "       'mchno__cano_locdt_mean', 'mchno__cano_locdt_std', 'mchno__cano_mean',\n",
      "       'mchno__cano_std', 'scity', 'scity__cano_locdt_mean',\n",
      "       'scity__cano_locdt_std', 'scity__cano_mcc_mean', 'scity__cano_mcc_std',\n",
      "       'scity__cano_mean', 'scity__cano_std', 'stocn',\n",
      "       'stocn__cano_locdt_mean', 'stocn__cano_locdt_std',\n",
      "       'stocn__cano_mcc_mean', 'stocn__cano_mcc_std', 'stocn__cano_mean',\n",
      "       'stocn__cano_std', 'stocn_scity', 'stocn_scity__cano_locdt_mean',\n",
      "       'stocn_scity__cano_locdt_std', 'stocn_scity__cano_mean',\n",
      "       'stocn_scity__cano_std', 'stscd', 'stscd__cano_locdt_mean',\n",
      "       'stscd__cano_locdt_std', 'stscd__cano_mcc_mean', 'stscd__cano_mcc_std',\n",
      "       'stscd__cano_mean'],\n",
      "      dtype='object')\n",
      "train_df.shape =  (1217429, 79)\n"
     ]
    },
    {
     "name": "stderr",
     "output_type": "stream",
     "text": [
      "/home/IPL915/.conda/envs/KIWI/lib/python3.7/site-packages/xgboost/core.py:587: FutureWarning: Series.base is deprecated and will be removed in a future version\n",
      "  if getattr(data, 'base', None) is not None and \\\n",
      "/home/IPL915/.conda/envs/KIWI/lib/python3.7/site-packages/xgboost/core.py:588: FutureWarning: Series.base is deprecated and will be removed in a future version\n",
      "  data.base is not None and isinstance(data, np.ndarray) \\\n"
     ]
    },
    {
     "name": "stdout",
     "output_type": "stream",
     "text": [
      "ap improve\n"
     ]
    },
    {
     "name": "stderr",
     "output_type": "stream",
     "text": [
      "/home/IPL915/.conda/envs/KIWI/lib/python3.7/site-packages/IPython/core/pylabtools.py:128: UserWarning: Creating legend with loc=\"best\" can be slow with large amounts of data.\n",
      "  fig.canvas.print_figure(bytes_io, **kw)\n"
     ]
    },
    {
     "data": {
      "image/png": "[encoded data removed]",
      "text/plain": [
       "<Figure size 576x576 with 1 Axes>"
      ]
     },
     "metadata": {
      "needs_background": "light"
     },
     "output_type": "display_data"
    },
    {
     "name": "stdout",
     "output_type": "stream",
     "text": [
      "------------------------------------- mcc_cano_scity count= 1\n",
      "-------------------------------------------------------------------------\n",
      "\n",
      "train_df.columns =  Index(['acqic', 'acqic__cano_locdt_mean', 'acqic__cano_locdt_std',\n",
      "       'acqic__cano_mean', 'acqic__cano_std', 'bacno_FE', 'cano_FE',\n",
      "       'cano_locdt_FE', 'conam', 'conam__cano_locdt_mean',\n",
      "       'conam__cano_locdt_std', 'conam__cano_mcc_mean', 'conam__cano_mcc_std',\n",
      "       'conam__cano_mean', 'conam__cano_std', 'csmcu',\n",
      "       'csmcu__cano_locdt_mean', 'csmcu__cano_locdt_std', 'csmcu__cano_mean',\n",
      "       'csmcu__cano_std', 'ecfg', 'ecfg__cano_mean', 'ecfg__cano_std', 'etymd',\n",
      "       'etymd__cano_locdt_mean', 'etymd__cano_locdt_std', 'etymd__cano_mean',\n",
      "       'etymd__cano_scity_mean', 'etymd__cano_scity_std', 'loctm_hour',\n",
      "       'loctm_hour__cano_locdt_mean', 'loctm_hour__cano_locdt_std',\n",
      "       'loctm_hour__cano_mcc_mean', 'loctm_hour__cano_mcc_std',\n",
      "       'loctm_hour__cano_mean', 'loctm_hour__cano_std', 'mcc', 'mcc_FE',\n",
      "       'mcc__cano_locdt_mean', 'mcc__cano_locdt_std', 'mcc__cano_mean',\n",
      "       'mcc__cano_std', 'mcc_mchno', 'mcc_mchno_FE',\n",
      "       'mcc_mchno__cano_locdt_mean', 'mcc_mchno__cano_locdt_std',\n",
      "       'mcc_mchno__cano_mean', 'mcc_mchno__cano_std', 'mchno', 'mchno_FE',\n",
      "       'mchno__cano_locdt_mean', 'mchno__cano_locdt_std', 'mchno__cano_mean',\n",
      "       'mchno__cano_std', 'scity', 'scity__cano_locdt_mean',\n",
      "       'scity__cano_locdt_std', 'scity__cano_mcc_mean', 'scity__cano_mcc_std',\n",
      "       'scity__cano_mean', 'scity__cano_std', 'stocn',\n",
      "       'stocn__cano_locdt_mean', 'stocn__cano_locdt_std',\n",
      "       'stocn__cano_mcc_mean', 'stocn__cano_mcc_std', 'stocn__cano_mean',\n",
      "       'stocn__cano_std', 'stocn_scity', 'stocn_scity__cano_locdt_mean',\n",
      "       'stocn_scity__cano_locdt_std', 'stocn_scity__cano_mean',\n",
      "       'stocn_scity__cano_std', 'stscd', 'stscd__cano_locdt_mean',\n",
      "       'stscd__cano_locdt_std', 'stscd__cano_mcc_mean', 'stscd__cano_mcc_std',\n",
      "       'stscd__cano_mean'],\n",
      "      dtype='object')\n",
      "train_df.shape =  (1217429, 79)\n"
     ]
    },
    {
     "name": "stderr",
     "output_type": "stream",
     "text": [
      "/home/IPL915/.conda/envs/KIWI/lib/python3.7/site-packages/xgboost/core.py:587: FutureWarning: Series.base is deprecated and will be removed in a future version\n",
      "  if getattr(data, 'base', None) is not None and \\\n",
      "/home/IPL915/.conda/envs/KIWI/lib/python3.7/site-packages/xgboost/core.py:588: FutureWarning: Series.base is deprecated and will be removed in a future version\n",
      "  data.base is not None and isinstance(data, np.ndarray) \\\n"
     ]
    },
    {
     "name": "stdout",
     "output_type": "stream",
     "text": [
      "f1 improve\n"
     ]
    },
    {
     "name": "stderr",
     "output_type": "stream",
     "text": [
      "/home/IPL915/.conda/envs/KIWI/lib/python3.7/site-packages/IPython/core/pylabtools.py:128: UserWarning: Creating legend with loc=\"best\" can be slow with large amounts of data.\n",
      "  fig.canvas.print_figure(bytes_io, **kw)\n"
     ]
    },
    {
     "data": {
      "image/png": "[encoded data removed]",
      "text/plain": [
       "<Figure size 576x576 with 1 Axes>"
      ]
     },
     "metadata": {
      "needs_background": "light"
     },
     "output_type": "display_data"
    },
    {
     "name": "stdout",
     "output_type": "stream",
     "text": [
      "------------------------------------- etymd_cano_scity count= 1\n",
      "-------------------------------------------------------------------------\n",
      "\n",
      "train_df.columns =  Index(['acqic', 'acqic__cano_locdt_mean', 'acqic__cano_locdt_std',\n",
      "       'acqic__cano_mean', 'acqic__cano_std', 'bacno_FE', 'cano_FE',\n",
      "       'cano_locdt_FE', 'conam', 'conam__cano_locdt_mean',\n",
      "       'conam__cano_locdt_std', 'conam__cano_mcc_mean', 'conam__cano_mcc_std',\n",
      "       'conam__cano_mean', 'conam__cano_scity_mean', 'conam__cano_scity_std',\n",
      "       'conam__cano_std', 'csmcu', 'csmcu__cano_locdt_mean',\n",
      "       'csmcu__cano_locdt_std', 'csmcu__cano_mean', 'csmcu__cano_std', 'ecfg',\n",
      "       'ecfg__cano_mean', 'ecfg__cano_std', 'etymd', 'etymd__cano_locdt_mean',\n",
      "       'etymd__cano_locdt_std', 'etymd__cano_mean', 'loctm_hour',\n",
      "       'loctm_hour__cano_locdt_mean', 'loctm_hour__cano_locdt_std',\n",
      "       'loctm_hour__cano_mcc_mean', 'loctm_hour__cano_mcc_std',\n",
      "       'loctm_hour__cano_mean', 'loctm_hour__cano_std', 'mcc', 'mcc_FE',\n",
      "       'mcc__cano_locdt_mean', 'mcc__cano_locdt_std', 'mcc__cano_mean',\n",
      "       'mcc__cano_std', 'mcc_mchno', 'mcc_mchno_FE',\n",
      "       'mcc_mchno__cano_locdt_mean', 'mcc_mchno__cano_locdt_std',\n",
      "       'mcc_mchno__cano_mean', 'mcc_mchno__cano_std', 'mchno', 'mchno_FE',\n",
      "       'mchno__cano_locdt_mean', 'mchno__cano_locdt_std', 'mchno__cano_mean',\n",
      "       'mchno__cano_std', 'scity', 'scity__cano_locdt_mean',\n",
      "       'scity__cano_locdt_std', 'scity__cano_mcc_mean', 'scity__cano_mcc_std',\n",
      "       'scity__cano_mean', 'scity__cano_std', 'stocn',\n",
      "       'stocn__cano_locdt_mean', 'stocn__cano_locdt_std',\n",
      "       'stocn__cano_mcc_mean', 'stocn__cano_mcc_std', 'stocn__cano_mean',\n",
      "       'stocn__cano_std', 'stocn_scity', 'stocn_scity__cano_locdt_mean',\n",
      "       'stocn_scity__cano_locdt_std', 'stocn_scity__cano_mean',\n",
      "       'stocn_scity__cano_std', 'stscd', 'stscd__cano_locdt_mean',\n",
      "       'stscd__cano_locdt_std', 'stscd__cano_mcc_mean', 'stscd__cano_mcc_std',\n",
      "       'stscd__cano_mean'],\n",
      "      dtype='object')\n",
      "train_df.shape =  (1217429, 79)\n"
     ]
    },
    {
     "name": "stderr",
     "output_type": "stream",
     "text": [
      "/home/IPL915/.conda/envs/KIWI/lib/python3.7/site-packages/xgboost/core.py:587: FutureWarning: Series.base is deprecated and will be removed in a future version\n",
      "  if getattr(data, 'base', None) is not None and \\\n",
      "/home/IPL915/.conda/envs/KIWI/lib/python3.7/site-packages/xgboost/core.py:588: FutureWarning: Series.base is deprecated and will be removed in a future version\n",
      "  data.base is not None and isinstance(data, np.ndarray) \\\n"
     ]
    },
    {
     "name": "stdout",
     "output_type": "stream",
     "text": [
      "ap improve\n",
      "f1 improve\n"
     ]
    },
    {
     "name": "stderr",
     "output_type": "stream",
     "text": [
      "/home/IPL915/.conda/envs/KIWI/lib/python3.7/site-packages/IPython/core/pylabtools.py:128: UserWarning: Creating legend with loc=\"best\" can be slow with large amounts of data.\n",
      "  fig.canvas.print_figure(bytes_io, **kw)\n"
     ]
    },
    {
     "data": {
      "image/png": "[encoded data removed]",
      "text/plain": [
       "<Figure size 576x576 with 1 Axes>"
      ]
     },
     "metadata": {
      "needs_background": "light"
     },
     "output_type": "display_data"
    },
    {
     "name": "stdout",
     "output_type": "stream",
     "text": [
      "------------------------------------- conam_cano_scity count= 2\n",
      "-------------------------------------------------------------------------\n",
      "\n",
      "train_df.columns =  Index(['acqic', 'acqic__cano_locdt_mean', 'acqic__cano_locdt_std',\n",
      "       'acqic__cano_mean', 'acqic__cano_std', 'bacno_FE', 'cano_FE',\n",
      "       'cano_locdt_FE', 'conam', 'conam__cano_locdt_mean',\n",
      "       'conam__cano_locdt_std', 'conam__cano_mcc_mean', 'conam__cano_mcc_std',\n",
      "       'conam__cano_mean', 'conam__cano_std', 'csmcu',\n",
      "       'csmcu__cano_locdt_mean', 'csmcu__cano_locdt_std', 'csmcu__cano_mean',\n",
      "       'csmcu__cano_std', 'ecfg', 'ecfg__cano_mean', 'ecfg__cano_std', 'etymd',\n",
      "       'etymd__cano_locdt_mean', 'etymd__cano_locdt_std', 'etymd__cano_mean',\n",
      "       'loctm_hour', 'loctm_hour__cano_locdt_mean',\n",
      "       'loctm_hour__cano_locdt_std', 'loctm_hour__cano_mcc_mean',\n",
      "       'loctm_hour__cano_mcc_std', 'loctm_hour__cano_mean',\n",
      "       'loctm_hour__cano_std', 'mcc', 'mcc_FE', 'mcc__cano_locdt_mean',\n",
      "       'mcc__cano_locdt_std', 'mcc__cano_mean', 'mcc__cano_std', 'mcc_mchno',\n",
      "       'mcc_mchno_FE', 'mcc_mchno__cano_locdt_mean',\n",
      "       'mcc_mchno__cano_locdt_std', 'mcc_mchno__cano_mean',\n",
      "       'mcc_mchno__cano_std', 'mchno', 'mchno_FE', 'mchno__cano_locdt_mean',\n",
      "       'mchno__cano_locdt_std', 'mchno__cano_mean', 'mchno__cano_scity_mean',\n",
      "       'mchno__cano_scity_std', 'mchno__cano_std', 'scity',\n",
      "       'scity__cano_locdt_mean', 'scity__cano_locdt_std',\n",
      "       'scity__cano_mcc_mean', 'scity__cano_mcc_std', 'scity__cano_mean',\n",
      "       'scity__cano_std', 'stocn', 'stocn__cano_locdt_mean',\n",
      "       'stocn__cano_locdt_std', 'stocn__cano_mcc_mean', 'stocn__cano_mcc_std',\n",
      "       'stocn__cano_mean', 'stocn__cano_std', 'stocn_scity',\n",
      "       'stocn_scity__cano_locdt_mean', 'stocn_scity__cano_locdt_std',\n",
      "       'stocn_scity__cano_mean', 'stocn_scity__cano_std', 'stscd',\n",
      "       'stscd__cano_locdt_mean', 'stscd__cano_locdt_std',\n",
      "       'stscd__cano_mcc_mean', 'stscd__cano_mcc_std', 'stscd__cano_mean'],\n",
      "      dtype='object')\n",
      "train_df.shape =  (1217429, 79)\n"
     ]
    },
    {
     "name": "stderr",
     "output_type": "stream",
     "text": [
      "/home/IPL915/.conda/envs/KIWI/lib/python3.7/site-packages/xgboost/core.py:587: FutureWarning: Series.base is deprecated and will be removed in a future version\n",
      "  if getattr(data, 'base', None) is not None and \\\n",
      "/home/IPL915/.conda/envs/KIWI/lib/python3.7/site-packages/xgboost/core.py:588: FutureWarning: Series.base is deprecated and will be removed in a future version\n",
      "  data.base is not None and isinstance(data, np.ndarray) \\\n"
     ]
    },
    {
     "name": "stdout",
     "output_type": "stream",
     "text": [
      "ap improve\n"
     ]
    },
    {
     "name": "stderr",
     "output_type": "stream",
     "text": [
      "/home/IPL915/.conda/envs/KIWI/lib/python3.7/site-packages/IPython/core/pylabtools.py:128: UserWarning: Creating legend with loc=\"best\" can be slow with large amounts of data.\n",
      "  fig.canvas.print_figure(bytes_io, **kw)\n"
     ]
    },
    {
     "data": {
      "image/png": "[encoded data removed]",
      "text/plain": [
       "<Figure size 576x576 with 1 Axes>"
      ]
     },
     "metadata": {
      "needs_background": "light"
     },
     "output_type": "display_data"
    },
    {
     "name": "stdout",
     "output_type": "stream",
     "text": [
      "------------------------------------- mchno_cano_scity count= 1\n",
      "-------------------------------------------------------------------------\n",
      "\n",
      "train_df.columns =  Index(['acqic', 'acqic__cano_locdt_mean', 'acqic__cano_locdt_std',\n",
      "       'acqic__cano_mean', 'acqic__cano_std', 'bacno_FE', 'cano_FE',\n",
      "       'cano_locdt_FE', 'conam', 'conam__cano_locdt_mean',\n",
      "       'conam__cano_locdt_std', 'conam__cano_mcc_mean', 'conam__cano_mcc_std',\n",
      "       'conam__cano_mean', 'conam__cano_std', 'csmcu',\n",
      "       'csmcu__cano_locdt_mean', 'csmcu__cano_locdt_std', 'csmcu__cano_mean',\n",
      "       'csmcu__cano_std', 'ecfg', 'ecfg__cano_mean', 'ecfg__cano_std', 'etymd',\n",
      "       'etymd__cano_locdt_mean', 'etymd__cano_locdt_std', 'etymd__cano_mean',\n",
      "       'loctm_hour', 'loctm_hour__cano_locdt_mean',\n",
      "       'loctm_hour__cano_locdt_std', 'loctm_hour__cano_mcc_mean',\n",
      "       'loctm_hour__cano_mcc_std', 'loctm_hour__cano_mean',\n",
      "       'loctm_hour__cano_std', 'mcc', 'mcc_FE', 'mcc__cano_locdt_mean',\n",
      "       'mcc__cano_locdt_std', 'mcc__cano_mean', 'mcc__cano_std', 'mcc_mchno',\n",
      "       'mcc_mchno_FE', 'mcc_mchno__cano_locdt_mean',\n",
      "       'mcc_mchno__cano_locdt_std', 'mcc_mchno__cano_mean',\n",
      "       'mcc_mchno__cano_std', 'mchno', 'mchno_FE', 'mchno__cano_locdt_mean',\n",
      "       'mchno__cano_locdt_std', 'mchno__cano_mean', 'mchno__cano_std', 'scity',\n",
      "       'scity__cano_locdt_mean', 'scity__cano_locdt_std',\n",
      "       'scity__cano_mcc_mean', 'scity__cano_mcc_std', 'scity__cano_mean',\n",
      "       'scity__cano_scity_mean', 'scity__cano_scity_std', 'scity__cano_std',\n",
      "       'stocn', 'stocn__cano_locdt_mean', 'stocn__cano_locdt_std',\n",
      "       'stocn__cano_mcc_mean', 'stocn__cano_mcc_std', 'stocn__cano_mean',\n",
      "       'stocn__cano_std', 'stocn_scity', 'stocn_scity__cano_locdt_mean',\n",
      "       'stocn_scity__cano_locdt_std', 'stocn_scity__cano_mean',\n",
      "       'stocn_scity__cano_std', 'stscd', 'stscd__cano_locdt_mean',\n",
      "       'stscd__cano_locdt_std', 'stscd__cano_mcc_mean', 'stscd__cano_mcc_std',\n",
      "       'stscd__cano_mean'],\n",
      "      dtype='object')\n",
      "train_df.shape =  (1217429, 79)\n"
     ]
    },
    {
     "name": "stderr",
     "output_type": "stream",
     "text": [
      "/home/IPL915/.conda/envs/KIWI/lib/python3.7/site-packages/xgboost/core.py:587: FutureWarning: Series.base is deprecated and will be removed in a future version\n",
      "  if getattr(data, 'base', None) is not None and \\\n",
      "/home/IPL915/.conda/envs/KIWI/lib/python3.7/site-packages/xgboost/core.py:588: FutureWarning: Series.base is deprecated and will be removed in a future version\n",
      "  data.base is not None and isinstance(data, np.ndarray) \\\n"
     ]
    },
    {
     "name": "stdout",
     "output_type": "stream",
     "text": [
      "ap improve\n",
      "f1 improve\n"
     ]
    },
    {
     "name": "stderr",
     "output_type": "stream",
     "text": [
      "/home/IPL915/.conda/envs/KIWI/lib/python3.7/site-packages/IPython/core/pylabtools.py:128: UserWarning: Creating legend with loc=\"best\" can be slow with large amounts of data.\n",
      "  fig.canvas.print_figure(bytes_io, **kw)\n"
     ]
    },
    {
     "data": {
      "image/png": "[encoded data removed]",
      "text/plain": [
       "<Figure size 576x576 with 1 Axes>"
      ]
     },
     "metadata": {
      "needs_background": "light"
     },
     "output_type": "display_data"
    },
    {
     "name": "stdout",
     "output_type": "stream",
     "text": [
      "------------------------------------- scity_cano_scity count= 2\n",
      "-------------------------------------------------------------------------\n",
      "\n",
      "train_df.columns =  Index(['acqic', 'acqic__cano_locdt_mean', 'acqic__cano_locdt_std',\n",
      "       'acqic__cano_mean', 'acqic__cano_std', 'bacno_FE', 'cano_FE',\n",
      "       'cano_locdt_FE', 'conam', 'conam__cano_locdt_mean',\n",
      "       'conam__cano_locdt_std', 'conam__cano_mcc_mean', 'conam__cano_mcc_std',\n",
      "       'conam__cano_mean', 'conam__cano_std', 'csmcu',\n",
      "       'csmcu__cano_locdt_mean', 'csmcu__cano_locdt_std', 'csmcu__cano_mean',\n",
      "       'csmcu__cano_std', 'ecfg', 'ecfg__cano_mean', 'ecfg__cano_std', 'etymd',\n",
      "       'etymd__cano_locdt_mean', 'etymd__cano_locdt_std', 'etymd__cano_mean',\n",
      "       'loctm_hour', 'loctm_hour__cano_locdt_mean',\n",
      "       'loctm_hour__cano_locdt_std', 'loctm_hour__cano_mcc_mean',\n",
      "       'loctm_hour__cano_mcc_std', 'loctm_hour__cano_mean',\n",
      "       'loctm_hour__cano_std', 'mcc', 'mcc_FE', 'mcc__cano_locdt_mean',\n",
      "       'mcc__cano_locdt_std', 'mcc__cano_mean', 'mcc__cano_std', 'mcc_mchno',\n",
      "       'mcc_mchno_FE', 'mcc_mchno__cano_locdt_mean',\n",
      "       'mcc_mchno__cano_locdt_std', 'mcc_mchno__cano_mean',\n",
      "       'mcc_mchno__cano_std', 'mchno', 'mchno_FE', 'mchno__cano_locdt_mean',\n",
      "       'mchno__cano_locdt_std', 'mchno__cano_mean', 'mchno__cano_std', 'scity',\n",
      "       'scity__cano_locdt_mean', 'scity__cano_locdt_std',\n",
      "       'scity__cano_mcc_mean', 'scity__cano_mcc_std', 'scity__cano_mean',\n",
      "       'scity__cano_std', 'stocn', 'stocn__cano_locdt_mean',\n",
      "       'stocn__cano_locdt_std', 'stocn__cano_mcc_mean', 'stocn__cano_mcc_std',\n",
      "       'stocn__cano_mean', 'stocn__cano_std', 'stocn_scity',\n",
      "       'stocn_scity__cano_locdt_mean', 'stocn_scity__cano_locdt_std',\n",
      "       'stocn_scity__cano_mean', 'stocn_scity__cano_scity_mean',\n",
      "       'stocn_scity__cano_scity_std', 'stocn_scity__cano_std', 'stscd',\n",
      "       'stscd__cano_locdt_mean', 'stscd__cano_locdt_std',\n",
      "       'stscd__cano_mcc_mean', 'stscd__cano_mcc_std', 'stscd__cano_mean'],\n",
      "      dtype='object')\n",
      "train_df.shape =  (1217429, 79)\n"
     ]
    },
    {
     "name": "stderr",
     "output_type": "stream",
     "text": [
      "/home/IPL915/.conda/envs/KIWI/lib/python3.7/site-packages/xgboost/core.py:587: FutureWarning: Series.base is deprecated and will be removed in a future version\n",
      "  if getattr(data, 'base', None) is not None and \\\n",
      "/home/IPL915/.conda/envs/KIWI/lib/python3.7/site-packages/xgboost/core.py:588: FutureWarning: Series.base is deprecated and will be removed in a future version\n",
      "  data.base is not None and isinstance(data, np.ndarray) \\\n"
     ]
    },
    {
     "name": "stdout",
     "output_type": "stream",
     "text": [
      "f1 improve\n",
      "auc improve\n"
     ]
    },
    {
     "name": "stderr",
     "output_type": "stream",
     "text": [
      "/home/IPL915/.conda/envs/KIWI/lib/python3.7/site-packages/IPython/core/pylabtools.py:128: UserWarning: Creating legend with loc=\"best\" can be slow with large amounts of data.\n",
      "  fig.canvas.print_figure(bytes_io, **kw)\n"
     ]
    },
    {
     "data": {
      "image/png": "[encoded data removed]",
      "text/plain": [
       "<Figure size 576x576 with 1 Axes>"
      ]
     },
     "metadata": {
      "needs_background": "light"
     },
     "output_type": "display_data"
    },
    {
     "name": "stdout",
     "output_type": "stream",
     "text": [
      "------------------------------------- stocn_scity_cano_scity count= 2\n",
      "-------------------------------------------------------------------------\n",
      "\n",
      "train_df.columns =  Index(['acqic', 'acqic__cano_locdt_mean', 'acqic__cano_locdt_std',\n",
      "       'acqic__cano_mean', 'acqic__cano_scity_mean', 'acqic__cano_scity_std',\n",
      "       'acqic__cano_std', 'bacno_FE', 'cano_FE', 'cano_locdt_FE', 'conam',\n",
      "       'conam__cano_locdt_mean', 'conam__cano_locdt_std',\n",
      "       'conam__cano_mcc_mean', 'conam__cano_mcc_std', 'conam__cano_mean',\n",
      "       'conam__cano_std', 'csmcu', 'csmcu__cano_locdt_mean',\n",
      "       'csmcu__cano_locdt_std', 'csmcu__cano_mean', 'csmcu__cano_std', 'ecfg',\n",
      "       'ecfg__cano_mean', 'ecfg__cano_std', 'etymd', 'etymd__cano_locdt_mean',\n",
      "       'etymd__cano_locdt_std', 'etymd__cano_mean', 'loctm_hour',\n",
      "       'loctm_hour__cano_locdt_mean', 'loctm_hour__cano_locdt_std',\n",
      "       'loctm_hour__cano_mcc_mean', 'loctm_hour__cano_mcc_std',\n",
      "       'loctm_hour__cano_mean', 'loctm_hour__cano_std', 'mcc', 'mcc_FE',\n",
      "       'mcc__cano_locdt_mean', 'mcc__cano_locdt_std', 'mcc__cano_mean',\n",
      "       'mcc__cano_std', 'mcc_mchno', 'mcc_mchno_FE',\n",
      "       'mcc_mchno__cano_locdt_mean', 'mcc_mchno__cano_locdt_std',\n",
      "       'mcc_mchno__cano_mean', 'mcc_mchno__cano_std', 'mchno', 'mchno_FE',\n",
      "       'mchno__cano_locdt_mean', 'mchno__cano_locdt_std', 'mchno__cano_mean',\n",
      "       'mchno__cano_std', 'scity', 'scity__cano_locdt_mean',\n",
      "       'scity__cano_locdt_std', 'scity__cano_mcc_mean', 'scity__cano_mcc_std',\n",
      "       'scity__cano_mean', 'scity__cano_std', 'stocn',\n",
      "       'stocn__cano_locdt_mean', 'stocn__cano_locdt_std',\n",
      "       'stocn__cano_mcc_mean', 'stocn__cano_mcc_std', 'stocn__cano_mean',\n",
      "       'stocn__cano_std', 'stocn_scity', 'stocn_scity__cano_locdt_mean',\n",
      "       'stocn_scity__cano_locdt_std', 'stocn_scity__cano_mean',\n",
      "       'stocn_scity__cano_std', 'stscd', 'stscd__cano_locdt_mean',\n",
      "       'stscd__cano_locdt_std', 'stscd__cano_mcc_mean', 'stscd__cano_mcc_std',\n",
      "       'stscd__cano_mean'],\n",
      "      dtype='object')\n",
      "train_df.shape =  (1217429, 79)\n"
     ]
    },
    {
     "name": "stderr",
     "output_type": "stream",
     "text": [
      "/home/IPL915/.conda/envs/KIWI/lib/python3.7/site-packages/xgboost/core.py:587: FutureWarning: Series.base is deprecated and will be removed in a future version\n",
      "  if getattr(data, 'base', None) is not None and \\\n",
      "/home/IPL915/.conda/envs/KIWI/lib/python3.7/site-packages/xgboost/core.py:588: FutureWarning: Series.base is deprecated and will be removed in a future version\n",
      "  data.base is not None and isinstance(data, np.ndarray) \\\n"
     ]
    },
    {
     "name": "stdout",
     "output_type": "stream",
     "text": [
      "ap improve\n"
     ]
    },
    {
     "name": "stderr",
     "output_type": "stream",
     "text": [
      "/home/IPL915/.conda/envs/KIWI/lib/python3.7/site-packages/IPython/core/pylabtools.py:128: UserWarning: Creating legend with loc=\"best\" can be slow with large amounts of data.\n",
      "  fig.canvas.print_figure(bytes_io, **kw)\n"
     ]
    },
    {
     "data": {
      "image/png": "[encoded data removed]",
      "text/plain": [
       "<Figure size 576x576 with 1 Axes>"
      ]
     },
     "metadata": {
      "needs_background": "light"
     },
     "output_type": "display_data"
    },
    {
     "name": "stdout",
     "output_type": "stream",
     "text": [
      "------------------------------------- acqic_cano_scity count= 1\n",
      "-------------------------------------------------------------------------\n",
      "\n",
      "train_df.columns =  Index(['acqic', 'acqic__cano_locdt_mean', 'acqic__cano_locdt_std',\n",
      "       'acqic__cano_mean', 'acqic__cano_std', 'bacno_FE', 'cano_FE',\n",
      "       'cano_locdt_FE', 'conam', 'conam__cano_locdt_mean',\n",
      "       'conam__cano_locdt_std', 'conam__cano_mcc_mean', 'conam__cano_mcc_std',\n",
      "       'conam__cano_mean', 'conam__cano_std', 'csmcu',\n",
      "       'csmcu__cano_locdt_mean', 'csmcu__cano_locdt_std', 'csmcu__cano_mean',\n",
      "       'csmcu__cano_std', 'ecfg', 'ecfg__cano_mean', 'ecfg__cano_std', 'etymd',\n",
      "       'etymd__cano_locdt_mean', 'etymd__cano_locdt_std', 'etymd__cano_mean',\n",
      "       'loctm_hour', 'loctm_hour__cano_locdt_mean',\n",
      "       'loctm_hour__cano_locdt_std', 'loctm_hour__cano_mcc_mean',\n",
      "       'loctm_hour__cano_mcc_std', 'loctm_hour__cano_mean',\n",
      "       'loctm_hour__cano_scity_mean', 'loctm_hour__cano_scity_std',\n",
      "       'loctm_hour__cano_std', 'mcc', 'mcc_FE', 'mcc__cano_locdt_mean',\n",
      "       'mcc__cano_locdt_std', 'mcc__cano_mean', 'mcc__cano_std', 'mcc_mchno',\n",
      "       'mcc_mchno_FE', 'mcc_mchno__cano_locdt_mean',\n",
      "       'mcc_mchno__cano_locdt_std', 'mcc_mchno__cano_mean',\n",
      "       'mcc_mchno__cano_std', 'mchno', 'mchno_FE', 'mchno__cano_locdt_mean',\n",
      "       'mchno__cano_locdt_std', 'mchno__cano_mean', 'mchno__cano_std', 'scity',\n",
      "       'scity__cano_locdt_mean', 'scity__cano_locdt_std',\n",
      "       'scity__cano_mcc_mean', 'scity__cano_mcc_std', 'scity__cano_mean',\n",
      "       'scity__cano_std', 'stocn', 'stocn__cano_locdt_mean',\n",
      "       'stocn__cano_locdt_std', 'stocn__cano_mcc_mean', 'stocn__cano_mcc_std',\n",
      "       'stocn__cano_mean', 'stocn__cano_std', 'stocn_scity',\n",
      "       'stocn_scity__cano_locdt_mean', 'stocn_scity__cano_locdt_std',\n",
      "       'stocn_scity__cano_mean', 'stocn_scity__cano_std', 'stscd',\n",
      "       'stscd__cano_locdt_mean', 'stscd__cano_locdt_std',\n",
      "       'stscd__cano_mcc_mean', 'stscd__cano_mcc_std', 'stscd__cano_mean'],\n",
      "      dtype='object')\n",
      "train_df.shape =  (1217429, 79)\n"
     ]
    },
    {
     "name": "stderr",
     "output_type": "stream",
     "text": [
      "/home/IPL915/.conda/envs/KIWI/lib/python3.7/site-packages/xgboost/core.py:587: FutureWarning: Series.base is deprecated and will be removed in a future version\n",
      "  if getattr(data, 'base', None) is not None and \\\n",
      "/home/IPL915/.conda/envs/KIWI/lib/python3.7/site-packages/xgboost/core.py:588: FutureWarning: Series.base is deprecated and will be removed in a future version\n",
      "  data.base is not None and isinstance(data, np.ndarray) \\\n"
     ]
    },
    {
     "name": "stdout",
     "output_type": "stream",
     "text": [
      "ap improve\n",
      "f1 improve\n"
     ]
    },
    {
     "name": "stderr",
     "output_type": "stream",
     "text": [
      "/home/IPL915/.conda/envs/KIWI/lib/python3.7/site-packages/IPython/core/pylabtools.py:128: UserWarning: Creating legend with loc=\"best\" can be slow with large amounts of data.\n",
      "  fig.canvas.print_figure(bytes_io, **kw)\n"
     ]
    },
    {
     "data": {
      "image/png": "[encoded data removed]",
      "text/plain": [
       "<Figure size 576x576 with 1 Axes>"
      ]
     },
     "metadata": {
      "needs_background": "light"
     },
     "output_type": "display_data"
    },
    {
     "name": "stdout",
     "output_type": "stream",
     "text": [
      "------------------------------------- loctm_hour_cano_scity count= 2\n",
      "-------------------------------------------------------------------------\n",
      "\n",
      "train_df.columns =  Index(['acqic', 'acqic__cano_locdt_mean', 'acqic__cano_locdt_std',\n",
      "       'acqic__cano_mean', 'acqic__cano_std', 'bacno_FE', 'cano_FE',\n",
      "       'cano_locdt_FE', 'conam', 'conam__cano_locdt_mean',\n",
      "       'conam__cano_locdt_std', 'conam__cano_mcc_mean', 'conam__cano_mcc_std',\n",
      "       'conam__cano_mean', 'conam__cano_std', 'csmcu',\n",
      "       'csmcu__cano_locdt_mean', 'csmcu__cano_locdt_std', 'csmcu__cano_mean',\n",
      "       'csmcu__cano_std', 'ecfg', 'ecfg__cano_mean', 'ecfg__cano_std', 'etymd',\n",
      "       'etymd__cano_locdt_mean', 'etymd__cano_locdt_std', 'etymd__cano_mean',\n",
      "       'loctm_hour', 'loctm_hour__cano_locdt_mean',\n",
      "       'loctm_hour__cano_locdt_std', 'loctm_hour__cano_mcc_mean',\n",
      "       'loctm_hour__cano_mcc_std', 'loctm_hour__cano_mean',\n",
      "       'loctm_hour__cano_std', 'mcc', 'mcc_FE', 'mcc__cano_locdt_mean',\n",
      "       'mcc__cano_locdt_std', 'mcc__cano_mean', 'mcc__cano_std', 'mcc_mchno',\n",
      "       'mcc_mchno_FE', 'mcc_mchno__cano_locdt_mean',\n",
      "       'mcc_mchno__cano_locdt_std', 'mcc_mchno__cano_mean',\n",
      "       'mcc_mchno__cano_std', 'mchno', 'mchno_FE', 'mchno__cano_locdt_mean',\n",
      "       'mchno__cano_locdt_std', 'mchno__cano_mean', 'mchno__cano_std', 'scity',\n",
      "       'scity__cano_locdt_mean', 'scity__cano_locdt_std',\n",
      "       'scity__cano_mcc_mean', 'scity__cano_mcc_std', 'scity__cano_mean',\n",
      "       'scity__cano_std', 'stocn', 'stocn__cano_locdt_mean',\n",
      "       'stocn__cano_locdt_std', 'stocn__cano_mcc_mean', 'stocn__cano_mcc_std',\n",
      "       'stocn__cano_mean', 'stocn__cano_scity_mean', 'stocn__cano_scity_std',\n",
      "       'stocn__cano_std', 'stocn_scity', 'stocn_scity__cano_locdt_mean',\n",
      "       'stocn_scity__cano_locdt_std', 'stocn_scity__cano_mean',\n",
      "       'stocn_scity__cano_std', 'stscd', 'stscd__cano_locdt_mean',\n",
      "       'stscd__cano_locdt_std', 'stscd__cano_mcc_mean', 'stscd__cano_mcc_std',\n",
      "       'stscd__cano_mean'],\n",
      "      dtype='object')\n",
      "train_df.shape =  (1217429, 79)\n"
     ]
    },
    {
     "name": "stderr",
     "output_type": "stream",
     "text": [
      "/home/IPL915/.conda/envs/KIWI/lib/python3.7/site-packages/xgboost/core.py:587: FutureWarning: Series.base is deprecated and will be removed in a future version\n",
      "  if getattr(data, 'base', None) is not None and \\\n",
      "/home/IPL915/.conda/envs/KIWI/lib/python3.7/site-packages/xgboost/core.py:588: FutureWarning: Series.base is deprecated and will be removed in a future version\n",
      "  data.base is not None and isinstance(data, np.ndarray) \\\n"
     ]
    },
    {
     "name": "stdout",
     "output_type": "stream",
     "text": [
      "ap improve\n",
      "f1 improve\n"
     ]
    },
    {
     "name": "stderr",
     "output_type": "stream",
     "text": [
      "/home/IPL915/.conda/envs/KIWI/lib/python3.7/site-packages/IPython/core/pylabtools.py:128: UserWarning: Creating legend with loc=\"best\" can be slow with large amounts of data.\n",
      "  fig.canvas.print_figure(bytes_io, **kw)\n"
     ]
    },
    {
     "data": {
      "image/png": "[encoded data removed]",
      "text/plain": [
       "<Figure size 576x576 with 1 Axes>"
      ]
     },
     "metadata": {
      "needs_background": "light"
     },
     "output_type": "display_data"
    },
    {
     "name": "stdout",
     "output_type": "stream",
     "text": [
      "------------------------------------- stocn_cano_scity count= 2\n",
      "-------------------------------------------------------------------------\n",
      "\n",
      "train_df.columns =  Index(['acqic', 'acqic__cano_locdt_mean', 'acqic__cano_locdt_std',\n",
      "       'acqic__cano_mean', 'acqic__cano_std', 'bacno_FE', 'cano_FE',\n",
      "       'cano_locdt_FE', 'conam', 'conam__cano_locdt_mean',\n",
      "       'conam__cano_locdt_std', 'conam__cano_mcc_mean', 'conam__cano_mcc_std',\n",
      "       'conam__cano_mean', 'conam__cano_std', 'csmcu',\n",
      "       'csmcu__cano_locdt_mean', 'csmcu__cano_locdt_std', 'csmcu__cano_mean',\n",
      "       'csmcu__cano_std', 'ecfg', 'ecfg__cano_mean', 'ecfg__cano_std', 'etymd',\n",
      "       'etymd__cano_locdt_mean', 'etymd__cano_locdt_std', 'etymd__cano_mean',\n",
      "       'loctm_hour', 'loctm_hour__cano_locdt_mean',\n",
      "       'loctm_hour__cano_locdt_std', 'loctm_hour__cano_mcc_mean',\n",
      "       'loctm_hour__cano_mcc_std', 'loctm_hour__cano_mean',\n",
      "       'loctm_hour__cano_std', 'mcc', 'mcc_FE', 'mcc__cano_locdt_mean',\n",
      "       'mcc__cano_locdt_std', 'mcc__cano_mean', 'mcc__cano_std', 'mcc_mchno',\n",
      "       'mcc_mchno_FE', 'mcc_mchno__cano_locdt_mean',\n",
      "       'mcc_mchno__cano_locdt_std', 'mcc_mchno__cano_mean',\n",
      "       'mcc_mchno__cano_std', 'mchno', 'mchno_FE', 'mchno__cano_locdt_mean',\n",
      "       'mchno__cano_locdt_std', 'mchno__cano_mean', 'mchno__cano_std', 'scity',\n",
      "       'scity__cano_locdt_mean', 'scity__cano_locdt_std',\n",
      "       'scity__cano_mcc_mean', 'scity__cano_mcc_std', 'scity__cano_mean',\n",
      "       'scity__cano_std', 'stocn', 'stocn__cano_locdt_mean',\n",
      "       'stocn__cano_locdt_std', 'stocn__cano_mcc_mean', 'stocn__cano_mcc_std',\n",
      "       'stocn__cano_mean', 'stocn__cano_std', 'stocn_scity',\n",
      "       'stocn_scity__cano_locdt_mean', 'stocn_scity__cano_locdt_std',\n",
      "       'stocn_scity__cano_mean', 'stocn_scity__cano_std', 'stscd',\n",
      "       'stscd__cano_locdt_mean', 'stscd__cano_locdt_std',\n",
      "       'stscd__cano_mcc_mean', 'stscd__cano_mcc_std', 'stscd__cano_mean',\n",
      "       'stscd__cano_scity_mean', 'stscd__cano_scity_std'],\n",
      "      dtype='object')\n",
      "train_df.shape =  (1217429, 79)\n"
     ]
    },
    {
     "name": "stderr",
     "output_type": "stream",
     "text": [
      "/home/IPL915/.conda/envs/KIWI/lib/python3.7/site-packages/xgboost/core.py:587: FutureWarning: Series.base is deprecated and will be removed in a future version\n",
      "  if getattr(data, 'base', None) is not None and \\\n",
      "/home/IPL915/.conda/envs/KIWI/lib/python3.7/site-packages/xgboost/core.py:588: FutureWarning: Series.base is deprecated and will be removed in a future version\n",
      "  data.base is not None and isinstance(data, np.ndarray) \\\n"
     ]
    },
    {
     "name": "stdout",
     "output_type": "stream",
     "text": [
      "ap improve\n",
      "f1 improve\n"
     ]
    },
    {
     "name": "stderr",
     "output_type": "stream",
     "text": [
      "/home/IPL915/.conda/envs/KIWI/lib/python3.7/site-packages/IPython/core/pylabtools.py:128: UserWarning: Creating legend with loc=\"best\" can be slow with large amounts of data.\n",
      "  fig.canvas.print_figure(bytes_io, **kw)\n"
     ]
    },
    {
     "data": {
      "image/png": "[encoded data removed]",
      "text/plain": [
       "<Figure size 576x576 with 1 Axes>"
      ]
     },
     "metadata": {
      "needs_background": "light"
     },
     "output_type": "display_data"
    },
    {
     "name": "stdout",
     "output_type": "stream",
     "text": [
      "------------------------------------- stscd_cano_scity count= 2\n",
      "-------------------------------------------------------------------------\n",
      "\n",
      "train_df.columns =  Index(['acqic', 'acqic__cano_locdt_mean', 'acqic__cano_locdt_std',\n",
      "       'acqic__cano_mean', 'acqic__cano_std', 'bacno_FE', 'cano_FE',\n",
      "       'cano_locdt_FE', 'conam', 'conam__cano_locdt_mean',\n",
      "       'conam__cano_locdt_std', 'conam__cano_mcc_mean', 'conam__cano_mcc_std',\n",
      "       'conam__cano_mean', 'conam__cano_std', 'csmcu',\n",
      "       'csmcu__cano_locdt_mean', 'csmcu__cano_locdt_std', 'csmcu__cano_mean',\n",
      "       'csmcu__cano_scity_mean', 'csmcu__cano_scity_std', 'csmcu__cano_std',\n",
      "       'ecfg', 'ecfg__cano_mean', 'ecfg__cano_std', 'etymd',\n",
      "       'etymd__cano_locdt_mean', 'etymd__cano_locdt_std', 'etymd__cano_mean',\n",
      "       'loctm_hour', 'loctm_hour__cano_locdt_mean',\n",
      "       'loctm_hour__cano_locdt_std', 'loctm_hour__cano_mcc_mean',\n",
      "       'loctm_hour__cano_mcc_std', 'loctm_hour__cano_mean',\n",
      "       'loctm_hour__cano_std', 'mcc', 'mcc_FE', 'mcc__cano_locdt_mean',\n",
      "       'mcc__cano_locdt_std', 'mcc__cano_mean', 'mcc__cano_std', 'mcc_mchno',\n",
      "       'mcc_mchno_FE', 'mcc_mchno__cano_locdt_mean',\n",
      "       'mcc_mchno__cano_locdt_std', 'mcc_mchno__cano_mean',\n",
      "       'mcc_mchno__cano_std', 'mchno', 'mchno_FE', 'mchno__cano_locdt_mean',\n",
      "       'mchno__cano_locdt_std', 'mchno__cano_mean', 'mchno__cano_std', 'scity',\n",
      "       'scity__cano_locdt_mean', 'scity__cano_locdt_std',\n",
      "       'scity__cano_mcc_mean', 'scity__cano_mcc_std', 'scity__cano_mean',\n",
      "       'scity__cano_std', 'stocn', 'stocn__cano_locdt_mean',\n",
      "       'stocn__cano_locdt_std', 'stocn__cano_mcc_mean', 'stocn__cano_mcc_std',\n",
      "       'stocn__cano_mean', 'stocn__cano_std', 'stocn_scity',\n",
      "       'stocn_scity__cano_locdt_mean', 'stocn_scity__cano_locdt_std',\n",
      "       'stocn_scity__cano_mean', 'stocn_scity__cano_std', 'stscd',\n",
      "       'stscd__cano_locdt_mean', 'stscd__cano_locdt_std',\n",
      "       'stscd__cano_mcc_mean', 'stscd__cano_mcc_std', 'stscd__cano_mean'],\n",
      "      dtype='object')\n",
      "train_df.shape =  (1217429, 79)\n"
     ]
    },
    {
     "name": "stderr",
     "output_type": "stream",
     "text": [
      "/home/IPL915/.conda/envs/KIWI/lib/python3.7/site-packages/xgboost/core.py:587: FutureWarning: Series.base is deprecated and will be removed in a future version\n",
      "  if getattr(data, 'base', None) is not None and \\\n",
      "/home/IPL915/.conda/envs/KIWI/lib/python3.7/site-packages/xgboost/core.py:588: FutureWarning: Series.base is deprecated and will be removed in a future version\n",
      "  data.base is not None and isinstance(data, np.ndarray) \\\n"
     ]
    },
    {
     "name": "stdout",
     "output_type": "stream",
     "text": [
      "-------------------------------------------------------------------------\n"
     ]
    }
   ],
   "source": [
    "#ADD FEATURE\n",
    "col1s = ['acqic',  'conam',  'csmcu', 'ecfg', 'etymd',\n",
    "         'mcc', 'mchno',\n",
    "       'scity', 'stocn', 'stscd',  'loctm_hour', 'stocn_scity','mcc_mchno']   \n",
    "\n",
    "cols2 =['cano_scity']\n",
    "for col1 in new:\n",
    "    for col2 in cols2:              \n",
    "        model1_features =['acqic', 'conam', 'csmcu', 'ecfg', 'etymd',\n",
    "        'mcc', 'mchno', 'scity', 'stocn',\n",
    "        'stscd', 'loctm_hour','stocn_scity','mcc_mchno' ]      \n",
    "        #combine feature\n",
    "        #model1_features.append(col1+'_'+col2)\n",
    "        #count feature\n",
    "        #model1_features.append(col1+'_FE')\n",
    "        #group feature \n",
    "        temp = model1_features+cf+cf2+list(gf)+list(gf2)+list(gf_mcc)\n",
    "        model1_features = list(temp)     \n",
    "        model1_features.append(col1+'__'+col2+'_mean')\n",
    "        #if(not(col1=='etymd' or col1=='stscd' or col1 =='loctm_hour')): \n",
    "        model1_features.append(col1+'__'+col2+'_std')  \n",
    "        model1_features.sort()\n",
    "        X_train = df[model1_features]\n",
    "        Y_train = df['fraud_ind'] \n",
    "        df_validation_2 = df.iloc[int(0.8 * len(df)):, ]\n",
    "        df_train_2 = df.iloc[:int(0.8 * len(df)), ]\n",
    "        train_df, y_train_df = df_train_2[model1_features], df_train_2['fraud_ind']\n",
    "        valid_df, y_valid_df = df_validation_2[model1_features], df_validation_2['fraud_ind']\n",
    "        print()\n",
    "        print('train_df.columns = ',train_df.columns)\n",
    "        print('train_df.shape = ',train_df.shape)\n",
    "        trn_data = xgb.DMatrix(train_df, label=y_train_df,missing=-100)\n",
    "        val_data = xgb.DMatrix(valid_df, label=y_valid_df,missing=-100) \n",
    "        Dtrain_df = xgb.DMatrix(train_df,missing=-100)\n",
    "        Dvalid_df = xgb.DMatrix(valid_df,missing=-100)\n",
    "        DX_test = xgb.DMatrix(X_test,missing=-100)\n",
    "        watchlist = [(trn_data,'train'),(val_data,'val')]\n",
    "        clf = xgb.train(params,\n",
    "                    trn_data,\n",
    "                    num_boost_round= 10000,\n",
    "                    evals  =watchlist,             \n",
    "                    verbose_eval=0,\n",
    "                    early_stopping_rounds = 200\n",
    "                     )   \n",
    "        pred = clf.predict(Dvalid_df)   \n",
    "        now_auc = roc_auc_score(y_valid_df, pred)\n",
    "        #print( \"      auc = \", now_auc ) \n",
    "        pred_file_path = 'compare_xgb.csv'\n",
    "        last_pred = np.array(pd.read_csv(pred_file_path))\n",
    "        last_auc = roc_auc_score(y_valid_df, last_pred)\n",
    "        #print( \"last  auc = \", last_auc ) \n",
    "    \n",
    "        threshold = 0.5\n",
    "        y_pre = [int(item>threshold) for  item in pred]  \n",
    "        last_y_pre = [int(item>threshold) for  item in last_pred] \n",
    "        now_f1= f1_score(y_valid_df, y_pre)\n",
    "        last_f1 =f1_score(y_valid_df, last_y_pre)\n",
    "        #print( \"     f1 = \", now_f1)\n",
    "        #print( \"last f1 = \", last_f1)\n",
    "        now_ap = average_precision_score(y_valid_df, pred);\n",
    "        #print( \"     average_precision = \",now_ap)\n",
    "        last_ap =average_precision_score(y_valid_df, last_pred)\n",
    "        #print( \"last average_precision = \",last_ap)\n",
    "        count=0\n",
    "        if(now_ap>last_ap):\n",
    "            count=count+1\n",
    "            print('ap improve')            \n",
    "        if(now_f1>last_f1):\n",
    "            count=count+1\n",
    "            print('f1 improve')          \n",
    "        if(now_auc>last_auc):      \n",
    "            count=count+1\n",
    "            print('auc improve')            \n",
    "        if(count>0 or now_ap>last_ap):\n",
    "            show_pr()\n",
    "            #print('-------------------------------------',col1+'_'+col2,'count=',count)\n",
    "            #print('-------------------------------------',col1+'_FE','count=',count)\n",
    "            print('-------------------------------------',col1+'_'+col2,'count=',count)  \n",
    "        print('-------------------------------------------------------------------------')     \n",
    "        del clf \n",
    "        gc.collect()\n",
    "        gc.collect()\n",
    "        #print( \"  confusion_matrix = \\r\\n\", confusion_matrix(y_valid_df, y_pre) )"
   ]
  },
  {
   "cell_type": "code",
   "execution_count": 26,
   "metadata": {
    "colab": {
     "base_uri": "https://localhost:8080/",
     "height": 1000
    },
    "colab_type": "code",
    "id": "Rl6BM6R6RE3Z",
    "outputId": "2cd8c9b8-3688-4591-b2ce-3bacdc8dbec3",
    "scrolled": true
   },
   "outputs": [
    {
     "name": "stdout",
     "output_type": "stream",
     "text": [
      "77\n",
      "Index(['acqic', 'acqic__cano_locdt_mean', 'acqic__cano_locdt_std',\n",
      "       'acqic__cano_mean', 'acqic__cano_std', 'bacno_FE', 'cano_FE',\n",
      "       'cano_locdt_FE', 'conam', 'conam__cano_locdt_mean',\n",
      "       'conam__cano_locdt_std', 'conam__cano_mcc_mean', 'conam__cano_mcc_std',\n",
      "       'conam__cano_mean', 'conam__cano_std', 'csmcu',\n",
      "       'csmcu__cano_locdt_mean', 'csmcu__cano_locdt_std', 'csmcu__cano_mean',\n",
      "       'csmcu__cano_std', 'ecfg', 'ecfg__cano_mean', 'ecfg__cano_std', 'etymd',\n",
      "       'etymd__cano_locdt_mean', 'etymd__cano_locdt_std', 'etymd__cano_mean',\n",
      "       'loctm_hour', 'loctm_hour__cano_locdt_mean',\n",
      "       'loctm_hour__cano_locdt_std', 'loctm_hour__cano_mcc_mean',\n",
      "       'loctm_hour__cano_mcc_std', 'loctm_hour__cano_mean',\n",
      "       'loctm_hour__cano_std', 'mcc', 'mcc_FE', 'mcc__cano_locdt_mean',\n",
      "       'mcc__cano_locdt_std', 'mcc__cano_mean', 'mcc__cano_std', 'mcc_mchno',\n",
      "       'mcc_mchno_FE', 'mcc_mchno__cano_locdt_mean',\n",
      "       'mcc_mchno__cano_locdt_std', 'mcc_mchno__cano_mean',\n",
      "       'mcc_mchno__cano_std', 'mchno', 'mchno_FE', 'mchno__cano_locdt_mean',\n",
      "       'mchno__cano_locdt_std', 'mchno__cano_mean', 'mchno__cano_std', 'scity',\n",
      "       'scity__cano_locdt_mean', 'scity__cano_locdt_std',\n",
      "       'scity__cano_mcc_mean', 'scity__cano_mcc_std', 'scity__cano_mean',\n",
      "       'scity__cano_std', 'stocn', 'stocn__cano_locdt_mean',\n",
      "       'stocn__cano_locdt_std', 'stocn__cano_mcc_mean', 'stocn__cano_mcc_std',\n",
      "       'stocn__cano_mean', 'stocn__cano_std', 'stocn_scity',\n",
      "       'stocn_scity__cano_locdt_mean', 'stocn_scity__cano_locdt_std',\n",
      "       'stocn_scity__cano_mean', 'stocn_scity__cano_std', 'stscd',\n",
      "       'stscd__cano_locdt_mean', 'stscd__cano_locdt_std',\n",
      "       'stscd__cano_mcc_mean', 'stscd__cano_mcc_std', 'stscd__cano_mean'],\n",
      "      dtype='object')\n"
     ]
    }
   ],
   "source": [
    "model1_features =['acqic', 'conam', 'csmcu', 'ecfg', 'etymd',\n",
    "       'mcc', 'mchno', 'scity', 'stocn',\n",
    "       'stscd', 'loctm_hour','stocn_scity','mcc_mchno' ]\n",
    "#remove_f = ['contp','iterm','hcefg']\n",
    "temp = model1_features+cf+cf2+list(gf)+list(gf2)+list(gf_mcc)\n",
    "model1_features= list(temp.copy())\n",
    "model1_features.sort()\n",
    "X_train = df[model1_features]\n",
    "Y_train = df['fraud_ind']\n",
    "X_test = df_test[model1_features]\n",
    "#print(model1_features)Z\n",
    "print(X_train.shape[1])\n",
    "print(X_train.columns)\n",
    "#show_cor(df[model1_features])"
   ]
  },
  {
   "cell_type": "code",
   "execution_count": 26,
   "metadata": {},
   "outputs": [],
   "source": [
    "# 将概率最大的20%作为验证集\n",
    "df_validation_2 = df.iloc[int(0.8 * len(df)):, ]\n",
    "df_train_2 = df.iloc[:int(0.8 * len(df)), ]"
   ]
  },
  {
   "cell_type": "code",
   "execution_count": 27,
   "metadata": {},
   "outputs": [],
   "source": [
    "import time\n",
    "predictions = np.zeros(len(X_test))"
   ]
  },
  {
   "cell_type": "code",
   "execution_count": null,
   "metadata": {
    "scrolled": true
   },
   "outputs": [],
   "source": [
    "    tStart = time.time()#計時開始\n",
    "    train_df, y_train_df = df_train_2[model1_features], df_train_2['fraud_ind']\n",
    "    valid_df, y_valid_df = df_validation_2[model1_features], df_validation_2['fraud_ind']\n",
    "    print('train_df.columns = ',train_df.columns)\n",
    "    print('train_df.shape = ',train_df.shape)\n",
    "    \n",
    "    trn_data = xgb.DMatrix(train_df, label=y_train_df,missing=-100)\n",
    "    val_data = xgb.DMatrix(valid_df, label=y_valid_df,missing=-100) \n",
    "    Dtrain_df = xgb.DMatrix(train_df,missing=-100)\n",
    "    Dvalid_df = xgb.DMatrix(valid_df,missing=-100)\n",
    "    DX_test = xgb.DMatrix(X_test,missing=-100)\n",
    "    watchlist = [(trn_data,'train'),(val_data,'val')]\n",
    "    model = xgb.train(params,\n",
    "                    trn_data,\n",
    "                    num_boost_round= 10000,\n",
    "                    evals  =watchlist,             \n",
    "                    verbose_eval=100,\n",
    "                    early_stopping_rounds = 200\n",
    "                     )   \n",
    "    pred = model.predict(Dvalid_df)   \n",
    "    \n",
    "    \n",
    "    pred_file_path = 'compare_xgb.csv'\n",
    "    last_pred = np.array(pd.read_csv(pred_file_path))   \n",
    "    \n",
    "    threshold = 0.5\n",
    "    y_pre = [int(item>threshold) for  item in pred]  \n",
    "    last_y_pre = [int(item>threshold) for  item in last_pred] \n",
    "    print( \"      auc = \", roc_auc_score(y_valid_df, pred) ) \n",
    "    print( \"last  auc = \", roc_auc_score(y_valid_df, last_pred) ) \n",
    "    print( \"     f1 = \", f1_score(y_valid_df, y_pre))\n",
    "    print( \"last f1 = \", f1_score(y_valid_df, last_y_pre))     \n",
    "    print( \"     average_precision = \",average_precision_score(y_valid_df, pred))\n",
    "    print( \"last average_precision = \",average_precision_score(y_valid_df, last_pred))\n",
    "\n",
    "    print( \"  confusion_matrix = \\r\\n\", confusion_matrix(y_valid_df, y_pre) )\n",
    "  \n",
    "    print('_'*100)\n",
    "    tEnd = time.time()#計時結束\n",
    "    #列印結果\n",
    "    print (\"It cost %f sec\" % (tEnd - tStart))#會自動做近位  "
   ]
  },
  {
   "cell_type": "code",
   "execution_count": 38,
   "metadata": {},
   "outputs": [
    {
     "name": "stdout",
     "output_type": "stream",
     "text": [
      "last  auc =  0.9956298777849382\n"
     ]
    },
    {
     "data": {
      "text/plain": [
       "<matplotlib.legend.Legend at 0x7feb8917fc10>"
      ]
     },
     "execution_count": 38,
     "metadata": {},
     "output_type": "execute_result"
    },
    {
     "data": {
      "image/png": "[encoded data removed]",
      "text/plain": [
       "<Figure size 432x432 with 1 Axes>"
      ]
     },
     "metadata": {
      "needs_background": "light"
     },
     "output_type": "display_data"
    }
   ],
   "source": [
    "pred_file_path = 'compare_xgb.csv'\n",
    "last_pred = np.array(pd.read_csv(pred_file_path))\n",
    "print( \"last  auc = \", roc_auc_score(y_valid_df, last_pred) )  \n",
    "# ROC 曲线对比\n",
    "l_fpr,l_tpr,l_t = roc_curve(y_valid_df,last_pred)\n",
    "fpr,tpr,t = roc_curve(y_valid_df,pred)\n",
    "plt.figure(figsize=(6,6))\n",
    "plt.plot(l_fpr,l_tpr,color='red',label='last best')\n",
    "plt.plot(fpr,tpr,color='green',label=\"now\")\n",
    "plt.legend()  "
   ]
  },
  {
   "cell_type": "code",
   "execution_count": 40,
   "metadata": {},
   "outputs": [
    {
     "data": {
      "text/plain": [
       "<matplotlib.legend.Legend at 0x7f5ed6996990>"
      ]
     },
     "execution_count": 40,
     "metadata": {},
     "output_type": "execute_result"
    },
    {
     "name": "stderr",
     "output_type": "stream",
     "text": [
      "/home/IPL915/.conda/envs/KIWI/lib/python3.7/site-packages/IPython/core/events.py:88: UserWarning: Creating legend with loc=\"best\" can be slow with large amounts of data.\n",
      "  func(*args, **kwargs)\n",
      "/home/IPL915/.conda/envs/KIWI/lib/python3.7/site-packages/IPython/core/pylabtools.py:128: UserWarning: Creating legend with loc=\"best\" can be slow with large amounts of data.\n",
      "  fig.canvas.print_figure(bytes_io, **kw)\n"
     ]
    },
    {
     "data": {
      "image/png": "[encoded data removed]",
      "text/plain": [
       "<Figure size 576x576 with 1 Axes>"
      ]
     },
     "metadata": {
      "needs_background": "light"
     },
     "output_type": "display_data"
    }
   ],
   "source": [
    "# PR 曲线对比\n",
    "l_pr,l_re,l_t = precision_recall_curve(y_valid_df,last_pred)\n",
    "pr,re,t = precision_recall_curve(y_valid_df,pred)\n",
    "plt.figure(figsize=(8,8))\n",
    "plt.plot(l_pr,l_re,color='red',label='last best')\n",
    "plt.plot(pr,re,color='green',label=\"now\")\n",
    "plt.legend() "
   ]
  },
  {
   "cell_type": "code",
   "execution_count": 41,
   "metadata": {},
   "outputs": [
    {
     "data": {
      "text/plain": [
       "<matplotlib.legend.Legend at 0x7f5ed6a8e8d0>"
      ]
     },
     "execution_count": 41,
     "metadata": {},
     "output_type": "execute_result"
    },
    {
     "data": {
      "image/png": "[encoded data removed]",
      "text/plain": [
       "<Figure size 576x576 with 1 Axes>"
      ]
     },
     "metadata": {
      "needs_background": "light"
     },
     "output_type": "display_data"
    }
   ],
   "source": [
    "plt.figure(figsize=(8,8))\n",
    "plt.plot(l_t,l_pr[:-1],color='red',label='last best')\n",
    "plt.plot(l_t,l_re[:-1],color='red')\n",
    "plt.legend() \n",
    "plt.plot(t,pr[:-1],color='green',label=\"now\")\n",
    "plt.plot(t,re[:-1],color='green')\n",
    "plt.legend() "
   ]
  },
  {
   "cell_type": "markdown",
   "metadata": {},
   "source": [
    "## 是否将存为新指标"
   ]
  },
  {
   "cell_type": "code",
   "execution_count": 76,
   "metadata": {},
   "outputs": [
    {
     "name": "stdout",
     "output_type": "stream",
     "text": [
      "save  file...\n"
     ]
    }
   ],
   "source": [
    "'''是否将存为新指标'''\n",
    "print(\"save  file...\")\n",
    "last_pred = pd.DataFrame({'pred':pred})\n",
    "last_pred.to_csv('compare_xgb.csv',index=None)"
   ]
  },
  {
   "cell_type": "code",
   "execution_count": 42,
   "metadata": {},
   "outputs": [],
   "source": [
    "precision_now, recall_now, thresholds_now = precision_recall_curve(y_valid_df, pred)"
   ]
  },
  {
   "cell_type": "code",
   "execution_count": null,
   "metadata": {},
   "outputs": [],
   "source": [
    "# 获取最佳 阈值方法 \n",
    "def get_threshold(pre,rec,threshold):\n",
    "    thold = []\n",
    "    for i in range(len(threshold)):\n",
    "        if round(pre[i],4)== round(rec[i],4):\n",
    "            thold.append(threshold[i]) \n",
    "    return thold\n",
    "pr,re,t = precision_recall_curve(Y_train,Y_valid)\n",
    "#thold = get_threshold(pr,re,t)"
   ]
  },
  {
   "cell_type": "code",
   "execution_count": 28,
   "metadata": {},
   "outputs": [],
   "source": [
    "seed = 1121\n",
    "np.random.seed(seed)\n",
    "random.seed(seed)"
   ]
  },
  {
   "cell_type": "code",
   "execution_count": 31,
   "metadata": {},
   "outputs": [],
   "source": [
    " params = {'max_depth': 47,\n",
    "                      \n",
    "              'learning_rate':0.02,\n",
    "              \n",
    "              'colsample_bytree':0.4,\n",
    "              'subsample':0.8,\n",
    "             \n",
    "              'scale_pos_weight':73.76231884057971,\n",
    "              'max_delta_step ':0,\n",
    "              #'eta': 0.1,\n",
    "              'missing' : -100,\n",
    "              'objective' :'binary:logistic',\n",
    "               # USE CPU\n",
    "               #'nthread' :1,\n",
    "              #tree_method='hist'\n",
    "               # USE GPU\n",
    "             # 'gpu_id':'4',\n",
    "              'tree_method':'gpu_hist',\n",
    "              'eval_metric': 'logloss',\n",
    "           'gamma': 0.15626466439591735,\n",
    "           'min_child_weight':1.5233399970515784, \n",
    "            'reg_alpha':4.989195734088519,\n",
    "              'reg_lambda':4.292050649851185,\n",
    "             #'seed':seed,\n",
    "            # 'random_state ':seed,\n",
    "             # 'shuffle':False,\n",
    "             }"
   ]
  },
  {
   "cell_type": "code",
   "execution_count": 43,
   "metadata": {},
   "outputs": [],
   "source": [
    " params = {'max_depth': 47,\n",
    "                      \n",
    "              'learning_rate':0.02,\n",
    "              \n",
    "              'colsample_bytree':0.6845594711468237,\n",
    "              'subsample': 0.6270356606257379,\n",
    "             \n",
    "              'scale_pos_weight':73.76231884057971,\n",
    "              'max_delta_step ':0,\n",
    "              #'eta': 0.1,\n",
    "              'missing' : -100,\n",
    "              'objective' :'binary:logistic',\n",
    "               # USE CPU\n",
    "               #'nthread' :1,\n",
    "              #tree_method='hist'\n",
    "               # USE GPU\n",
    "              'gpu_id':'4',\n",
    "              'tree_method':'gpu_hist',\n",
    "              'eval_metric': 'logloss',\n",
    "           'gamma': 0.5216569924939722,\n",
    "           'min_child_weight':2.8278927399386085, \n",
    "            'reg_alpha':0.3902447945616852,\n",
    "              'reg_lambda':0.33225047761472043,\n",
    "             #'seed':seed,\n",
    "            # 'random_state ':seed,\n",
    "             # 'shuffle':False,\n",
    "             }"
   ]
  },
  {
   "cell_type": "code",
   "execution_count": 30,
   "metadata": {},
   "outputs": [],
   "source": [
    "from bayes_opt import BayesianOptimization"
   ]
  },
  {
   "cell_type": "code",
   "execution_count": 46,
   "metadata": {},
   "outputs": [],
   "source": [
    "#Bayesian Optimization function for xgboost\n",
    "#specify the parameters you want to tune as keyword arguments\n",
    "def bo_tune_xgb(gamma,min_child_weight,subsample,colsample_bytree,reg_alpha,reg_lambda):\n",
    "    params = {'max_depth': 47,\n",
    "              'gamma': gamma,             \n",
    "              'scale_pos_weight':73.76231884057971,\n",
    "              'learning_rate':0.02,\n",
    "              'min_child_weight':int(min_child_weight), \n",
    "              'colsample_bytree':colsample_bytree,\n",
    "              'subsample':subsample,\n",
    "              'reg_alpha':reg_alpha,\n",
    "              'reg_lambda':reg_lambda,            \n",
    "              'missing' : -100,\n",
    "              'objective' :'binary:logistic',\n",
    "              'gpu_id':'6',\n",
    "              'tree_method':'gpu_hist',\n",
    "              'eval_metric': 'logloss'}\n",
    "    dtrain = xgb.DMatrix(X_train, Y_train, missing=-100)   \n",
    "    cv_result = xgb.cv(params, dtrain, num_boost_round=1, early_stopping_rounds=200, nfold=3,seed=seed)\n",
    "    print(cv_result)\n",
    "    return cv_result['test-logloss-mean'].iloc[-1]"
   ]
  },
  {
   "cell_type": "code",
   "execution_count": 47,
   "metadata": {},
   "outputs": [
    {
     "name": "stdout",
     "output_type": "stream",
     "text": [
      "|   iter    |  target   | colsam... |   gamma   | min_ch... | reg_alpha | reg_la... | subsample |\n",
      "-------------------------------------------------------------------------------------------------\n"
     ]
    },
    {
     "name": "stderr",
     "output_type": "stream",
     "text": [
      "/home/IPL915/.conda/envs/KIWI/lib/python3.7/site-packages/xgboost/core.py:587: FutureWarning: Series.base is deprecated and will be removed in a future version\n",
      "  if getattr(data, 'base', None) is not None and \\\n",
      "/home/IPL915/.conda/envs/KIWI/lib/python3.7/site-packages/xgboost/core.py:588: FutureWarning: Series.base is deprecated and will be removed in a future version\n",
      "  data.base is not None and isinstance(data, np.ndarray) \\\n"
     ]
    },
    {
     "name": "stdout",
     "output_type": "stream",
     "text": [
      "   train-logloss-mean  train-logloss-std  test-logloss-mean  test-logloss-std\n",
      "0            0.674147           0.000017           0.674249          0.000025\n",
      "| \u001b[0m 1       \u001b[0m | \u001b[0m 0.6742  \u001b[0m | \u001b[0m 0.8803  \u001b[0m | \u001b[0m 0.2428  \u001b[0m | \u001b[0m 4.551   \u001b[0m | \u001b[0m 2.903   \u001b[0m | \u001b[0m 1.108   \u001b[0m | \u001b[0m 0.6267  \u001b[0m |\n",
      "   train-logloss-mean  train-logloss-std  test-logloss-mean  test-logloss-std\n",
      "0            0.673979           0.000002           0.674107          0.000006\n",
      "| \u001b[0m 2       \u001b[0m | \u001b[0m 0.6741  \u001b[0m | \u001b[0m 0.679   \u001b[0m | \u001b[0m 0.3009  \u001b[0m | \u001b[0m 1.949   \u001b[0m | \u001b[0m 2.925   \u001b[0m | \u001b[0m 0.1869  \u001b[0m | \u001b[0m 0.6508  \u001b[0m |\n",
      "   train-logloss-mean  train-logloss-std  test-logloss-mean  test-logloss-std\n",
      "0            0.674076           0.000028           0.674205          0.000032\n",
      "| \u001b[0m 3       \u001b[0m | \u001b[0m 0.6742  \u001b[0m | \u001b[0m 0.6963  \u001b[0m | \u001b[0m 0.6749  \u001b[0m | \u001b[0m 1.127   \u001b[0m | \u001b[0m 0.4162  \u001b[0m | \u001b[0m 2.138   \u001b[0m | \u001b[0m 0.8478  \u001b[0m |\n",
      "   train-logloss-mean  train-logloss-std  test-logloss-mean  test-logloss-std\n",
      "0            0.674378           0.000022           0.674467          0.000018\n",
      "| \u001b[95m 4       \u001b[0m | \u001b[95m 0.6745  \u001b[0m | \u001b[95m 0.7059  \u001b[0m | \u001b[95m 0.4007  \u001b[0m | \u001b[95m 1.485   \u001b[0m | \u001b[95m 2.406   \u001b[0m | \u001b[95m 2.931   \u001b[0m | \u001b[95m 0.6136  \u001b[0m |\n",
      "   train-logloss-mean  train-logloss-std  test-logloss-mean  test-logloss-std\n",
      "0            0.674274           0.000018           0.674378          0.000015\n",
      "| \u001b[0m 5       \u001b[0m | \u001b[0m 0.6744  \u001b[0m | \u001b[0m 0.7942  \u001b[0m | \u001b[0m 0.04108 \u001b[0m | \u001b[0m 1.962   \u001b[0m | \u001b[0m 2.994   \u001b[0m | \u001b[0m 2.153   \u001b[0m | \u001b[0m 0.6816  \u001b[0m |\n",
      "   train-logloss-mean  train-logloss-std  test-logloss-mean  test-logloss-std\n",
      "0            0.674312           0.000019           0.674401          0.000022\n",
      "| \u001b[0m 6       \u001b[0m | \u001b[0m 0.6744  \u001b[0m | \u001b[0m 0.7785  \u001b[0m | \u001b[0m 0.2167  \u001b[0m | \u001b[0m 4.801   \u001b[0m | \u001b[0m 1.626   \u001b[0m | \u001b[0m 2.66    \u001b[0m | \u001b[0m 0.633   \u001b[0m |\n",
      "   train-logloss-mean  train-logloss-std  test-logloss-mean  test-logloss-std\n",
      "0            0.674116           0.000011           0.674232          0.000009\n",
      "| \u001b[0m 7       \u001b[0m | \u001b[0m 0.6742  \u001b[0m | \u001b[0m 0.8959  \u001b[0m | \u001b[0m 0.6496  \u001b[0m | \u001b[0m 5.275   \u001b[0m | \u001b[0m 0.5296  \u001b[0m | \u001b[0m 2.319   \u001b[0m | \u001b[0m 0.9036  \u001b[0m |\n",
      "   train-logloss-mean  train-logloss-std  test-logloss-mean  test-logloss-std\n",
      "0            0.674083            0.00001           0.674194          0.000017\n",
      "| \u001b[0m 8       \u001b[0m | \u001b[0m 0.6742  \u001b[0m | \u001b[0m 0.8666  \u001b[0m | \u001b[0m 0.7636  \u001b[0m | \u001b[0m 4.295   \u001b[0m | \u001b[0m 1.654   \u001b[0m | \u001b[0m 1.407   \u001b[0m | \u001b[0m 0.7368  \u001b[0m |\n"
     ]
    },
    {
     "name": "stderr",
     "output_type": "stream",
     "text": [
      "/home/IPL915/.conda/envs/KIWI/lib/python3.7/site-packages/xgboost/core.py:587: FutureWarning: Series.base is deprecated and will be removed in a future version\n",
      "  if getattr(data, 'base', None) is not None and \\\n",
      "/home/IPL915/.conda/envs/KIWI/lib/python3.7/site-packages/xgboost/core.py:588: FutureWarning: Series.base is deprecated and will be removed in a future version\n",
      "  data.base is not None and isinstance(data, np.ndarray) \\\n"
     ]
    },
    {
     "name": "stdout",
     "output_type": "stream",
     "text": [
      "   train-logloss-mean  train-logloss-std  test-logloss-mean  test-logloss-std\n",
      "0            0.674228            0.00001           0.674345          0.000019\n",
      "| \u001b[0m 9       \u001b[0m | \u001b[0m 0.6743  \u001b[0m | \u001b[0m 0.6482  \u001b[0m | \u001b[0m 0.3922  \u001b[0m | \u001b[0m 5.967   \u001b[0m | \u001b[0m 0.07883 \u001b[0m | \u001b[0m 2.891   \u001b[0m | \u001b[0m 0.9639  \u001b[0m |\n"
     ]
    },
    {
     "name": "stderr",
     "output_type": "stream",
     "text": [
      "/home/IPL915/.conda/envs/KIWI/lib/python3.7/site-packages/xgboost/core.py:587: FutureWarning: Series.base is deprecated and will be removed in a future version\n",
      "  if getattr(data, 'base', None) is not None and \\\n",
      "/home/IPL915/.conda/envs/KIWI/lib/python3.7/site-packages/xgboost/core.py:588: FutureWarning: Series.base is deprecated and will be removed in a future version\n",
      "  data.base is not None and isinstance(data, np.ndarray) \\\n"
     ]
    },
    {
     "name": "stdout",
     "output_type": "stream",
     "text": [
      "   train-logloss-mean  train-logloss-std  test-logloss-mean  test-logloss-std\n",
      "0            0.673533           0.000003           0.673738      8.164966e-07\n",
      "| \u001b[0m 10      \u001b[0m | \u001b[0m 0.6737  \u001b[0m | \u001b[0m 0.8022  \u001b[0m | \u001b[0m 0.2108  \u001b[0m | \u001b[0m 1.023   \u001b[0m | \u001b[0m 0.1583  \u001b[0m | \u001b[0m 0.1235  \u001b[0m | \u001b[0m 0.945   \u001b[0m |\n"
     ]
    },
    {
     "name": "stderr",
     "output_type": "stream",
     "text": [
      "/home/IPL915/.conda/envs/KIWI/lib/python3.7/site-packages/xgboost/core.py:587: FutureWarning: Series.base is deprecated and will be removed in a future version\n",
      "  if getattr(data, 'base', None) is not None and \\\n",
      "/home/IPL915/.conda/envs/KIWI/lib/python3.7/site-packages/xgboost/core.py:588: FutureWarning: Series.base is deprecated and will be removed in a future version\n",
      "  data.base is not None and isinstance(data, np.ndarray) \\\n"
     ]
    },
    {
     "name": "stdout",
     "output_type": "stream",
     "text": [
      "   train-logloss-mean  train-logloss-std  test-logloss-mean  test-logloss-std\n",
      "0            0.674298           0.000026           0.674405          0.000024\n",
      "| \u001b[0m 11      \u001b[0m | \u001b[0m 0.6744  \u001b[0m | \u001b[0m 0.8524  \u001b[0m | \u001b[0m 0.5173  \u001b[0m | \u001b[0m 5.883   \u001b[0m | \u001b[0m 2.716   \u001b[0m | \u001b[0m 2.977   \u001b[0m | \u001b[0m 0.8665  \u001b[0m |\n"
     ]
    },
    {
     "name": "stderr",
     "output_type": "stream",
     "text": [
      "/home/IPL915/.conda/envs/KIWI/lib/python3.7/site-packages/xgboost/core.py:587: FutureWarning: Series.base is deprecated and will be removed in a future version\n",
      "  if getattr(data, 'base', None) is not None and \\\n",
      "/home/IPL915/.conda/envs/KIWI/lib/python3.7/site-packages/xgboost/core.py:588: FutureWarning: Series.base is deprecated and will be removed in a future version\n",
      "  data.base is not None and isinstance(data, np.ndarray) \\\n"
     ]
    },
    {
     "name": "stdout",
     "output_type": "stream",
     "text": [
      "   train-logloss-mean  train-logloss-std  test-logloss-mean  test-logloss-std\n",
      "0            0.674336           0.000023           0.674444          0.000026\n",
      "| \u001b[0m 12      \u001b[0m | \u001b[0m 0.6744  \u001b[0m | \u001b[0m 0.657   \u001b[0m | \u001b[0m 0.3574  \u001b[0m | \u001b[0m 5.887   \u001b[0m | \u001b[0m 2.931   \u001b[0m | \u001b[0m 2.817   \u001b[0m | \u001b[0m 0.9587  \u001b[0m |\n"
     ]
    },
    {
     "name": "stderr",
     "output_type": "stream",
     "text": [
      "/home/IPL915/.conda/envs/KIWI/lib/python3.7/site-packages/xgboost/core.py:587: FutureWarning: Series.base is deprecated and will be removed in a future version\n",
      "  if getattr(data, 'base', None) is not None and \\\n",
      "/home/IPL915/.conda/envs/KIWI/lib/python3.7/site-packages/xgboost/core.py:588: FutureWarning: Series.base is deprecated and will be removed in a future version\n",
      "  data.base is not None and isinstance(data, np.ndarray) \\\n"
     ]
    },
    {
     "name": "stdout",
     "output_type": "stream",
     "text": [
      "   train-logloss-mean  train-logloss-std  test-logloss-mean  test-logloss-std\n",
      "0             0.67408           0.000009           0.674181          0.000023\n",
      "| \u001b[0m 13      \u001b[0m | \u001b[0m 0.6742  \u001b[0m | \u001b[0m 0.6756  \u001b[0m | \u001b[0m 0.972   \u001b[0m | \u001b[0m 5.87    \u001b[0m | \u001b[0m 2.99    \u001b[0m | \u001b[0m 0.09778 \u001b[0m | \u001b[0m 0.6098  \u001b[0m |\n",
      "=================================================================================================\n"
     ]
    }
   ],
   "source": [
    "#Invoking the Bayesian Optimizer with the specified parameters to tune\n",
    "xgb_bo = BayesianOptimization(bo_tune_xgb, {#'max_depth': (40, 50),\n",
    "                                             'gamma': (0, 1),                                            \n",
    "                                             'min_child_weight':(1,6),\n",
    "                                            'subsample':(0.6,1),\n",
    "                                            'colsample_bytree':(0.6,0.9),\n",
    "                                            'reg_alpha':(0.05,3),\n",
    "                                            'reg_lambda':(0.05,3),                                            \n",
    "                                            })\n",
    "\n",
    "#performing Bayesian optimization for 5 iterations with 8 steps of random exploration with an #acquisition function of expected improvement\n",
    "xgb_bo.maximize(n_iter=5, init_points=8, acq='ei')"
   ]
  },
  {
   "cell_type": "code",
   "execution_count": 48,
   "metadata": {},
   "outputs": [
    {
     "name": "stdout",
     "output_type": "stream",
     "text": [
      "{'colsample_bytree': 0.7059116281776322, 'gamma': 0.40069320193725366, 'min_child_weight': 1.4846766672564873, 'reg_alpha': 2.4055125187194095, 'reg_lambda': 2.9307957288073614, 'subsample': 0.6136160376363944}\n"
     ]
    }
   ],
   "source": [
    "#Extracting the best parameters\n",
    "params = xgb_bo.max['params']\n",
    "print(params)"
   ]
  },
  {
   "cell_type": "markdown",
   "metadata": {},
   "source": [
    "## train start!"
   ]
  },
  {
   "cell_type": "code",
   "execution_count": 34,
   "metadata": {
    "colab": {
     "base_uri": "https://localhost:8080/",
     "height": 1000
    },
    "colab_type": "code",
    "id": "nKN_ppP0RE3g",
    "outputId": "18a0a30d-7234-497c-df01-935369319055",
    "scrolled": true
   },
   "outputs": [
    {
     "name": "stdout",
     "output_type": "stream",
     "text": [
      "(1521787, 77)\n",
      "train feature  Index(['acqic', 'acqic__cano_locdt_mean', 'acqic__cano_locdt_std',\n",
      "       'acqic__cano_mean', 'acqic__cano_std', 'bacno_FE', 'cano_FE',\n",
      "       'cano_locdt_FE', 'conam', 'conam__cano_locdt_mean',\n",
      "       'conam__cano_locdt_std', 'conam__cano_mcc_mean', 'conam__cano_mcc_std',\n",
      "       'conam__cano_mean', 'conam__cano_std', 'csmcu',\n",
      "       'csmcu__cano_locdt_mean', 'csmcu__cano_locdt_std', 'csmcu__cano_mean',\n",
      "       'csmcu__cano_std', 'ecfg', 'ecfg__cano_mean', 'ecfg__cano_std', 'etymd',\n",
      "       'etymd__cano_locdt_mean', 'etymd__cano_locdt_std', 'etymd__cano_mean',\n",
      "       'loctm_hour', 'loctm_hour__cano_locdt_mean',\n",
      "       'loctm_hour__cano_locdt_std', 'loctm_hour__cano_mcc_mean',\n",
      "       'loctm_hour__cano_mcc_std', 'loctm_hour__cano_mean',\n",
      "       'loctm_hour__cano_std', 'mcc', 'mcc_FE', 'mcc__cano_locdt_mean',\n",
      "       'mcc__cano_locdt_std', 'mcc__cano_mean', 'mcc__cano_std', 'mcc_mchno',\n",
      "       'mcc_mchno_FE', 'mcc_mchno__cano_locdt_mean',\n",
      "       'mcc_mchno__cano_locdt_std', 'mcc_mchno__cano_mean',\n",
      "       'mcc_mchno__cano_std', 'mchno', 'mchno_FE', 'mchno__cano_locdt_mean',\n",
      "       'mchno__cano_locdt_std', 'mchno__cano_mean', 'mchno__cano_std', 'scity',\n",
      "       'scity__cano_locdt_mean', 'scity__cano_locdt_std',\n",
      "       'scity__cano_mcc_mean', 'scity__cano_mcc_std', 'scity__cano_mean',\n",
      "       'scity__cano_std', 'stocn', 'stocn__cano_locdt_mean',\n",
      "       'stocn__cano_locdt_std', 'stocn__cano_mcc_mean', 'stocn__cano_mcc_std',\n",
      "       'stocn__cano_mean', 'stocn__cano_std', 'stocn_scity',\n",
      "       'stocn_scity__cano_locdt_mean', 'stocn_scity__cano_locdt_std',\n",
      "       'stocn_scity__cano_mean', 'stocn_scity__cano_std', 'stscd',\n",
      "       'stscd__cano_locdt_mean', 'stscd__cano_locdt_std',\n",
      "       'stscd__cano_mcc_mean', 'stscd__cano_mcc_std', 'stscd__cano_mean'],\n",
      "      dtype='object')\n",
      "____________________________________________________________________________________________________\n",
      "Fold 0\n"
     ]
    },
    {
     "name": "stderr",
     "output_type": "stream",
     "text": [
      "C:\\Users\\kiwi\\Anaconda3\\lib\\site-packages\\xgboost\\core.py:587: FutureWarning: Series.base is deprecated and will be removed in a future version\n",
      "  if getattr(data, 'base', None) is not None and \\\n"
     ]
    },
    {
     "name": "stdout",
     "output_type": "stream",
     "text": [
      "[0]\ttrain-logloss:0.674659\tval-logloss:0.674856\n",
      "Multiple eval metrics have been passed: 'val-logloss' will be used for early stopping.\n",
      "\n",
      "Will train until val-logloss hasn't improved in 200 rounds.\n"
     ]
    },
    {
     "ename": "KeyboardInterrupt",
     "evalue": "",
     "output_type": "error",
     "traceback": [
      "\u001b[1;31m---------------------------------------------------------------------------\u001b[0m",
      "\u001b[1;31mKeyboardInterrupt\u001b[0m                         Traceback (most recent call last)",
      "\u001b[1;32m<ipython-input-34-22ce62978da3>\u001b[0m in \u001b[0;36m<module>\u001b[1;34m\u001b[0m\n\u001b[0;32m     35\u001b[0m                 \u001b[0mevals\u001b[0m  \u001b[1;33m=\u001b[0m\u001b[0mwatchlist\u001b[0m\u001b[1;33m,\u001b[0m\u001b[1;33m\u001b[0m\u001b[1;33m\u001b[0m\u001b[0m\n\u001b[0;32m     36\u001b[0m                 \u001b[0mverbose_eval\u001b[0m\u001b[1;33m=\u001b[0m\u001b[1;36m100\u001b[0m\u001b[1;33m,\u001b[0m\u001b[1;33m\u001b[0m\u001b[1;33m\u001b[0m\u001b[0m\n\u001b[1;32m---> 37\u001b[1;33m                 \u001b[0mearly_stopping_rounds\u001b[0m \u001b[1;33m=\u001b[0m \u001b[1;36m200\u001b[0m\u001b[1;33m\u001b[0m\u001b[1;33m\u001b[0m\u001b[0m\n\u001b[0m\u001b[0;32m     38\u001b[0m                  )   \n\u001b[0;32m     39\u001b[0m     \u001b[0mpred\u001b[0m \u001b[1;33m=\u001b[0m \u001b[0mclf\u001b[0m\u001b[1;33m.\u001b[0m\u001b[0mpredict\u001b[0m\u001b[1;33m(\u001b[0m\u001b[0mDvalid_df\u001b[0m\u001b[1;33m)\u001b[0m\u001b[1;33m\u001b[0m\u001b[1;33m\u001b[0m\u001b[0m\n",
      "\u001b[1;32m~\\Anaconda3\\lib\\site-packages\\xgboost\\training.py\u001b[0m in \u001b[0;36mtrain\u001b[1;34m(params, dtrain, num_boost_round, evals, obj, feval, maximize, early_stopping_rounds, evals_result, verbose_eval, xgb_model, callbacks, learning_rates)\u001b[0m\n\u001b[0;32m    214\u001b[0m                            \u001b[0mevals\u001b[0m\u001b[1;33m=\u001b[0m\u001b[0mevals\u001b[0m\u001b[1;33m,\u001b[0m\u001b[1;33m\u001b[0m\u001b[1;33m\u001b[0m\u001b[0m\n\u001b[0;32m    215\u001b[0m                            \u001b[0mobj\u001b[0m\u001b[1;33m=\u001b[0m\u001b[0mobj\u001b[0m\u001b[1;33m,\u001b[0m \u001b[0mfeval\u001b[0m\u001b[1;33m=\u001b[0m\u001b[0mfeval\u001b[0m\u001b[1;33m,\u001b[0m\u001b[1;33m\u001b[0m\u001b[1;33m\u001b[0m\u001b[0m\n\u001b[1;32m--> 216\u001b[1;33m                            xgb_model=xgb_model, callbacks=callbacks)\n\u001b[0m\u001b[0;32m    217\u001b[0m \u001b[1;33m\u001b[0m\u001b[0m\n\u001b[0;32m    218\u001b[0m \u001b[1;33m\u001b[0m\u001b[0m\n",
      "\u001b[1;32m~\\Anaconda3\\lib\\site-packages\\xgboost\\training.py\u001b[0m in \u001b[0;36m_train_internal\u001b[1;34m(params, dtrain, num_boost_round, evals, obj, feval, xgb_model, callbacks)\u001b[0m\n\u001b[0;32m     72\u001b[0m         \u001b[1;31m# Skip the first update if it is a recovery step.\u001b[0m\u001b[1;33m\u001b[0m\u001b[1;33m\u001b[0m\u001b[1;33m\u001b[0m\u001b[0m\n\u001b[0;32m     73\u001b[0m         \u001b[1;32mif\u001b[0m \u001b[0mversion\u001b[0m \u001b[1;33m%\u001b[0m \u001b[1;36m2\u001b[0m \u001b[1;33m==\u001b[0m \u001b[1;36m0\u001b[0m\u001b[1;33m:\u001b[0m\u001b[1;33m\u001b[0m\u001b[1;33m\u001b[0m\u001b[0m\n\u001b[1;32m---> 74\u001b[1;33m             \u001b[0mbst\u001b[0m\u001b[1;33m.\u001b[0m\u001b[0mupdate\u001b[0m\u001b[1;33m(\u001b[0m\u001b[0mdtrain\u001b[0m\u001b[1;33m,\u001b[0m \u001b[0mi\u001b[0m\u001b[1;33m,\u001b[0m \u001b[0mobj\u001b[0m\u001b[1;33m)\u001b[0m\u001b[1;33m\u001b[0m\u001b[1;33m\u001b[0m\u001b[0m\n\u001b[0m\u001b[0;32m     75\u001b[0m             \u001b[0mbst\u001b[0m\u001b[1;33m.\u001b[0m\u001b[0msave_rabit_checkpoint\u001b[0m\u001b[1;33m(\u001b[0m\u001b[1;33m)\u001b[0m\u001b[1;33m\u001b[0m\u001b[1;33m\u001b[0m\u001b[0m\n\u001b[0;32m     76\u001b[0m             \u001b[0mversion\u001b[0m \u001b[1;33m+=\u001b[0m \u001b[1;36m1\u001b[0m\u001b[1;33m\u001b[0m\u001b[1;33m\u001b[0m\u001b[0m\n",
      "\u001b[1;32m~\\Anaconda3\\lib\\site-packages\\xgboost\\core.py\u001b[0m in \u001b[0;36mupdate\u001b[1;34m(self, dtrain, iteration, fobj)\u001b[0m\n\u001b[0;32m   1107\u001b[0m         \u001b[1;32mif\u001b[0m \u001b[0mfobj\u001b[0m \u001b[1;32mis\u001b[0m \u001b[1;32mNone\u001b[0m\u001b[1;33m:\u001b[0m\u001b[1;33m\u001b[0m\u001b[1;33m\u001b[0m\u001b[0m\n\u001b[0;32m   1108\u001b[0m             _check_call(_LIB.XGBoosterUpdateOneIter(self.handle, ctypes.c_int(iteration),\n\u001b[1;32m-> 1109\u001b[1;33m                                                     dtrain.handle))\n\u001b[0m\u001b[0;32m   1110\u001b[0m         \u001b[1;32melse\u001b[0m\u001b[1;33m:\u001b[0m\u001b[1;33m\u001b[0m\u001b[1;33m\u001b[0m\u001b[0m\n\u001b[0;32m   1111\u001b[0m             \u001b[0mpred\u001b[0m \u001b[1;33m=\u001b[0m \u001b[0mself\u001b[0m\u001b[1;33m.\u001b[0m\u001b[0mpredict\u001b[0m\u001b[1;33m(\u001b[0m\u001b[0mdtrain\u001b[0m\u001b[1;33m)\u001b[0m\u001b[1;33m\u001b[0m\u001b[1;33m\u001b[0m\u001b[0m\n",
      "\u001b[1;31mKeyboardInterrupt\u001b[0m: "
     ]
    }
   ],
   "source": [
    "    tStart = time.time()#計時開始   \n",
    "    splits = 3\n",
    "    oof = np.zeros(len(X_train))\n",
    "    folds = KFold(n_splits = splits)\n",
    "    folds = GroupKFold(n_splits=splits)\n",
    "    ##folds = StratifiedKFold(n_splits=splits, shuffle=True, random_state=SEED)\n",
    "    split_groups = df['locdt'] #group\n",
    "    #split_groups = df['fraud_ind'] #startifiedkfold   \n",
    "    f1_avg = 0\n",
    "    auc_avg = 0\n",
    "    predictions = np.zeros(len(X_test))\n",
    "    print(X_train.shape)\n",
    "    print('train feature ',X_train.columns)\n",
    "    #for fold_, (trn_idx, val_idx) in enumerate(folds.split(X_train, Y_train)): #kfold\n",
    "    for fold_, (trn_idx, val_idx) in enumerate(folds.split(X_train, Y_train,groups=split_groups)): #groupkfold and startifiedfold\n",
    "        print('_'*100)\n",
    "    \n",
    "        print(\"Fold {}\".format(fold_))       \n",
    "             \n",
    "        \n",
    "        train_df, y_train_df = X_train.iloc[trn_idx], Y_train.iloc[trn_idx]\n",
    "        valid_df, y_valid_df = X_train.iloc[val_idx], Y_train.iloc[val_idx]\n",
    "        \n",
    "        trn_data = xgb.DMatrix(train_df, label=y_train_df)\n",
    "        val_data = xgb.DMatrix(valid_df, label=y_valid_df) \n",
    "        Dtrain_df = xgb.DMatrix(train_df)\n",
    "        Dvalid_df = xgb.DMatrix(valid_df)\n",
    "        DX_test = xgb.DMatrix(X_test)\n",
    "        watchlist = [(trn_data,'train'),(val_data,'val')]        \n",
    "       \n",
    "        \n",
    "        clf = xgb.train(params,\n",
    "                    trn_data,\n",
    "                    num_boost_round= 2,\n",
    "                    evals  =watchlist,             \n",
    "                    verbose_eval=100,\n",
    "                    early_stopping_rounds = 200\n",
    "                     )   \n",
    "        pred = clf.predict(Dvalid_df) \n",
    "        \n",
    "        oof[val_idx] = pred\n",
    "        #print(pred[0])\n",
    "       \n",
    "    \n",
    "        #print( \"  auc = \", roc_auc_score(y_valid_df, pred) )    \n",
    "        threshold = 0.5\n",
    "        y_pre = [int(item>threshold) for  item in pred]   \n",
    "        #print( \"  f1 = \", f1_score(y_valid_df, y_pre))\n",
    "        print( \"  confusion_matrix = \\r\\n\", confusion_matrix(y_valid_df, y_pre) )\n",
    "        auc_avg+= roc_auc_score(y_valid_df, pred)\n",
    "        f1_avg+=f1_score(y_valid_df, y_pre)\n",
    "        \n",
    "        predictions += clf.predict(DX_test) / splits\n",
    "        del trn_data, val_data\n",
    "        gc.collect()\n",
    "   \n",
    "        prediction = [int(item>threshold) for  item in predictions]    \n",
    " \n",
    "        plt.hist(pred,bins=100)\n",
    "        plt.ylim((0,6000))\n",
    "        plt.title('predict Submission')\n",
    "        plt.show()\n",
    "    pred_file_path = 'compare_fold_xgb.csv'\n",
    "    last_oof = np.array(pd.read_csv(pred_file_path))  \n",
    "    #print( \"avg  auc = \", auc_avg/ splits )\n",
    "    #print( \"avg  f1 = \", f1_avg/ splits)\n",
    "    print( \"last oof  auc = \", roc_auc_score(Y_train, last_oof) )\n",
    "    print( \"oof  auc = \", roc_auc_score(Y_train, oof) )  \n",
    "    last_oof_threshold = [int(item>0.5) for  item in last_oof] \n",
    "    oof_threshold = [int(item>0.5) for  item in oof]\n",
    "    print( \"last oof  f1 = \", f1_score(Y_train, last_oof_threshold))\n",
    "    print( \"oof  f1 = \", f1_score(Y_train, oof_threshold))\n",
    "    print( \"last oof  average_precision = \",average_precision_score(Y_train,last_oof))\n",
    "    print( \"oof  average_precision = \",average_precision_score(Y_train,oof))\n",
    "    print( \"confusion_matrix =\")\n",
    "    print(confusion_matrix(Y_train, oof_threshold))\n",
    "    if(roc_auc_score(Y_train, last_oof)<roc_auc_score(Y_train, oof)):\n",
    "        print(\"auc improve------------------------------------\")\n",
    "    if(f1_score(Y_train, last_oof_threshold)<f1_score(Y_train, oof_threshold)):\n",
    "        print(\"f1 improve------------------------------------\")\n",
    "    if(average_precision_score(Y_train,last_oof)<average_precision_score(Y_train,oof)):\n",
    "        print('ap improve-----------------------------------')\n",
    "    plt.hist(oof,bins=100)\n",
    "    plt.ylim((0,5000))\n",
    "    plt.title('Submission')\n",
    "    plt.show()  \n",
    "    tEnd = time.time()#計時結束\n",
    "    #列印結果\n",
    "    print (\"It cost %f sec\" % (tEnd - tStart))#會自動做近位  "
   ]
  },
  {
   "cell_type": "code",
   "execution_count": 45,
   "metadata": {},
   "outputs": [
    {
     "data": {
      "text/plain": [
       "<matplotlib.legend.Legend at 0x7f309a859090>"
      ]
     },
     "execution_count": 45,
     "metadata": {},
     "output_type": "execute_result"
    },
    {
     "name": "stderr",
     "output_type": "stream",
     "text": [
      "/home/IPL915/.conda/envs/KIWI/lib/python3.7/site-packages/IPython/core/events.py:88: UserWarning: Creating legend with loc=\"best\" can be slow with large amounts of data.\n",
      "  func(*args, **kwargs)\n",
      "/home/IPL915/.conda/envs/KIWI/lib/python3.7/site-packages/IPython/core/pylabtools.py:128: UserWarning: Creating legend with loc=\"best\" can be slow with large amounts of data.\n",
      "  fig.canvas.print_figure(bytes_io, **kw)\n"
     ]
    },
    {
     "data": {
      "image/png": "[encoded data removed]",
      "text/plain": [
       "<Figure size 576x576 with 1 Axes>"
      ]
     },
     "metadata": {
      "needs_background": "light"
     },
     "output_type": "display_data"
    }
   ],
   "source": [
    "# PR 曲线对比\n",
    "l_pr,l_re,l_t = precision_recall_curve(Y_train,last_oof)\n",
    "pr,re,t = precision_recall_curve(Y_train,oof)\n",
    "plt.figure(figsize=(8,8))\n",
    "plt.plot(l_pr,l_re,color='red',label='last best')\n",
    "plt.plot(pr,re,color='green',label=\"now\")\n",
    "plt.legend() \n"
   ]
  },
  {
   "cell_type": "code",
   "execution_count": 65,
   "metadata": {},
   "outputs": [
    {
     "data": {
      "image/png": "[encoded data removed]",
      "text/plain": [
       "<Figure size 720x720 with 1 Axes>"
      ]
     },
     "metadata": {
      "needs_background": "light"
     },
     "output_type": "display_data"
    }
   ],
   "source": [
    "fig, ax = plt.subplots(figsize=(10, 10))\n",
    "xgb.plot_importance(booster=clf,max_num_features = 40, ax=ax)\n",
    "plt.show()"
   ]
  },
  {
   "cell_type": "code",
   "execution_count": 66,
   "metadata": {
    "colab": {
     "base_uri": "https://localhost:8080/",
     "height": 634
    },
    "colab_type": "code",
    "id": "o268qqoARE3l",
    "outputId": "2c66bc77-1508-4c47-fe0a-286b48f2c5ab",
    "scrolled": true
   },
   "outputs": [
    {
     "data": {
      "image/png": "[encoded data removed]",
      "text/plain": [
       "<Figure size 432x288 with 1 Axes>"
      ]
     },
     "metadata": {
      "needs_background": "light"
     },
     "output_type": "display_data"
    },
    {
     "name": "stdout",
     "output_type": "stream",
     "text": [
      "testdata = 421665\n",
      "1.34% of testdata = 5650.0\n",
      "fraud predict = 7509\n"
     ]
    }
   ],
   "source": [
    "# 结果保存\n",
    "plt.hist(prediction,bins=100)\n",
    "plt.ylim((0,5000))\n",
    "plt.title('Submission')\n",
    "plt.show()\n",
    "sampleSubmission = pd.read_csv('submission_test_sample.csv')\n",
    "sampleSubmission['fraud_ind'] = prediction\n",
    "sampleSubmission.to_csv('submission_test_xgb.csv',index = None)\n",
    "\n",
    "print('testdata =',df_test['txkey'].count())\n",
    "print('1.34% of testdata =',round(df_test['txkey'].count()*0.0134))\n",
    "print('fraud predict =',sampleSubmission['fraud_ind'].value_counts()[1])\n"
   ]
  },
  {
   "cell_type": "code",
   "execution_count": 82,
   "metadata": {},
   "outputs": [
    {
     "name": "stdout",
     "output_type": "stream",
     "text": [
      "save  file...\n",
      "done here\n"
     ]
    }
   ],
   "source": [
    "'''是否将存为新指标'''\n",
    "print(\"save  file...\")\n",
    "last_pred = pd.DataFrame({'pred':oof})\n",
    "last_pred.to_csv('compare_fold_xgb.csv',index=None)"
   ]
  },
  {
   "cell_type": "code",
   "execution_count": null,
   "metadata": {},
   "outputs": [],
   "source": []
  },
  {
   "cell_type": "code",
   "execution_count": null,
   "metadata": {},
   "outputs": [],
   "source": []
  }
 ],
 "metadata": {
  "colab": {
   "name": "lightbgm_train.ipynb",
   "provenance": []
  },
  "kernelspec": {
   "display_name": "Python 3",
   "language": "python",
   "name": "python3"
  },
  "language_info": {
   "codemirror_mode": {
    "name": "ipython",
    "version": 3
   },
   "file_extension": ".py",
   "mimetype": "text/x-python",
   "name": "python",
   "nbconvert_exporter": "python",
   "pygments_lexer": "ipython3",
   "version": "3.7.3"
  }
 },
 "nbformat": 4,
 "nbformat_minor": 1
}
